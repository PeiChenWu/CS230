{
 "cells": [
  {
   "cell_type": "code",
   "execution_count": 1,
   "metadata": {},
   "outputs": [
    {
     "name": "stdout",
     "output_type": "stream",
     "text": [
      "pygame 1.9.6\n",
      "Hello from the pygame community. https://www.pygame.org/contribute.html\n"
     ]
    }
   ],
   "source": [
    "from ipynb.fs.full.DataSetUtils import generateAudioSet"
   ]
  },
  {
   "cell_type": "code",
   "execution_count": null,
   "metadata": {},
   "outputs": [
    {
     "name": "stdout",
     "output_type": "stream",
     "text": [
      "----- executing ------\n",
      "['--PJHxphWEs', 30, 40]\n"
     ]
    },
    {
     "name": "stderr",
     "output_type": "stream",
     "text": [
      "chunk:  32%|███▏      | 36/111 [00:00<00:00, 355.58it/s, now=None]"
     ]
    },
    {
     "name": "stdout",
     "output_type": "stream",
     "text": [
      "Moviepy - Building video ../data/5s_clips_40000/000000.mp4.\n",
      "MoviePy - Writing audio in %s\n"
     ]
    },
    {
     "name": "stderr",
     "output_type": "stream",
     "text": [
      "t:   7%|▋         | 11/150 [00:00<00:01, 101.97it/s, now=None]    "
     ]
    },
    {
     "name": "stdout",
     "output_type": "stream",
     "text": [
      "MoviePy - Done.\n",
      "Moviepy - Writing video ../data/5s_clips_40000/000000.mp4\n",
      "\n"
     ]
    },
    {
     "name": "stderr",
     "output_type": "stream",
     "text": [
      "chunk:  45%|████▌     | 50/111 [00:00<00:00, 484.38it/s, now=None]"
     ]
    },
    {
     "name": "stdout",
     "output_type": "stream",
     "text": [
      "Moviepy - Done !\n",
      "Moviepy - video ready ../data/5s_clips_40000/000000.mp4\n",
      "Moviepy - Building video ../data/5s_clips_40000/000001.mp4.\n",
      "MoviePy - Writing audio in %s\n"
     ]
    },
    {
     "name": "stderr",
     "output_type": "stream",
     "text": [
      "t:   7%|▋         | 11/150 [00:00<00:01, 107.24it/s, now=None]    "
     ]
    },
    {
     "name": "stdout",
     "output_type": "stream",
     "text": [
      "MoviePy - Done.\n",
      "Moviepy - Writing video ../data/5s_clips_40000/000001.mp4\n",
      "\n"
     ]
    },
    {
     "name": "stderr",
     "output_type": "stream",
     "text": [
      "                                                              \r"
     ]
    },
    {
     "name": "stdout",
     "output_type": "stream",
     "text": [
      "Moviepy - Done !\n",
      "Moviepy - video ready ../data/5s_clips_40000/000001.mp4\n",
      "--PJHxphWEs succeed.\n",
      "--PJHxphWEs deleted.\n",
      "----- finished ------\n",
      "----- executing ------\n",
      "['--ZhevVpy1s', 50, 60]\n"
     ]
    },
    {
     "name": "stderr",
     "output_type": "stream",
     "text": [
      "chunk:  29%|██▉       | 32/111 [00:00<00:00, 211.12it/s, now=None]"
     ]
    },
    {
     "name": "stdout",
     "output_type": "stream",
     "text": [
      "Moviepy - Building video ../data/5s_clips_40000/000002.mp4.\n",
      "MoviePy - Writing audio in %s\n"
     ]
    },
    {
     "name": "stderr",
     "output_type": "stream",
     "text": [
      "t:   8%|▊         | 12/150 [00:00<00:01, 112.60it/s, now=None]    "
     ]
    },
    {
     "name": "stdout",
     "output_type": "stream",
     "text": [
      "MoviePy - Done.\n",
      "Moviepy - Writing video ../data/5s_clips_40000/000002.mp4\n",
      "\n"
     ]
    },
    {
     "name": "stderr",
     "output_type": "stream",
     "text": [
      "chunk:  29%|██▉       | 32/111 [00:00<00:00, 292.10it/s, now=None]"
     ]
    },
    {
     "name": "stdout",
     "output_type": "stream",
     "text": [
      "Moviepy - Done !\n",
      "Moviepy - video ready ../data/5s_clips_40000/000002.mp4\n",
      "Moviepy - Building video ../data/5s_clips_40000/000003.mp4.\n",
      "MoviePy - Writing audio in %s\n"
     ]
    },
    {
     "name": "stderr",
     "output_type": "stream",
     "text": [
      "t:  10%|█         | 15/150 [00:00<00:00, 145.13it/s, now=None]     "
     ]
    },
    {
     "name": "stdout",
     "output_type": "stream",
     "text": [
      "MoviePy - Done.\n",
      "Moviepy - Writing video ../data/5s_clips_40000/000003.mp4\n",
      "\n"
     ]
    },
    {
     "name": "stderr",
     "output_type": "stream",
     "text": [
      "                                                              \r"
     ]
    },
    {
     "name": "stdout",
     "output_type": "stream",
     "text": [
      "Moviepy - Done !\n",
      "Moviepy - video ready ../data/5s_clips_40000/000003.mp4\n",
      "--ZhevVpy1s succeed.\n",
      "--ZhevVpy1s deleted.\n",
      "----- finished ------\n",
      "----- executing ------\n",
      "['--aE2O5G5WE', 0, 10]\n"
     ]
    },
    {
     "name": "stderr",
     "output_type": "stream",
     "text": [
      "\r",
      "chunk:   0%|          | 0/111 [00:00<?, ?it/s, now=None]"
     ]
    },
    {
     "name": "stdout",
     "output_type": "stream",
     "text": [
      "Moviepy - Building video ../data/5s_clips_40000/000004.mp4.\n",
      "MoviePy - Writing audio in %s\n"
     ]
    },
    {
     "name": "stderr",
     "output_type": "stream",
     "text": [
      "t:   8%|▊         | 10/125 [00:00<00:01, 99.39it/s, now=None]      "
     ]
    },
    {
     "name": "stdout",
     "output_type": "stream",
     "text": [
      "MoviePy - Done.\n",
      "Moviepy - Writing video ../data/5s_clips_40000/000004.mp4\n",
      "\n"
     ]
    },
    {
     "name": "stderr",
     "output_type": "stream",
     "text": [
      "chunk:  34%|███▍      | 38/111 [00:00<00:00, 370.62it/s, now=None]"
     ]
    },
    {
     "name": "stdout",
     "output_type": "stream",
     "text": [
      "Moviepy - Done !\n",
      "Moviepy - video ready ../data/5s_clips_40000/000004.mp4\n",
      "Moviepy - Building video ../data/5s_clips_40000/000005.mp4.\n",
      "MoviePy - Writing audio in %s\n"
     ]
    },
    {
     "name": "stderr",
     "output_type": "stream",
     "text": [
      "t:  11%|█         | 14/125 [00:00<00:00, 137.48it/s, now=None]     "
     ]
    },
    {
     "name": "stdout",
     "output_type": "stream",
     "text": [
      "MoviePy - Done.\n",
      "Moviepy - Writing video ../data/5s_clips_40000/000005.mp4\n",
      "\n"
     ]
    },
    {
     "name": "stderr",
     "output_type": "stream",
     "text": [
      "                                                              \r"
     ]
    },
    {
     "name": "stdout",
     "output_type": "stream",
     "text": [
      "Moviepy - Done !\n",
      "Moviepy - video ready ../data/5s_clips_40000/000005.mp4\n",
      "--aE2O5G5WE succeed.\n",
      "--aE2O5G5WE deleted.\n",
      "----- finished ------\n",
      "----- executing ------\n",
      "['--aO5cdqSAg', 30, 40]\n"
     ]
    },
    {
     "name": "stderr",
     "output_type": "stream",
     "text": [
      "chunk:  29%|██▉       | 32/111 [00:00<00:00, 206.72it/s, now=None]"
     ]
    },
    {
     "name": "stdout",
     "output_type": "stream",
     "text": [
      "Moviepy - Building video ../data/5s_clips_40000/000006.mp4.\n",
      "MoviePy - Writing audio in %s\n"
     ]
    },
    {
     "name": "stderr",
     "output_type": "stream",
     "text": [
      "                                                                   "
     ]
    },
    {
     "name": "stdout",
     "output_type": "stream",
     "text": [
      "MoviePy - Done.\n",
      "Moviepy - Writing video ../data/5s_clips_40000/000006.mp4\n",
      "\n"
     ]
    },
    {
     "name": "stderr",
     "output_type": "stream",
     "text": [
      "chunk:  34%|███▍      | 38/111 [00:00<00:00, 356.58it/s, now=None]"
     ]
    },
    {
     "name": "stdout",
     "output_type": "stream",
     "text": [
      "Moviepy - Done !\n",
      "Moviepy - video ready ../data/5s_clips_40000/000006.mp4\n",
      "Moviepy - Building video ../data/5s_clips_40000/000007.mp4.\n",
      "MoviePy - Writing audio in %s\n"
     ]
    },
    {
     "name": "stderr",
     "output_type": "stream",
     "text": [
      "                                                                   "
     ]
    },
    {
     "name": "stdout",
     "output_type": "stream",
     "text": [
      "MoviePy - Done.\n",
      "Moviepy - Writing video ../data/5s_clips_40000/000007.mp4\n",
      "\n"
     ]
    },
    {
     "name": "stderr",
     "output_type": "stream",
     "text": [
      "\r"
     ]
    },
    {
     "name": "stdout",
     "output_type": "stream",
     "text": [
      "Moviepy - Done !\n",
      "Moviepy - video ready ../data/5s_clips_40000/000007.mp4\n",
      "--aO5cdqSAg succeed.\n",
      "--aO5cdqSAg deleted.\n",
      "----- finished ------\n",
      "----- executing ------\n",
      "['--aaILOrkII', 200, 210]\n"
     ]
    },
    {
     "name": "stderr",
     "output_type": "stream",
     "text": [
      "chunk:  29%|██▉       | 32/111 [00:00<00:00, 269.55it/s, now=None]"
     ]
    },
    {
     "name": "stdout",
     "output_type": "stream",
     "text": [
      "Moviepy - Building video ../data/5s_clips_40000/000008.mp4.\n",
      "MoviePy - Writing audio in %s\n"
     ]
    },
    {
     "name": "stderr",
     "output_type": "stream",
     "text": [
      "t:   8%|▊         | 12/150 [00:00<00:01, 112.84it/s, now=None]    "
     ]
    },
    {
     "name": "stdout",
     "output_type": "stream",
     "text": [
      "MoviePy - Done.\n",
      "Moviepy - Writing video ../data/5s_clips_40000/000008.mp4\n",
      "\n"
     ]
    },
    {
     "name": "stderr",
     "output_type": "stream",
     "text": [
      "chunk:  34%|███▍      | 38/111 [00:00<00:00, 363.00it/s, now=None]"
     ]
    },
    {
     "name": "stdout",
     "output_type": "stream",
     "text": [
      "Moviepy - Done !\n",
      "Moviepy - video ready ../data/5s_clips_40000/000008.mp4\n",
      "Moviepy - Building video ../data/5s_clips_40000/000009.mp4.\n",
      "MoviePy - Writing audio in %s\n"
     ]
    },
    {
     "name": "stderr",
     "output_type": "stream",
     "text": [
      "t:   9%|▉         | 14/150 [00:00<00:01, 126.11it/s, now=None]     "
     ]
    },
    {
     "name": "stdout",
     "output_type": "stream",
     "text": [
      "MoviePy - Done.\n",
      "Moviepy - Writing video ../data/5s_clips_40000/000009.mp4\n",
      "\n"
     ]
    },
    {
     "name": "stderr",
     "output_type": "stream",
     "text": [
      "                                                              \r"
     ]
    },
    {
     "name": "stdout",
     "output_type": "stream",
     "text": [
      "Moviepy - Done !\n",
      "Moviepy - video ready ../data/5s_clips_40000/000009.mp4\n",
      "--aaILOrkII succeed.\n",
      "--aaILOrkII deleted.\n",
      "----- finished ------\n",
      "----- executing ------\n",
      "['--cB2ZVjpnA', 30, 40]\n"
     ]
    },
    {
     "name": "stderr",
     "output_type": "stream",
     "text": [
      "chunk:  31%|███       | 34/111 [00:00<00:00, 326.40it/s, now=None]"
     ]
    },
    {
     "name": "stdout",
     "output_type": "stream",
     "text": [
      "Moviepy - Building video ../data/5s_clips_40000/000010.mp4.\n",
      "MoviePy - Writing audio in %s\n"
     ]
    },
    {
     "name": "stderr",
     "output_type": "stream",
     "text": [
      "t:   9%|▊         | 13/150 [00:00<00:01, 127.34it/s, now=None]    "
     ]
    },
    {
     "name": "stdout",
     "output_type": "stream",
     "text": [
      "MoviePy - Done.\n",
      "Moviepy - Writing video ../data/5s_clips_40000/000010.mp4\n",
      "\n"
     ]
    },
    {
     "name": "stderr",
     "output_type": "stream",
     "text": [
      "chunk:  39%|███▊      | 43/111 [00:00<00:00, 400.49it/s, now=None]"
     ]
    },
    {
     "name": "stdout",
     "output_type": "stream",
     "text": [
      "Moviepy - Done !\n",
      "Moviepy - video ready ../data/5s_clips_40000/000010.mp4\n",
      "Moviepy - Building video ../data/5s_clips_40000/000011.mp4.\n",
      "MoviePy - Writing audio in %s\n"
     ]
    },
    {
     "name": "stderr",
     "output_type": "stream",
     "text": [
      "t:   9%|▉         | 14/150 [00:00<00:00, 136.44it/s, now=None]    "
     ]
    },
    {
     "name": "stdout",
     "output_type": "stream",
     "text": [
      "MoviePy - Done.\n",
      "Moviepy - Writing video ../data/5s_clips_40000/000011.mp4\n",
      "\n"
     ]
    },
    {
     "name": "stderr",
     "output_type": "stream",
     "text": [
      "                                                              \r"
     ]
    },
    {
     "name": "stdout",
     "output_type": "stream",
     "text": [
      "Moviepy - Done !\n",
      "Moviepy - video ready ../data/5s_clips_40000/000011.mp4\n",
      "--cB2ZVjpnA succeed.\n",
      "--cB2ZVjpnA deleted.\n",
      "----- finished ------\n",
      "----- executing ------\n",
      "['--ekDLDTUXA', 30, 40]\n"
     ]
    },
    {
     "name": "stderr",
     "output_type": "stream",
     "text": [
      "chunk:  29%|██▉       | 32/111 [00:00<00:00, 266.79it/s, now=None]"
     ]
    },
    {
     "name": "stdout",
     "output_type": "stream",
     "text": [
      "Moviepy - Building video ../data/5s_clips_40000/000012.mp4.\n",
      "MoviePy - Writing audio in %s\n"
     ]
    },
    {
     "name": "stderr",
     "output_type": "stream",
     "text": [
      "t:  24%|██▍       | 36/150 [00:00<00:00, 352.09it/s, now=None]    "
     ]
    },
    {
     "name": "stdout",
     "output_type": "stream",
     "text": [
      "MoviePy - Done.\n",
      "Moviepy - Writing video ../data/5s_clips_40000/000012.mp4\n",
      "\n"
     ]
    },
    {
     "name": "stderr",
     "output_type": "stream",
     "text": [
      "chunk:  31%|███       | 34/111 [00:00<00:00, 328.58it/s, now=None]"
     ]
    },
    {
     "name": "stdout",
     "output_type": "stream",
     "text": [
      "Moviepy - Done !\n",
      "Moviepy - video ready ../data/5s_clips_40000/000012.mp4\n",
      "Moviepy - Building video ../data/5s_clips_40000/000013.mp4.\n",
      "MoviePy - Writing audio in %s\n"
     ]
    },
    {
     "name": "stderr",
     "output_type": "stream",
     "text": [
      "t:  27%|██▋       | 41/150 [00:00<00:00, 408.28it/s, now=None]     "
     ]
    },
    {
     "name": "stdout",
     "output_type": "stream",
     "text": [
      "MoviePy - Done.\n",
      "Moviepy - Writing video ../data/5s_clips_40000/000013.mp4\n",
      "\n"
     ]
    },
    {
     "name": "stderr",
     "output_type": "stream",
     "text": [
      "                                                               \r"
     ]
    },
    {
     "name": "stdout",
     "output_type": "stream",
     "text": [
      "Moviepy - Done !\n",
      "Moviepy - video ready ../data/5s_clips_40000/000013.mp4\n",
      "--ekDLDTUXA succeed.\n",
      "--ekDLDTUXA deleted.\n",
      "----- finished ------\n",
      "----- executing ------\n",
      "['-0DLPzsiXXE', 30, 40]\n"
     ]
    },
    {
     "name": "stderr",
     "output_type": "stream",
     "text": [
      "chunk:  29%|██▉       | 32/111 [00:00<00:00, 256.09it/s, now=None]"
     ]
    },
    {
     "name": "stdout",
     "output_type": "stream",
     "text": [
      "Moviepy - Building video ../data/5s_clips_40000/000014.mp4.\n",
      "MoviePy - Writing audio in %s\n"
     ]
    },
    {
     "name": "stderr",
     "output_type": "stream",
     "text": [
      "t:  31%|███       | 39/125 [00:00<00:00, 380.55it/s, now=None]    "
     ]
    },
    {
     "name": "stdout",
     "output_type": "stream",
     "text": [
      "MoviePy - Done.\n",
      "Moviepy - Writing video ../data/5s_clips_40000/000014.mp4\n",
      "\n"
     ]
    },
    {
     "name": "stderr",
     "output_type": "stream",
     "text": [
      "chunk:  32%|███▏      | 35/111 [00:00<00:00, 349.09it/s, now=None]"
     ]
    },
    {
     "name": "stdout",
     "output_type": "stream",
     "text": [
      "Moviepy - Done !\n",
      "Moviepy - video ready ../data/5s_clips_40000/000014.mp4\n",
      "Moviepy - Building video ../data/5s_clips_40000/000015.mp4.\n",
      "MoviePy - Writing audio in %s\n"
     ]
    },
    {
     "name": "stderr",
     "output_type": "stream",
     "text": [
      "t:  34%|███▎      | 42/125 [00:00<00:00, 414.66it/s, now=None]    "
     ]
    },
    {
     "name": "stdout",
     "output_type": "stream",
     "text": [
      "MoviePy - Done.\n",
      "Moviepy - Writing video ../data/5s_clips_40000/000015.mp4\n",
      "\n"
     ]
    },
    {
     "name": "stderr",
     "output_type": "stream",
     "text": [
      "                                                               \r"
     ]
    },
    {
     "name": "stdout",
     "output_type": "stream",
     "text": [
      "Moviepy - Done !\n",
      "Moviepy - video ready ../data/5s_clips_40000/000015.mp4\n",
      "-0DLPzsiXXE succeed.\n",
      "-0DLPzsiXXE deleted.\n",
      "----- finished ------\n",
      "----- executing ------\n",
      "['-0DdlOuIFUI', 50, 60]\n"
     ]
    },
    {
     "name": "stderr",
     "output_type": "stream",
     "text": [
      "chunk:  38%|███▊      | 42/111 [00:00<00:00, 406.80it/s, now=None]"
     ]
    },
    {
     "name": "stdout",
     "output_type": "stream",
     "text": [
      "Moviepy - Building video ../data/5s_clips_40000/000016.mp4.\n",
      "MoviePy - Writing audio in %s\n"
     ]
    },
    {
     "name": "stderr",
     "output_type": "stream",
     "text": [
      "t:  42%|████▏     | 63/150 [00:00<00:00, 625.39it/s, now=None]    "
     ]
    },
    {
     "name": "stdout",
     "output_type": "stream",
     "text": [
      "MoviePy - Done.\n",
      "Moviepy - Writing video ../data/5s_clips_40000/000016.mp4\n",
      "\n"
     ]
    },
    {
     "name": "stderr",
     "output_type": "stream",
     "text": [
      "chunk:  36%|███▌      | 40/111 [00:00<00:00, 394.43it/s, now=None]"
     ]
    },
    {
     "name": "stdout",
     "output_type": "stream",
     "text": [
      "Moviepy - Done !\n",
      "Moviepy - video ready ../data/5s_clips_40000/000016.mp4\n",
      "Moviepy - Building video ../data/5s_clips_40000/000017.mp4.\n",
      "MoviePy - Writing audio in %s\n"
     ]
    },
    {
     "name": "stderr",
     "output_type": "stream",
     "text": [
      "t:  42%|████▏     | 63/150 [00:00<00:00, 629.84it/s, now=None]    "
     ]
    },
    {
     "name": "stdout",
     "output_type": "stream",
     "text": [
      "MoviePy - Done.\n",
      "Moviepy - Writing video ../data/5s_clips_40000/000017.mp4\n",
      "\n"
     ]
    },
    {
     "name": "stderr",
     "output_type": "stream",
     "text": [
      "                                                               \r"
     ]
    },
    {
     "name": "stdout",
     "output_type": "stream",
     "text": [
      "Moviepy - Done !\n",
      "Moviepy - video ready ../data/5s_clips_40000/000017.mp4\n",
      "-0DdlOuIFUI succeed.\n",
      "-0DdlOuIFUI deleted.\n",
      "----- finished ------\n",
      "----- executing ------\n",
      "['-0FHUc78Gqo', 30, 40]\n"
     ]
    },
    {
     "name": "stderr",
     "output_type": "stream",
     "text": [
      "chunk:  29%|██▉       | 32/111 [00:00<00:00, 282.16it/s, now=None]"
     ]
    },
    {
     "name": "stdout",
     "output_type": "stream",
     "text": [
      "Moviepy - Building video ../data/5s_clips_40000/000018.mp4.\n",
      "MoviePy - Writing audio in %s\n"
     ]
    },
    {
     "name": "stderr",
     "output_type": "stream",
     "text": [
      "chunk:   0%|          | 0/111 [00:00<?, ?it/s, now=None]          "
     ]
    },
    {
     "name": "stdout",
     "output_type": "stream",
     "text": [
      "MoviePy - Done.\n",
      "Moviepy - Writing video ../data/5s_clips_40000/000018.mp4\n",
      "\n",
      "Moviepy - Done !\n",
      "Moviepy - video ready ../data/5s_clips_40000/000018.mp4\n",
      "Moviepy - Building video ../data/5s_clips_40000/000019.mp4.\n",
      "MoviePy - Writing audio in %s\n"
     ]
    },
    {
     "name": "stderr",
     "output_type": "stream",
     "text": [
      "                                                                   \r"
     ]
    },
    {
     "name": "stdout",
     "output_type": "stream",
     "text": [
      "MoviePy - Done.\n",
      "Moviepy - Writing video ../data/5s_clips_40000/000019.mp4\n",
      "\n",
      "Moviepy - Done !\n",
      "Moviepy - video ready ../data/5s_clips_40000/000019.mp4\n",
      "-0FHUc78Gqo succeed.\n",
      "-0FHUc78Gqo deleted.\n",
      "----- finished ------\n",
      "----- executing ------\n",
      "['-0O3e95y4gE', 100, 110]\n"
     ]
    },
    {
     "name": "stderr",
     "output_type": "stream",
     "text": [
      "chunk:  29%|██▉       | 32/111 [00:00<00:00, 175.22it/s, now=None]"
     ]
    },
    {
     "name": "stdout",
     "output_type": "stream",
     "text": [
      "Moviepy - Building video ../data/5s_clips_40000/000020.mp4.\n",
      "MoviePy - Writing audio in %s\n"
     ]
    },
    {
     "name": "stderr",
     "output_type": "stream",
     "text": [
      "t:  11%|█         | 16/150 [00:00<00:00, 156.29it/s, now=None]    "
     ]
    },
    {
     "name": "stdout",
     "output_type": "stream",
     "text": [
      "MoviePy - Done.\n",
      "Moviepy - Writing video ../data/5s_clips_40000/000020.mp4\n",
      "\n"
     ]
    },
    {
     "name": "stderr",
     "output_type": "stream",
     "text": [
      "chunk:  44%|████▍     | 49/111 [00:00<00:00, 488.53it/s, now=None]"
     ]
    },
    {
     "name": "stdout",
     "output_type": "stream",
     "text": [
      "Moviepy - Done !\n",
      "Moviepy - video ready ../data/5s_clips_40000/000020.mp4\n",
      "Moviepy - Building video ../data/5s_clips_40000/000021.mp4.\n",
      "MoviePy - Writing audio in %s\n"
     ]
    },
    {
     "name": "stderr",
     "output_type": "stream",
     "text": [
      "t:  11%|█         | 16/150 [00:00<00:00, 146.90it/s, now=None]    "
     ]
    },
    {
     "name": "stdout",
     "output_type": "stream",
     "text": [
      "MoviePy - Done.\n",
      "Moviepy - Writing video ../data/5s_clips_40000/000021.mp4\n",
      "\n"
     ]
    },
    {
     "name": "stderr",
     "output_type": "stream",
     "text": [
      "                                                               \r"
     ]
    },
    {
     "name": "stdout",
     "output_type": "stream",
     "text": [
      "Moviepy - Done !\n",
      "Moviepy - video ready ../data/5s_clips_40000/000021.mp4\n",
      "-0O3e95y4gE succeed.\n",
      "-0O3e95y4gE deleted.\n",
      "----- finished ------\n",
      "----- executing ------\n",
      "['-0SdAVK79lg', 30, 40]\n"
     ]
    },
    {
     "name": "stderr",
     "output_type": "stream",
     "text": [
      "chunk:  29%|██▉       | 32/111 [00:00<00:00, 247.93it/s, now=None]"
     ]
    },
    {
     "name": "stdout",
     "output_type": "stream",
     "text": [
      "Moviepy - Building video ../data/5s_clips_40000/000022.mp4.\n",
      "MoviePy - Writing audio in %s\n"
     ]
    },
    {
     "name": "stderr",
     "output_type": "stream",
     "text": [
      "t:  10%|█         | 15/150 [00:00<00:00, 137.17it/s, now=None]    "
     ]
    },
    {
     "name": "stdout",
     "output_type": "stream",
     "text": [
      "MoviePy - Done.\n",
      "Moviepy - Writing video ../data/5s_clips_40000/000022.mp4\n",
      "\n"
     ]
    },
    {
     "name": "stderr",
     "output_type": "stream",
     "text": [
      "chunk:  34%|███▍      | 38/111 [00:00<00:00, 365.69it/s, now=None]"
     ]
    },
    {
     "name": "stdout",
     "output_type": "stream",
     "text": [
      "Moviepy - Done !\n",
      "Moviepy - video ready ../data/5s_clips_40000/000022.mp4\n",
      "Moviepy - Building video ../data/5s_clips_40000/000023.mp4.\n",
      "MoviePy - Writing audio in %s\n"
     ]
    },
    {
     "name": "stderr",
     "output_type": "stream",
     "text": [
      "t:  10%|█         | 15/150 [00:00<00:00, 139.35it/s, now=None]     "
     ]
    },
    {
     "name": "stdout",
     "output_type": "stream",
     "text": [
      "MoviePy - Done.\n",
      "Moviepy - Writing video ../data/5s_clips_40000/000023.mp4\n",
      "\n"
     ]
    },
    {
     "name": "stderr",
     "output_type": "stream",
     "text": [
      "                                                              \r"
     ]
    },
    {
     "name": "stdout",
     "output_type": "stream",
     "text": [
      "Moviepy - Done !\n",
      "Moviepy - video ready ../data/5s_clips_40000/000023.mp4\n",
      "-0SdAVK79lg succeed.\n",
      "-0SdAVK79lg deleted.\n",
      "----- finished ------\n",
      "----- executing ------\n",
      "['-0Vl4HyWRk8', 410, 420]\n",
      "-0Vl4HyWRk8 failed.\n",
      "----- finished ------\n",
      "----- executing ------\n",
      "['-0mG4W5Hlq8', 270, 280]\n",
      "-0mG4W5Hlq8 failed.\n",
      "----- finished ------\n",
      "----- executing ------\n",
      "['-0mjrMposBM', 80, 90]\n"
     ]
    },
    {
     "name": "stderr",
     "output_type": "stream",
     "text": [
      "chunk:  29%|██▉       | 32/111 [00:00<00:00, 190.95it/s, now=None]"
     ]
    },
    {
     "name": "stdout",
     "output_type": "stream",
     "text": [
      "Moviepy - Building video ../data/5s_clips_40000/000024.mp4.\n",
      "MoviePy - Writing audio in %s\n"
     ]
    },
    {
     "name": "stderr",
     "output_type": "stream",
     "text": [
      "t:   9%|▉         | 14/150 [00:00<00:00, 138.61it/s, now=None]    "
     ]
    },
    {
     "name": "stdout",
     "output_type": "stream",
     "text": [
      "MoviePy - Done.\n",
      "Moviepy - Writing video ../data/5s_clips_40000/000024.mp4\n",
      "\n"
     ]
    },
    {
     "name": "stderr",
     "output_type": "stream",
     "text": [
      "chunk:  29%|██▉       | 32/111 [00:00<00:00, 312.27it/s, now=None]"
     ]
    },
    {
     "name": "stdout",
     "output_type": "stream",
     "text": [
      "Moviepy - Done !\n",
      "Moviepy - video ready ../data/5s_clips_40000/000024.mp4\n",
      "Moviepy - Building video ../data/5s_clips_40000/000025.mp4.\n",
      "MoviePy - Writing audio in %s\n"
     ]
    },
    {
     "name": "stderr",
     "output_type": "stream",
     "text": [
      "t:   9%|▉         | 14/150 [00:00<00:01, 122.69it/s, now=None]    "
     ]
    },
    {
     "name": "stdout",
     "output_type": "stream",
     "text": [
      "MoviePy - Done.\n",
      "Moviepy - Writing video ../data/5s_clips_40000/000025.mp4\n",
      "\n"
     ]
    },
    {
     "name": "stderr",
     "output_type": "stream",
     "text": [
      "                                                              \r"
     ]
    },
    {
     "name": "stdout",
     "output_type": "stream",
     "text": [
      "Moviepy - Done !\n",
      "Moviepy - video ready ../data/5s_clips_40000/000025.mp4\n",
      "-0mjrMposBM succeed.\n",
      "-0mjrMposBM deleted.\n",
      "----- finished ------\n",
      "----- executing ------\n",
      "['-11LhdJgBb8', 30, 40]\n"
     ]
    },
    {
     "name": "stderr",
     "output_type": "stream",
     "text": [
      "chunk:  29%|██▉       | 32/111 [00:00<00:00, 219.54it/s, now=None]"
     ]
    },
    {
     "name": "stdout",
     "output_type": "stream",
     "text": [
      "Moviepy - Building video ../data/5s_clips_40000/000026.mp4.\n",
      "MoviePy - Writing audio in %s\n"
     ]
    },
    {
     "name": "stderr",
     "output_type": "stream",
     "text": [
      "t:  27%|██▋       | 34/125 [00:00<00:00, 332.89it/s, now=None]     "
     ]
    },
    {
     "name": "stdout",
     "output_type": "stream",
     "text": [
      "MoviePy - Done.\n",
      "Moviepy - Writing video ../data/5s_clips_40000/000026.mp4\n",
      "\n"
     ]
    },
    {
     "name": "stderr",
     "output_type": "stream",
     "text": [
      "chunk:  32%|███▏      | 36/111 [00:00<00:00, 355.42it/s, now=None]"
     ]
    },
    {
     "name": "stdout",
     "output_type": "stream",
     "text": [
      "Moviepy - Done !\n",
      "Moviepy - video ready ../data/5s_clips_40000/000026.mp4\n",
      "Moviepy - Building video ../data/5s_clips_40000/000027.mp4.\n",
      "MoviePy - Writing audio in %s\n"
     ]
    },
    {
     "name": "stderr",
     "output_type": "stream",
     "text": [
      "t:  32%|███▏      | 40/125 [00:00<00:00, 394.09it/s, now=None]     "
     ]
    },
    {
     "name": "stdout",
     "output_type": "stream",
     "text": [
      "MoviePy - Done.\n",
      "Moviepy - Writing video ../data/5s_clips_40000/000027.mp4\n",
      "\n"
     ]
    },
    {
     "name": "stderr",
     "output_type": "stream",
     "text": [
      "                                                               \r"
     ]
    },
    {
     "name": "stdout",
     "output_type": "stream",
     "text": [
      "Moviepy - Done !\n",
      "Moviepy - video ready ../data/5s_clips_40000/000027.mp4\n",
      "-11LhdJgBb8 succeed.\n",
      "-11LhdJgBb8 deleted.\n",
      "----- finished ------\n",
      "----- executing ------\n",
      "['-1LrH01Ei1w', 30, 40]\n"
     ]
    },
    {
     "name": "stderr",
     "output_type": "stream",
     "text": [
      "chunk:  31%|███       | 34/111 [00:00<00:00, 330.28it/s, now=None]"
     ]
    },
    {
     "name": "stdout",
     "output_type": "stream",
     "text": [
      "Moviepy - Building video ../data/5s_clips_40000/000028.mp4.\n",
      "MoviePy - Writing audio in %s\n"
     ]
    },
    {
     "name": "stderr",
     "output_type": "stream",
     "text": [
      "chunk:   0%|          | 0/111 [00:00<?, ?it/s, now=None]           "
     ]
    },
    {
     "name": "stdout",
     "output_type": "stream",
     "text": [
      "MoviePy - Done.\n",
      "Moviepy - Writing video ../data/5s_clips_40000/000028.mp4\n",
      "\n",
      "Moviepy - Done !\n",
      "Moviepy - video ready ../data/5s_clips_40000/000028.mp4\n",
      "Moviepy - Building video ../data/5s_clips_40000/000029.mp4.\n",
      "MoviePy - Writing audio in %s\n"
     ]
    },
    {
     "name": "stderr",
     "output_type": "stream",
     "text": [
      "                                                                  \r"
     ]
    },
    {
     "name": "stdout",
     "output_type": "stream",
     "text": [
      "MoviePy - Done.\n",
      "Moviepy - Writing video ../data/5s_clips_40000/000029.mp4\n",
      "\n",
      "Moviepy - Done !\n",
      "Moviepy - video ready ../data/5s_clips_40000/000029.mp4\n",
      "-1LrH01Ei1w succeed.\n",
      "-1LrH01Ei1w deleted.\n",
      "----- finished ------\n",
      "----- executing ------\n",
      "['-1TLtjPtnms', 10, 20]\n"
     ]
    },
    {
     "name": "stderr",
     "output_type": "stream",
     "text": [
      "chunk:  29%|██▉       | 32/111 [00:00<00:00, 240.63it/s, now=None]"
     ]
    },
    {
     "name": "stdout",
     "output_type": "stream",
     "text": [
      "Moviepy - Building video ../data/5s_clips_40000/000030.mp4.\n",
      "MoviePy - Writing audio in %s\n"
     ]
    },
    {
     "name": "stderr",
     "output_type": "stream",
     "text": [
      "t:  46%|████▌     | 57/125 [00:00<00:00, 560.84it/s, now=None]     "
     ]
    },
    {
     "name": "stdout",
     "output_type": "stream",
     "text": [
      "MoviePy - Done.\n",
      "Moviepy - Writing video ../data/5s_clips_40000/000030.mp4\n",
      "\n"
     ]
    },
    {
     "name": "stderr",
     "output_type": "stream",
     "text": [
      "chunk:  34%|███▍      | 38/111 [00:00<00:00, 376.22it/s, now=None]"
     ]
    },
    {
     "name": "stdout",
     "output_type": "stream",
     "text": [
      "Moviepy - Done !\n",
      "Moviepy - video ready ../data/5s_clips_40000/000030.mp4\n",
      "Moviepy - Building video ../data/5s_clips_40000/000031.mp4.\n",
      "MoviePy - Writing audio in %s\n"
     ]
    },
    {
     "name": "stderr",
     "output_type": "stream",
     "text": [
      "t:  46%|████▌     | 57/125 [00:00<00:00, 567.54it/s, now=None]     "
     ]
    },
    {
     "name": "stdout",
     "output_type": "stream",
     "text": [
      "MoviePy - Done.\n",
      "Moviepy - Writing video ../data/5s_clips_40000/000031.mp4\n",
      "\n"
     ]
    },
    {
     "name": "stderr",
     "output_type": "stream",
     "text": [
      "                                                               \r"
     ]
    },
    {
     "name": "stdout",
     "output_type": "stream",
     "text": [
      "Moviepy - Done !\n",
      "Moviepy - video ready ../data/5s_clips_40000/000031.mp4\n",
      "-1TLtjPtnms succeed.\n",
      "-1TLtjPtnms deleted.\n",
      "----- finished ------\n",
      "----- executing ------\n",
      "['-1iKLvsRBbE', 80, 90]\n"
     ]
    },
    {
     "name": "stderr",
     "output_type": "stream",
     "text": [
      "chunk:  29%|██▉       | 32/111 [00:00<00:00, 275.83it/s, now=None]"
     ]
    },
    {
     "name": "stdout",
     "output_type": "stream",
     "text": [
      "Moviepy - Building video ../data/5s_clips_40000/000032.mp4.\n",
      "MoviePy - Writing audio in %s\n"
     ]
    },
    {
     "name": "stderr",
     "output_type": "stream",
     "text": [
      "t:  33%|███▎      | 49/150 [00:00<00:00, 477.95it/s, now=None]     "
     ]
    },
    {
     "name": "stdout",
     "output_type": "stream",
     "text": [
      "MoviePy - Done.\n",
      "Moviepy - Writing video ../data/5s_clips_40000/000032.mp4\n",
      "\n"
     ]
    },
    {
     "name": "stderr",
     "output_type": "stream",
     "text": [
      "chunk:  31%|███       | 34/111 [00:00<00:00, 319.71it/s, now=None]"
     ]
    },
    {
     "name": "stdout",
     "output_type": "stream",
     "text": [
      "Moviepy - Done !\n",
      "Moviepy - video ready ../data/5s_clips_40000/000032.mp4\n",
      "Moviepy - Building video ../data/5s_clips_40000/000033.mp4.\n",
      "MoviePy - Writing audio in %s\n"
     ]
    },
    {
     "name": "stderr",
     "output_type": "stream",
     "text": [
      "t:  25%|██▍       | 37/150 [00:00<00:00, 357.83it/s, now=None]    "
     ]
    },
    {
     "name": "stdout",
     "output_type": "stream",
     "text": [
      "MoviePy - Done.\n",
      "Moviepy - Writing video ../data/5s_clips_40000/000033.mp4\n",
      "\n"
     ]
    },
    {
     "name": "stderr",
     "output_type": "stream",
     "text": [
      "                                                               \r"
     ]
    },
    {
     "name": "stdout",
     "output_type": "stream",
     "text": [
      "Moviepy - Done !\n",
      "Moviepy - video ready ../data/5s_clips_40000/000033.mp4\n",
      "-1iKLvsRBbE succeed.\n",
      "-1iKLvsRBbE deleted.\n",
      "----- finished ------\n",
      "----- executing ------\n",
      "['-24dqQM_rDk', 30, 40]\n"
     ]
    },
    {
     "name": "stderr",
     "output_type": "stream",
     "text": [
      "chunk:  29%|██▉       | 32/111 [00:00<00:00, 294.37it/s, now=None]"
     ]
    },
    {
     "name": "stdout",
     "output_type": "stream",
     "text": [
      "Moviepy - Building video ../data/5s_clips_40000/000034.mp4.\n",
      "MoviePy - Writing audio in %s\n"
     ]
    },
    {
     "name": "stderr",
     "output_type": "stream",
     "text": [
      "t:  32%|███▏      | 48/150 [00:00<00:00, 464.52it/s, now=None]     "
     ]
    },
    {
     "name": "stdout",
     "output_type": "stream",
     "text": [
      "MoviePy - Done.\n",
      "Moviepy - Writing video ../data/5s_clips_40000/000034.mp4\n",
      "\n"
     ]
    },
    {
     "name": "stderr",
     "output_type": "stream",
     "text": [
      "chunk:  39%|███▊      | 43/111 [00:00<00:00, 400.97it/s, now=None]"
     ]
    },
    {
     "name": "stdout",
     "output_type": "stream",
     "text": [
      "Moviepy - Done !\n",
      "Moviepy - video ready ../data/5s_clips_40000/000034.mp4\n",
      "Moviepy - Building video ../data/5s_clips_40000/000035.mp4.\n",
      "MoviePy - Writing audio in %s\n"
     ]
    },
    {
     "name": "stderr",
     "output_type": "stream",
     "text": [
      "t:  38%|███▊      | 57/150 [00:00<00:00, 568.62it/s, now=None]    "
     ]
    },
    {
     "name": "stdout",
     "output_type": "stream",
     "text": [
      "MoviePy - Done.\n",
      "Moviepy - Writing video ../data/5s_clips_40000/000035.mp4\n",
      "\n"
     ]
    },
    {
     "name": "stderr",
     "output_type": "stream",
     "text": [
      "                                                               \r"
     ]
    },
    {
     "name": "stdout",
     "output_type": "stream",
     "text": [
      "Moviepy - Done !\n",
      "Moviepy - video ready ../data/5s_clips_40000/000035.mp4\n",
      "-24dqQM_rDk succeed.\n",
      "-24dqQM_rDk deleted.\n",
      "----- finished ------\n",
      "----- executing ------\n",
      "['-275_wTLm-4', 7, 17]\n"
     ]
    },
    {
     "name": "stderr",
     "output_type": "stream",
     "text": [
      "chunk:  36%|███▌      | 40/111 [00:00<00:00, 398.13it/s, now=None]"
     ]
    },
    {
     "name": "stdout",
     "output_type": "stream",
     "text": [
      "Moviepy - Building video ../data/5s_clips_40000/000036.mp4.\n",
      "MoviePy - Writing audio in %s\n"
     ]
    },
    {
     "name": "stderr",
     "output_type": "stream",
     "text": [
      "t:  32%|███▏      | 48/150 [00:00<00:00, 475.11it/s, now=None]    "
     ]
    },
    {
     "name": "stdout",
     "output_type": "stream",
     "text": [
      "MoviePy - Done.\n",
      "Moviepy - Writing video ../data/5s_clips_40000/000036.mp4\n",
      "\n"
     ]
    },
    {
     "name": "stderr",
     "output_type": "stream",
     "text": [
      "chunk:  38%|███▊      | 42/111 [00:00<00:00, 407.23it/s, now=None]"
     ]
    },
    {
     "name": "stdout",
     "output_type": "stream",
     "text": [
      "Moviepy - Done !\n",
      "Moviepy - video ready ../data/5s_clips_40000/000036.mp4\n",
      "Moviepy - Building video ../data/5s_clips_40000/000037.mp4.\n",
      "MoviePy - Writing audio in %s\n"
     ]
    },
    {
     "name": "stderr",
     "output_type": "stream",
     "text": [
      "                                                                  \r"
     ]
    },
    {
     "name": "stdout",
     "output_type": "stream",
     "text": [
      "-275_wTLm-4 failed.\n",
      "-275_wTLm-4 deleted.\n",
      "----- finished ------\n",
      "----- executing ------\n",
      "['-28U1_qW0sU', 30, 40]\n"
     ]
    },
    {
     "name": "stderr",
     "output_type": "stream",
     "text": [
      "chunk:  32%|███▏      | 36/111 [00:00<00:00, 350.60it/s, now=None]"
     ]
    },
    {
     "name": "stdout",
     "output_type": "stream",
     "text": [
      "Moviepy - Building video ../data/5s_clips_40000/000036.mp4.\n",
      "MoviePy - Writing audio in %s\n"
     ]
    },
    {
     "name": "stderr",
     "output_type": "stream",
     "text": [
      "                                                                  "
     ]
    },
    {
     "name": "stdout",
     "output_type": "stream",
     "text": [
      "MoviePy - Done.\n",
      "Moviepy - Writing video ../data/5s_clips_40000/000036.mp4\n",
      "\n"
     ]
    },
    {
     "name": "stderr",
     "output_type": "stream",
     "text": [
      "chunk:  39%|███▊      | 43/111 [00:00<00:00, 415.89it/s, now=None]"
     ]
    },
    {
     "name": "stdout",
     "output_type": "stream",
     "text": [
      "Moviepy - Done !\n",
      "Moviepy - video ready ../data/5s_clips_40000/000036.mp4\n",
      "Moviepy - Building video ../data/5s_clips_40000/000037.mp4.\n",
      "MoviePy - Writing audio in %s\n"
     ]
    },
    {
     "name": "stderr",
     "output_type": "stream",
     "text": [
      "                                                                  \r"
     ]
    },
    {
     "name": "stdout",
     "output_type": "stream",
     "text": [
      "MoviePy - Done.\n",
      "Moviepy - Writing video ../data/5s_clips_40000/000037.mp4\n",
      "\n",
      "Moviepy - Done !\n",
      "Moviepy - video ready ../data/5s_clips_40000/000037.mp4\n",
      "-28U1_qW0sU succeed.\n",
      "-28U1_qW0sU deleted.\n",
      "----- finished ------\n",
      "----- executing ------\n",
      "['-2PDE7hUArE', 30, 40]\n"
     ]
    },
    {
     "name": "stderr",
     "output_type": "stream",
     "text": [
      "chunk:  36%|███▌      | 40/111 [00:00<00:00, 399.64it/s, now=None]"
     ]
    },
    {
     "name": "stdout",
     "output_type": "stream",
     "text": [
      "Moviepy - Building video ../data/5s_clips_40000/000038.mp4.\n",
      "MoviePy - Writing audio in %s\n"
     ]
    },
    {
     "name": "stderr",
     "output_type": "stream",
     "text": [
      "t:  39%|███▉      | 49/125 [00:00<00:00, 479.44it/s, now=None]    "
     ]
    },
    {
     "name": "stdout",
     "output_type": "stream",
     "text": [
      "MoviePy - Done.\n",
      "Moviepy - Writing video ../data/5s_clips_40000/000038.mp4\n",
      "\n"
     ]
    },
    {
     "name": "stderr",
     "output_type": "stream",
     "text": [
      "chunk:  50%|█████     | 56/111 [00:00<00:00, 552.16it/s, now=None]"
     ]
    },
    {
     "name": "stdout",
     "output_type": "stream",
     "text": [
      "Moviepy - Done !\n",
      "Moviepy - video ready ../data/5s_clips_40000/000038.mp4\n",
      "Moviepy - Building video ../data/5s_clips_40000/000039.mp4.\n",
      "MoviePy - Writing audio in %s\n"
     ]
    },
    {
     "name": "stderr",
     "output_type": "stream",
     "text": [
      "t:  34%|███▎      | 42/125 [00:00<00:00, 418.05it/s, now=None]    "
     ]
    },
    {
     "name": "stdout",
     "output_type": "stream",
     "text": [
      "MoviePy - Done.\n",
      "Moviepy - Writing video ../data/5s_clips_40000/000039.mp4\n",
      "\n"
     ]
    },
    {
     "name": "stderr",
     "output_type": "stream",
     "text": [
      "                                                              \r"
     ]
    },
    {
     "name": "stdout",
     "output_type": "stream",
     "text": [
      "Moviepy - Done !\n",
      "Moviepy - video ready ../data/5s_clips_40000/000039.mp4\n",
      "-2PDE7hUArE succeed.\n",
      "-2PDE7hUArE deleted.\n",
      "----- finished ------\n",
      "----- executing ------\n",
      "['-2X03mO3T_U', 30, 40]\n"
     ]
    },
    {
     "name": "stderr",
     "output_type": "stream",
     "text": [
      "chunk:  29%|██▉       | 32/111 [00:00<00:00, 285.20it/s, now=None]"
     ]
    },
    {
     "name": "stdout",
     "output_type": "stream",
     "text": [
      "Moviepy - Building video ../data/5s_clips_40000/000040.mp4.\n",
      "MoviePy - Writing audio in %s\n"
     ]
    },
    {
     "name": "stderr",
     "output_type": "stream",
     "text": [
      "t:  28%|██▊       | 35/125 [00:00<00:00, 345.01it/s, now=None]     "
     ]
    },
    {
     "name": "stdout",
     "output_type": "stream",
     "text": [
      "MoviePy - Done.\n",
      "Moviepy - Writing video ../data/5s_clips_40000/000040.mp4\n",
      "\n"
     ]
    },
    {
     "name": "stderr",
     "output_type": "stream",
     "text": [
      "chunk:  45%|████▌     | 50/111 [00:00<00:00, 498.36it/s, now=None]"
     ]
    },
    {
     "name": "stdout",
     "output_type": "stream",
     "text": [
      "Moviepy - Done !\n",
      "Moviepy - video ready ../data/5s_clips_40000/000040.mp4\n",
      "Moviepy - Building video ../data/5s_clips_40000/000041.mp4.\n",
      "MoviePy - Writing audio in %s\n"
     ]
    },
    {
     "name": "stderr",
     "output_type": "stream",
     "text": [
      "t:  32%|███▏      | 40/125 [00:00<00:00, 389.98it/s, now=None]    "
     ]
    },
    {
     "name": "stdout",
     "output_type": "stream",
     "text": [
      "MoviePy - Done.\n",
      "Moviepy - Writing video ../data/5s_clips_40000/000041.mp4\n",
      "\n"
     ]
    },
    {
     "name": "stderr",
     "output_type": "stream",
     "text": [
      "                                                               \r"
     ]
    },
    {
     "name": "stdout",
     "output_type": "stream",
     "text": [
      "Moviepy - Done !\n",
      "Moviepy - video ready ../data/5s_clips_40000/000041.mp4\n",
      "-2X03mO3T_U succeed.\n",
      "-2X03mO3T_U deleted.\n",
      "----- finished ------\n",
      "----- executing ------\n",
      "['-2hQKCE-oTI', 30, 40]\n"
     ]
    },
    {
     "name": "stderr",
     "output_type": "stream",
     "text": [
      "chunk:  34%|███▍      | 38/111 [00:00<00:00, 363.95it/s, now=None]"
     ]
    },
    {
     "name": "stdout",
     "output_type": "stream",
     "text": [
      "Moviepy - Building video ../data/5s_clips_40000/000042.mp4.\n",
      "MoviePy - Writing audio in %s\n"
     ]
    },
    {
     "name": "stderr",
     "output_type": "stream",
     "text": [
      "t:  31%|███       | 46/150 [00:00<00:00, 458.77it/s, now=None]    "
     ]
    },
    {
     "name": "stdout",
     "output_type": "stream",
     "text": [
      "MoviePy - Done.\n",
      "Moviepy - Writing video ../data/5s_clips_40000/000042.mp4\n",
      "\n"
     ]
    },
    {
     "name": "stderr",
     "output_type": "stream",
     "text": [
      "chunk:  45%|████▌     | 50/111 [00:00<00:00, 489.45it/s, now=None]"
     ]
    },
    {
     "name": "stdout",
     "output_type": "stream",
     "text": [
      "Moviepy - Done !\n",
      "Moviepy - video ready ../data/5s_clips_40000/000042.mp4\n",
      "Moviepy - Building video ../data/5s_clips_40000/000043.mp4.\n",
      "MoviePy - Writing audio in %s\n"
     ]
    },
    {
     "name": "stderr",
     "output_type": "stream",
     "text": [
      "t:  30%|███       | 45/150 [00:00<00:00, 444.09it/s, now=None]    "
     ]
    },
    {
     "name": "stdout",
     "output_type": "stream",
     "text": [
      "MoviePy - Done.\n",
      "Moviepy - Writing video ../data/5s_clips_40000/000043.mp4\n",
      "\n"
     ]
    },
    {
     "name": "stderr",
     "output_type": "stream",
     "text": [
      "                                                               \r"
     ]
    },
    {
     "name": "stdout",
     "output_type": "stream",
     "text": [
      "Moviepy - Done !\n",
      "Moviepy - video ready ../data/5s_clips_40000/000043.mp4\n",
      "-2hQKCE-oTI succeed.\n",
      "-2hQKCE-oTI deleted.\n",
      "----- finished ------\n",
      "----- executing ------\n",
      "['-30H9V1IKps', 6, 16]\n"
     ]
    },
    {
     "name": "stderr",
     "output_type": "stream",
     "text": [
      "chunk:  31%|███       | 34/111 [00:00<00:00, 327.09it/s, now=None]"
     ]
    },
    {
     "name": "stdout",
     "output_type": "stream",
     "text": [
      "Moviepy - Building video ../data/5s_clips_40000/000044.mp4.\n",
      "MoviePy - Writing audio in %s\n"
     ]
    },
    {
     "name": "stderr",
     "output_type": "stream",
     "text": [
      "t:  54%|█████▍    | 68/125 [00:00<00:00, 679.18it/s, now=None]     "
     ]
    },
    {
     "name": "stdout",
     "output_type": "stream",
     "text": [
      "MoviePy - Done.\n",
      "Moviepy - Writing video ../data/5s_clips_40000/000044.mp4\n",
      "\n"
     ]
    },
    {
     "name": "stderr",
     "output_type": "stream",
     "text": [
      "chunk:  35%|███▌      | 39/111 [00:00<00:00, 377.89it/s, now=None]"
     ]
    },
    {
     "name": "stdout",
     "output_type": "stream",
     "text": [
      "Moviepy - Done !\n",
      "Moviepy - video ready ../data/5s_clips_40000/000044.mp4\n",
      "Moviepy - Building video ../data/5s_clips_40000/000045.mp4.\n",
      "MoviePy - Writing audio in %s\n"
     ]
    },
    {
     "name": "stderr",
     "output_type": "stream",
     "text": [
      "                                                                  \r"
     ]
    },
    {
     "name": "stdout",
     "output_type": "stream",
     "text": [
      "-30H9V1IKps failed.\n",
      "-30H9V1IKps deleted.\n",
      "----- finished ------\n",
      "----- executing ------\n",
      "['-38Qgsbh7NQ', 100, 110]\n"
     ]
    },
    {
     "name": "stderr",
     "output_type": "stream",
     "text": [
      "chunk:  33%|███▎      | 37/111 [00:00<00:00, 368.95it/s, now=None]"
     ]
    },
    {
     "name": "stdout",
     "output_type": "stream",
     "text": [
      "Moviepy - Building video ../data/5s_clips_40000/000044.mp4.\n",
      "MoviePy - Writing audio in %s\n"
     ]
    },
    {
     "name": "stderr",
     "output_type": "stream",
     "text": [
      "                                                                  "
     ]
    },
    {
     "name": "stdout",
     "output_type": "stream",
     "text": [
      "MoviePy - Done.\n",
      "Moviepy - Writing video ../data/5s_clips_40000/000044.mp4\n",
      "\n"
     ]
    },
    {
     "name": "stderr",
     "output_type": "stream",
     "text": [
      "chunk:  39%|███▊      | 43/111 [00:00<00:00, 421.31it/s, now=None]"
     ]
    },
    {
     "name": "stdout",
     "output_type": "stream",
     "text": [
      "Moviepy - Done !\n",
      "Moviepy - video ready ../data/5s_clips_40000/000044.mp4\n",
      "Moviepy - Building video ../data/5s_clips_40000/000045.mp4.\n",
      "MoviePy - Writing audio in %s\n"
     ]
    },
    {
     "name": "stderr",
     "output_type": "stream",
     "text": [
      "t:  47%|████▋     | 70/150 [00:00<00:00, 693.43it/s, now=None]    "
     ]
    },
    {
     "name": "stdout",
     "output_type": "stream",
     "text": [
      "MoviePy - Done.\n",
      "Moviepy - Writing video ../data/5s_clips_40000/000045.mp4\n",
      "\n"
     ]
    },
    {
     "name": "stderr",
     "output_type": "stream",
     "text": [
      "                                                               \r"
     ]
    },
    {
     "name": "stdout",
     "output_type": "stream",
     "text": [
      "Moviepy - Done !\n",
      "Moviepy - video ready ../data/5s_clips_40000/000045.mp4\n",
      "-38Qgsbh7NQ succeed.\n",
      "-38Qgsbh7NQ deleted.\n",
      "----- finished ------\n",
      "----- executing ------\n",
      "['-3HYdaJyF4U', 30, 40]\n"
     ]
    },
    {
     "name": "stderr",
     "output_type": "stream",
     "text": [
      "chunk:  29%|██▉       | 32/111 [00:00<00:00, 306.77it/s, now=None]"
     ]
    },
    {
     "name": "stdout",
     "output_type": "stream",
     "text": [
      "Moviepy - Building video ../data/5s_clips_40000/000046.mp4.\n",
      "MoviePy - Writing audio in %s\n"
     ]
    },
    {
     "name": "stderr",
     "output_type": "stream",
     "text": [
      "t:  42%|████▏     | 52/125 [00:00<00:00, 513.44it/s, now=None]    "
     ]
    },
    {
     "name": "stdout",
     "output_type": "stream",
     "text": [
      "MoviePy - Done.\n",
      "Moviepy - Writing video ../data/5s_clips_40000/000046.mp4\n",
      "\n"
     ]
    },
    {
     "name": "stderr",
     "output_type": "stream",
     "text": [
      "chunk:  39%|███▊      | 43/111 [00:00<00:00, 405.57it/s, now=None]"
     ]
    },
    {
     "name": "stdout",
     "output_type": "stream",
     "text": [
      "Moviepy - Done !\n",
      "Moviepy - video ready ../data/5s_clips_40000/000046.mp4\n",
      "Moviepy - Building video ../data/5s_clips_40000/000047.mp4.\n",
      "MoviePy - Writing audio in %s\n"
     ]
    },
    {
     "name": "stderr",
     "output_type": "stream",
     "text": [
      "t:  43%|████▎     | 54/125 [00:00<00:00, 539.67it/s, now=None]    "
     ]
    },
    {
     "name": "stdout",
     "output_type": "stream",
     "text": [
      "MoviePy - Done.\n",
      "Moviepy - Writing video ../data/5s_clips_40000/000047.mp4\n",
      "\n"
     ]
    },
    {
     "name": "stderr",
     "output_type": "stream",
     "text": [
      "                                                               \r"
     ]
    },
    {
     "name": "stdout",
     "output_type": "stream",
     "text": [
      "Moviepy - Done !\n",
      "Moviepy - video ready ../data/5s_clips_40000/000047.mp4\n",
      "-3HYdaJyF4U succeed.\n",
      "-3HYdaJyF4U deleted.\n",
      "----- finished ------\n",
      "----- executing ------\n",
      "['-3IGxVTJvgI', 30, 40]\n"
     ]
    },
    {
     "name": "stderr",
     "output_type": "stream",
     "text": [
      "chunk:  29%|██▉       | 32/111 [00:00<00:00, 293.32it/s, now=None]"
     ]
    },
    {
     "name": "stdout",
     "output_type": "stream",
     "text": [
      "Moviepy - Building video ../data/5s_clips_40000/000048.mp4.\n",
      "MoviePy - Writing audio in %s\n"
     ]
    },
    {
     "name": "stderr",
     "output_type": "stream",
     "text": [
      "t:  40%|████      | 50/125 [00:00<00:00, 492.70it/s, now=None]     "
     ]
    },
    {
     "name": "stdout",
     "output_type": "stream",
     "text": [
      "MoviePy - Done.\n",
      "Moviepy - Writing video ../data/5s_clips_40000/000048.mp4\n",
      "\n"
     ]
    },
    {
     "name": "stderr",
     "output_type": "stream",
     "text": [
      "chunk:  39%|███▊      | 43/111 [00:00<00:00, 426.43it/s, now=None]"
     ]
    },
    {
     "name": "stdout",
     "output_type": "stream",
     "text": [
      "Moviepy - Done !\n",
      "Moviepy - video ready ../data/5s_clips_40000/000048.mp4\n",
      "Moviepy - Building video ../data/5s_clips_40000/000049.mp4.\n",
      "MoviePy - Writing audio in %s\n"
     ]
    },
    {
     "name": "stderr",
     "output_type": "stream",
     "text": [
      "t:  38%|███▊      | 48/125 [00:00<00:00, 476.84it/s, now=None]    "
     ]
    },
    {
     "name": "stdout",
     "output_type": "stream",
     "text": [
      "MoviePy - Done.\n",
      "Moviepy - Writing video ../data/5s_clips_40000/000049.mp4\n",
      "\n"
     ]
    },
    {
     "name": "stderr",
     "output_type": "stream",
     "text": [
      "                                                              \r"
     ]
    },
    {
     "name": "stdout",
     "output_type": "stream",
     "text": [
      "Moviepy - Done !\n",
      "Moviepy - video ready ../data/5s_clips_40000/000049.mp4\n",
      "-3IGxVTJvgI succeed.\n",
      "-3IGxVTJvgI deleted.\n",
      "----- finished ------\n",
      "----- executing ------\n",
      "['-3IYpJfLVJk', 30, 40]\n",
      "-3IYpJfLVJk failed.\n",
      "----- finished ------\n",
      "----- executing ------\n",
      "['-3hKkjKmIGE', 30, 40]\n"
     ]
    },
    {
     "name": "stderr",
     "output_type": "stream",
     "text": [
      "chunk:  35%|███▌      | 39/111 [00:00<00:00, 389.77it/s, now=None]"
     ]
    },
    {
     "name": "stdout",
     "output_type": "stream",
     "text": [
      "Moviepy - Building video ../data/5s_clips_40000/000050.mp4.\n",
      "MoviePy - Writing audio in %s\n"
     ]
    },
    {
     "name": "stderr",
     "output_type": "stream",
     "text": [
      "t:  43%|████▎     | 54/125 [00:00<00:00, 539.56it/s, now=None]    "
     ]
    },
    {
     "name": "stdout",
     "output_type": "stream",
     "text": [
      "MoviePy - Done.\n",
      "Moviepy - Writing video ../data/5s_clips_40000/000050.mp4\n",
      "\n"
     ]
    },
    {
     "name": "stderr",
     "output_type": "stream",
     "text": [
      "chunk:  49%|████▊     | 54/111 [00:00<00:00, 527.90it/s, now=None]"
     ]
    },
    {
     "name": "stdout",
     "output_type": "stream",
     "text": [
      "Moviepy - Done !\n",
      "Moviepy - video ready ../data/5s_clips_40000/000050.mp4\n",
      "Moviepy - Building video ../data/5s_clips_40000/000051.mp4.\n",
      "MoviePy - Writing audio in %s\n"
     ]
    },
    {
     "name": "stderr",
     "output_type": "stream",
     "text": [
      "t:  35%|███▌      | 44/125 [00:00<00:00, 438.02it/s, now=None]     "
     ]
    },
    {
     "name": "stdout",
     "output_type": "stream",
     "text": [
      "MoviePy - Done.\n",
      "Moviepy - Writing video ../data/5s_clips_40000/000051.mp4\n",
      "\n"
     ]
    },
    {
     "name": "stderr",
     "output_type": "stream",
     "text": [
      "                                                              \r"
     ]
    },
    {
     "name": "stdout",
     "output_type": "stream",
     "text": [
      "Moviepy - Done !\n",
      "Moviepy - video ready ../data/5s_clips_40000/000051.mp4\n",
      "-3hKkjKmIGE succeed.\n",
      "-3hKkjKmIGE deleted.\n",
      "----- finished ------\n",
      "----- executing ------\n",
      "['-3pPrlCm6gg', 30, 40]\n"
     ]
    },
    {
     "name": "stderr",
     "output_type": "stream",
     "text": [
      "chunk:  29%|██▉       | 32/111 [00:00<00:00, 276.57it/s, now=None]"
     ]
    },
    {
     "name": "stdout",
     "output_type": "stream",
     "text": [
      "Moviepy - Building video ../data/5s_clips_40000/000052.mp4.\n",
      "MoviePy - Writing audio in %s\n"
     ]
    },
    {
     "name": "stderr",
     "output_type": "stream",
     "text": [
      "t:  32%|███▏      | 48/150 [00:00<00:00, 474.87it/s, now=None]     "
     ]
    },
    {
     "name": "stdout",
     "output_type": "stream",
     "text": [
      "MoviePy - Done.\n",
      "Moviepy - Writing video ../data/5s_clips_40000/000052.mp4\n",
      "\n"
     ]
    },
    {
     "name": "stderr",
     "output_type": "stream",
     "text": [
      "chunk:  31%|███       | 34/111 [00:00<00:00, 332.22it/s, now=None]"
     ]
    },
    {
     "name": "stdout",
     "output_type": "stream",
     "text": [
      "Moviepy - Done !\n",
      "Moviepy - video ready ../data/5s_clips_40000/000052.mp4\n",
      "Moviepy - Building video ../data/5s_clips_40000/000053.mp4.\n",
      "MoviePy - Writing audio in %s\n"
     ]
    },
    {
     "name": "stderr",
     "output_type": "stream",
     "text": [
      "t:  34%|███▍      | 51/150 [00:00<00:00, 509.72it/s, now=None]    "
     ]
    },
    {
     "name": "stdout",
     "output_type": "stream",
     "text": [
      "MoviePy - Done.\n",
      "Moviepy - Writing video ../data/5s_clips_40000/000053.mp4\n",
      "\n"
     ]
    },
    {
     "name": "stderr",
     "output_type": "stream",
     "text": [
      "                                                               \r"
     ]
    },
    {
     "name": "stdout",
     "output_type": "stream",
     "text": [
      "Moviepy - Done !\n",
      "Moviepy - video ready ../data/5s_clips_40000/000053.mp4\n",
      "-3pPrlCm6gg succeed.\n",
      "-3pPrlCm6gg deleted.\n",
      "----- finished ------\n",
      "----- executing ------\n",
      "['-4NLarMj4xU', 30, 40]\n"
     ]
    },
    {
     "name": "stderr",
     "output_type": "stream",
     "text": [
      "chunk:  29%|██▉       | 32/111 [00:00<00:00, 268.00it/s, now=None]"
     ]
    },
    {
     "name": "stdout",
     "output_type": "stream",
     "text": [
      "Moviepy - Building video ../data/5s_clips_40000/000054.mp4.\n",
      "MoviePy - Writing audio in %s\n"
     ]
    },
    {
     "name": "stderr",
     "output_type": "stream",
     "text": [
      "t:  35%|███▌      | 42/120 [00:00<00:00, 418.24it/s, now=None]    "
     ]
    },
    {
     "name": "stdout",
     "output_type": "stream",
     "text": [
      "MoviePy - Done.\n",
      "Moviepy - Writing video ../data/5s_clips_40000/000054.mp4\n",
      "\n"
     ]
    },
    {
     "name": "stderr",
     "output_type": "stream",
     "text": [
      "chunk:  32%|███▏      | 36/111 [00:00<00:00, 341.86it/s, now=None]"
     ]
    },
    {
     "name": "stdout",
     "output_type": "stream",
     "text": [
      "Moviepy - Done !\n",
      "Moviepy - video ready ../data/5s_clips_40000/000054.mp4\n",
      "Moviepy - Building video ../data/5s_clips_40000/000055.mp4.\n",
      "MoviePy - Writing audio in %s\n"
     ]
    },
    {
     "name": "stderr",
     "output_type": "stream",
     "text": [
      "t:  38%|███▊      | 45/120 [00:00<00:00, 441.97it/s, now=None]    "
     ]
    },
    {
     "name": "stdout",
     "output_type": "stream",
     "text": [
      "MoviePy - Done.\n",
      "Moviepy - Writing video ../data/5s_clips_40000/000055.mp4\n",
      "\n"
     ]
    },
    {
     "name": "stderr",
     "output_type": "stream",
     "text": [
      "                                                              \r"
     ]
    },
    {
     "name": "stdout",
     "output_type": "stream",
     "text": [
      "Moviepy - Done !\n",
      "Moviepy - video ready ../data/5s_clips_40000/000055.mp4\n",
      "-4NLarMj4xU succeed.\n",
      "-4NLarMj4xU deleted.\n",
      "----- finished ------\n",
      "----- executing ------\n",
      "['-4RWqM0UCCY', 0, 10]\n"
     ]
    },
    {
     "name": "stderr",
     "output_type": "stream",
     "text": [
      "chunk:  45%|████▌     | 50/111 [00:00<00:00, 477.66it/s, now=None]"
     ]
    },
    {
     "name": "stdout",
     "output_type": "stream",
     "text": [
      "Moviepy - Building video ../data/5s_clips_40000/000056.mp4.\n",
      "MoviePy - Writing audio in %s\n"
     ]
    },
    {
     "name": "stderr",
     "output_type": "stream",
     "text": [
      "chunk:   0%|          | 0/111 [00:00<?, ?it/s, now=None]          "
     ]
    },
    {
     "name": "stdout",
     "output_type": "stream",
     "text": [
      "MoviePy - Done.\n",
      "Moviepy - Writing video ../data/5s_clips_40000/000056.mp4\n",
      "\n",
      "Moviepy - Done !\n",
      "Moviepy - video ready ../data/5s_clips_40000/000056.mp4\n",
      "Moviepy - Building video ../data/5s_clips_40000/000057.mp4.\n",
      "MoviePy - Writing audio in %s\n"
     ]
    },
    {
     "name": "stderr",
     "output_type": "stream",
     "text": [
      "                                                                  \r"
     ]
    },
    {
     "name": "stdout",
     "output_type": "stream",
     "text": [
      "MoviePy - Done.\n",
      "Moviepy - Writing video ../data/5s_clips_40000/000057.mp4\n",
      "\n",
      "Moviepy - Done !\n",
      "Moviepy - video ready ../data/5s_clips_40000/000057.mp4\n",
      "-4RWqM0UCCY succeed.\n",
      "-4RWqM0UCCY deleted.\n",
      "----- finished ------\n",
      "----- executing ------\n",
      "['-4hZyOdm7EI', 200, 210]\n"
     ]
    },
    {
     "name": "stderr",
     "output_type": "stream",
     "text": [
      "chunk:  29%|██▉       | 32/111 [00:00<00:00, 279.46it/s, now=None]"
     ]
    },
    {
     "name": "stdout",
     "output_type": "stream",
     "text": [
      "Moviepy - Building video ../data/5s_clips_40000/000058.mp4.\n",
      "MoviePy - Writing audio in %s\n"
     ]
    },
    {
     "name": "stderr",
     "output_type": "stream",
     "text": [
      "t:  36%|███▌      | 54/150 [00:00<00:00, 532.87it/s, now=None]     "
     ]
    },
    {
     "name": "stdout",
     "output_type": "stream",
     "text": [
      "MoviePy - Done.\n",
      "Moviepy - Writing video ../data/5s_clips_40000/000058.mp4\n",
      "\n"
     ]
    },
    {
     "name": "stderr",
     "output_type": "stream",
     "text": [
      "chunk:  29%|██▉       | 32/111 [00:00<00:00, 270.65it/s, now=None]"
     ]
    },
    {
     "name": "stdout",
     "output_type": "stream",
     "text": [
      "Moviepy - Done !\n",
      "Moviepy - video ready ../data/5s_clips_40000/000058.mp4\n",
      "Moviepy - Building video ../data/5s_clips_40000/000059.mp4.\n",
      "MoviePy - Writing audio in %s\n"
     ]
    },
    {
     "name": "stderr",
     "output_type": "stream",
     "text": [
      "t:  33%|███▎      | 49/150 [00:00<00:00, 488.96it/s, now=None]     "
     ]
    },
    {
     "name": "stdout",
     "output_type": "stream",
     "text": [
      "MoviePy - Done.\n",
      "Moviepy - Writing video ../data/5s_clips_40000/000059.mp4\n",
      "\n"
     ]
    },
    {
     "name": "stderr",
     "output_type": "stream",
     "text": [
      "                                                               \r"
     ]
    },
    {
     "name": "stdout",
     "output_type": "stream",
     "text": [
      "Moviepy - Done !\n",
      "Moviepy - video ready ../data/5s_clips_40000/000059.mp4\n",
      "-4hZyOdm7EI succeed.\n",
      "-4hZyOdm7EI deleted.\n",
      "----- finished ------\n",
      "----- executing ------\n",
      "['-4xJv59_zcA', 30, 40]\n"
     ]
    },
    {
     "name": "stderr",
     "output_type": "stream",
     "text": [
      "chunk:  29%|██▉       | 32/111 [00:00<00:00, 215.88it/s, now=None]"
     ]
    },
    {
     "name": "stdout",
     "output_type": "stream",
     "text": [
      "Moviepy - Building video ../data/5s_clips_40000/000060.mp4.\n",
      "MoviePy - Writing audio in %s\n"
     ]
    },
    {
     "name": "stderr",
     "output_type": "stream",
     "text": [
      "t:   7%|▋         | 11/150 [00:00<00:01, 109.16it/s, now=None]     "
     ]
    },
    {
     "name": "stdout",
     "output_type": "stream",
     "text": [
      "MoviePy - Done.\n",
      "Moviepy - Writing video ../data/5s_clips_40000/000060.mp4\n",
      "\n"
     ]
    },
    {
     "name": "stderr",
     "output_type": "stream",
     "text": [
      "chunk:  38%|███▊      | 42/111 [00:00<00:00, 396.75it/s, now=None]"
     ]
    },
    {
     "name": "stdout",
     "output_type": "stream",
     "text": [
      "Moviepy - Done !\n",
      "Moviepy - video ready ../data/5s_clips_40000/000060.mp4\n",
      "Moviepy - Building video ../data/5s_clips_40000/000061.mp4.\n",
      "MoviePy - Writing audio in %s\n"
     ]
    },
    {
     "name": "stderr",
     "output_type": "stream",
     "text": [
      "t:   9%|▊         | 13/150 [00:00<00:01, 122.54it/s, now=None]     "
     ]
    },
    {
     "name": "stdout",
     "output_type": "stream",
     "text": [
      "MoviePy - Done.\n",
      "Moviepy - Writing video ../data/5s_clips_40000/000061.mp4\n",
      "\n"
     ]
    },
    {
     "name": "stderr",
     "output_type": "stream",
     "text": [
      "                                                              \r"
     ]
    },
    {
     "name": "stdout",
     "output_type": "stream",
     "text": [
      "Moviepy - Done !\n",
      "Moviepy - video ready ../data/5s_clips_40000/000061.mp4\n",
      "-4xJv59_zcA succeed.\n",
      "-4xJv59_zcA deleted.\n",
      "----- finished ------\n",
      "----- executing ------\n",
      "['-5-vmt2iKT0', 30, 40]\n"
     ]
    },
    {
     "name": "stderr",
     "output_type": "stream",
     "text": [
      "chunk:  29%|██▉       | 32/111 [00:00<00:00, 208.56it/s, now=None]"
     ]
    },
    {
     "name": "stdout",
     "output_type": "stream",
     "text": [
      "Moviepy - Building video ../data/5s_clips_40000/000062.mp4.\n",
      "MoviePy - Writing audio in %s\n"
     ]
    },
    {
     "name": "stderr",
     "output_type": "stream",
     "text": [
      "t:  41%|████▏     | 62/150 [00:00<00:00, 618.89it/s, now=None]    "
     ]
    },
    {
     "name": "stdout",
     "output_type": "stream",
     "text": [
      "MoviePy - Done.\n",
      "Moviepy - Writing video ../data/5s_clips_40000/000062.mp4\n",
      "\n"
     ]
    },
    {
     "name": "stderr",
     "output_type": "stream",
     "text": [
      "chunk:  32%|███▏      | 36/111 [00:00<00:00, 357.10it/s, now=None]"
     ]
    },
    {
     "name": "stdout",
     "output_type": "stream",
     "text": [
      "Moviepy - Done !\n",
      "Moviepy - video ready ../data/5s_clips_40000/000062.mp4\n",
      "Moviepy - Building video ../data/5s_clips_40000/000063.mp4.\n",
      "MoviePy - Writing audio in %s\n"
     ]
    },
    {
     "name": "stderr",
     "output_type": "stream",
     "text": [
      "t:  38%|███▊      | 57/150 [00:00<00:00, 565.17it/s, now=None]     "
     ]
    },
    {
     "name": "stdout",
     "output_type": "stream",
     "text": [
      "MoviePy - Done.\n",
      "Moviepy - Writing video ../data/5s_clips_40000/000063.mp4\n",
      "\n"
     ]
    },
    {
     "name": "stderr",
     "output_type": "stream",
     "text": [
      "                                                               \r"
     ]
    },
    {
     "name": "stdout",
     "output_type": "stream",
     "text": [
      "Moviepy - Done !\n",
      "Moviepy - video ready ../data/5s_clips_40000/000063.mp4\n",
      "-5-vmt2iKT0 succeed.\n",
      "-5-vmt2iKT0 deleted.\n",
      "----- finished ------\n",
      "----- executing ------\n",
      "['-5DdYkYOjy0', 30, 40]\n"
     ]
    },
    {
     "name": "stderr",
     "output_type": "stream",
     "text": [
      "chunk:  29%|██▉       | 32/111 [00:00<00:00, 294.50it/s, now=None]"
     ]
    },
    {
     "name": "stdout",
     "output_type": "stream",
     "text": [
      "Moviepy - Building video ../data/5s_clips_40000/000064.mp4.\n",
      "MoviePy - Writing audio in %s\n"
     ]
    },
    {
     "name": "stderr",
     "output_type": "stream",
     "text": [
      "                                                                   "
     ]
    },
    {
     "name": "stdout",
     "output_type": "stream",
     "text": [
      "MoviePy - Done.\n",
      "Moviepy - Writing video ../data/5s_clips_40000/000064.mp4\n",
      "\n",
      "Moviepy - Done !\n",
      "Moviepy - video ready ../data/5s_clips_40000/000064.mp4\n",
      "Moviepy - Building video ../data/5s_clips_40000/000065.mp4.\n",
      "MoviePy - Writing audio in %s\n"
     ]
    },
    {
     "name": "stderr",
     "output_type": "stream",
     "text": [
      "                                                                   "
     ]
    },
    {
     "name": "stdout",
     "output_type": "stream",
     "text": [
      "MoviePy - Done.\n",
      "Moviepy - Writing video ../data/5s_clips_40000/000065.mp4\n",
      "\n"
     ]
    },
    {
     "name": "stderr",
     "output_type": "stream",
     "text": [
      "\r"
     ]
    },
    {
     "name": "stdout",
     "output_type": "stream",
     "text": [
      "Moviepy - Done !\n",
      "Moviepy - video ready ../data/5s_clips_40000/000065.mp4\n",
      "-5DdYkYOjy0 succeed.\n",
      "-5DdYkYOjy0 deleted.\n",
      "----- finished ------\n",
      "----- executing ------\n",
      "['-5GhUbDLYkQ', 16, 26]\n"
     ]
    },
    {
     "name": "stderr",
     "output_type": "stream",
     "text": [
      "chunk:  29%|██▉       | 32/111 [00:00<00:00, 311.94it/s, now=None]"
     ]
    },
    {
     "name": "stdout",
     "output_type": "stream",
     "text": [
      "Moviepy - Building video ../data/5s_clips_40000/000066.mp4.\n",
      "MoviePy - Writing audio in %s\n"
     ]
    },
    {
     "name": "stderr",
     "output_type": "stream",
     "text": [
      "t:  33%|███▎      | 50/150 [00:00<00:00, 492.28it/s, now=None]     "
     ]
    },
    {
     "name": "stdout",
     "output_type": "stream",
     "text": [
      "MoviePy - Done.\n",
      "Moviepy - Writing video ../data/5s_clips_40000/000066.mp4\n",
      "\n"
     ]
    },
    {
     "name": "stderr",
     "output_type": "stream",
     "text": [
      "chunk:  39%|███▊      | 43/111 [00:00<00:00, 407.29it/s, now=None]"
     ]
    },
    {
     "name": "stdout",
     "output_type": "stream",
     "text": [
      "Moviepy - Done !\n",
      "Moviepy - video ready ../data/5s_clips_40000/000066.mp4\n",
      "Moviepy - Building video ../data/5s_clips_40000/000067.mp4.\n",
      "MoviePy - Writing audio in %s\n"
     ]
    },
    {
     "name": "stderr",
     "output_type": "stream",
     "text": [
      "                                                                  \r"
     ]
    },
    {
     "name": "stdout",
     "output_type": "stream",
     "text": [
      "-5GhUbDLYkQ failed.\n",
      "-5GhUbDLYkQ deleted.\n",
      "----- finished ------\n",
      "----- executing ------\n",
      "['-5Jlimvsuwo', 90, 100]\n"
     ]
    },
    {
     "name": "stderr",
     "output_type": "stream",
     "text": [
      "chunk:  29%|██▉       | 32/111 [00:00<00:00, 259.17it/s, now=None]"
     ]
    },
    {
     "name": "stdout",
     "output_type": "stream",
     "text": [
      "Moviepy - Building video ../data/5s_clips_40000/000066.mp4.\n",
      "MoviePy - Writing audio in %s\n"
     ]
    },
    {
     "name": "stderr",
     "output_type": "stream",
     "text": [
      "t:   9%|▊         | 13/150 [00:00<00:01, 125.78it/s, now=None]     "
     ]
    },
    {
     "name": "stdout",
     "output_type": "stream",
     "text": [
      "MoviePy - Done.\n",
      "Moviepy - Writing video ../data/5s_clips_40000/000066.mp4\n",
      "\n"
     ]
    },
    {
     "name": "stderr",
     "output_type": "stream",
     "text": [
      "chunk:  32%|███▏      | 36/111 [00:00<00:00, 357.54it/s, now=None]"
     ]
    },
    {
     "name": "stdout",
     "output_type": "stream",
     "text": [
      "Moviepy - Done !\n",
      "Moviepy - video ready ../data/5s_clips_40000/000066.mp4\n",
      "Moviepy - Building video ../data/5s_clips_40000/000067.mp4.\n",
      "MoviePy - Writing audio in %s\n"
     ]
    },
    {
     "name": "stderr",
     "output_type": "stream",
     "text": [
      "t:   9%|▊         | 13/150 [00:00<00:01, 127.03it/s, now=None]     "
     ]
    },
    {
     "name": "stdout",
     "output_type": "stream",
     "text": [
      "MoviePy - Done.\n",
      "Moviepy - Writing video ../data/5s_clips_40000/000067.mp4\n",
      "\n"
     ]
    },
    {
     "name": "stderr",
     "output_type": "stream",
     "text": [
      "                                                              \r"
     ]
    },
    {
     "name": "stdout",
     "output_type": "stream",
     "text": [
      "Moviepy - Done !\n",
      "Moviepy - video ready ../data/5s_clips_40000/000067.mp4\n",
      "-5Jlimvsuwo succeed.\n",
      "-5Jlimvsuwo deleted.\n",
      "----- finished ------\n",
      "----- executing ------\n",
      "['-5Kk-m7BmiE', 21, 31]\n"
     ]
    },
    {
     "name": "stderr",
     "output_type": "stream",
     "text": [
      "chunk:  29%|██▉       | 32/111 [00:00<00:00, 215.69it/s, now=None]"
     ]
    },
    {
     "name": "stdout",
     "output_type": "stream",
     "text": [
      "Moviepy - Building video ../data/5s_clips_40000/000068.mp4.\n",
      "MoviePy - Writing audio in %s\n"
     ]
    },
    {
     "name": "stderr",
     "output_type": "stream",
     "text": [
      "t:  10%|▉         | 12/126 [00:00<00:00, 119.18it/s, now=None]    "
     ]
    },
    {
     "name": "stdout",
     "output_type": "stream",
     "text": [
      "MoviePy - Done.\n",
      "Moviepy - Writing video ../data/5s_clips_40000/000068.mp4\n",
      "\n"
     ]
    },
    {
     "name": "stderr",
     "output_type": "stream",
     "text": [
      "chunk:  39%|███▊      | 43/111 [00:00<00:00, 396.75it/s, now=None]"
     ]
    },
    {
     "name": "stdout",
     "output_type": "stream",
     "text": [
      "Moviepy - Done !\n",
      "Moviepy - video ready ../data/5s_clips_40000/000068.mp4\n",
      "Moviepy - Building video ../data/5s_clips_40000/000069.mp4.\n",
      "MoviePy - Writing audio in %s\n"
     ]
    },
    {
     "name": "stderr",
     "output_type": "stream",
     "text": [
      "                                                                  \r"
     ]
    },
    {
     "name": "stdout",
     "output_type": "stream",
     "text": [
      "-5Kk-m7BmiE failed.\n",
      "-5Kk-m7BmiE deleted.\n",
      "----- finished ------\n",
      "----- executing ------\n",
      "['-5S70zOSw30', 30, 40]\n"
     ]
    },
    {
     "name": "stderr",
     "output_type": "stream",
     "text": [
      "chunk:  29%|██▉       | 32/111 [00:00<00:00, 252.87it/s, now=None]"
     ]
    },
    {
     "name": "stdout",
     "output_type": "stream",
     "text": [
      "Moviepy - Building video ../data/5s_clips_40000/000068.mp4.\n",
      "MoviePy - Writing audio in %s\n"
     ]
    },
    {
     "name": "stderr",
     "output_type": "stream",
     "text": [
      "t:   9%|▉         | 14/150 [00:00<00:01, 132.73it/s, now=None]     "
     ]
    },
    {
     "name": "stdout",
     "output_type": "stream",
     "text": [
      "MoviePy - Done.\n",
      "Moviepy - Writing video ../data/5s_clips_40000/000068.mp4\n",
      "\n"
     ]
    },
    {
     "name": "stderr",
     "output_type": "stream",
     "text": [
      "chunk:  32%|███▏      | 36/111 [00:00<00:00, 355.28it/s, now=None]"
     ]
    },
    {
     "name": "stdout",
     "output_type": "stream",
     "text": [
      "Moviepy - Done !\n",
      "Moviepy - video ready ../data/5s_clips_40000/000068.mp4\n",
      "Moviepy - Building video ../data/5s_clips_40000/000069.mp4.\n",
      "MoviePy - Writing audio in %s\n"
     ]
    },
    {
     "name": "stderr",
     "output_type": "stream",
     "text": [
      "t:   9%|▉         | 14/150 [00:00<00:01, 133.99it/s, now=None]     "
     ]
    },
    {
     "name": "stdout",
     "output_type": "stream",
     "text": [
      "MoviePy - Done.\n",
      "Moviepy - Writing video ../data/5s_clips_40000/000069.mp4\n",
      "\n"
     ]
    },
    {
     "name": "stderr",
     "output_type": "stream",
     "text": [
      "                                                              \r"
     ]
    },
    {
     "name": "stdout",
     "output_type": "stream",
     "text": [
      "Moviepy - Done !\n",
      "Moviepy - video ready ../data/5s_clips_40000/000069.mp4\n",
      "-5S70zOSw30 succeed.\n",
      "-5S70zOSw30 deleted.\n",
      "----- finished ------\n",
      "----- executing ------\n",
      "['-5f6hjZf9Yw', 30, 40]\n"
     ]
    },
    {
     "name": "stderr",
     "output_type": "stream",
     "text": [
      "chunk:  29%|██▉       | 32/111 [00:00<00:00, 263.17it/s, now=None]"
     ]
    },
    {
     "name": "stdout",
     "output_type": "stream",
     "text": [
      "Moviepy - Building video ../data/5s_clips_40000/000070.mp4.\n",
      "MoviePy - Writing audio in %s\n"
     ]
    },
    {
     "name": "stderr",
     "output_type": "stream",
     "text": [
      "                                                                  "
     ]
    },
    {
     "name": "stdout",
     "output_type": "stream",
     "text": [
      "MoviePy - Done.\n",
      "Moviepy - Writing video ../data/5s_clips_40000/000070.mp4\n",
      "\n"
     ]
    },
    {
     "name": "stderr",
     "output_type": "stream",
     "text": [
      "chunk:  34%|███▍      | 38/111 [00:00<00:00, 370.77it/s, now=None]"
     ]
    },
    {
     "name": "stdout",
     "output_type": "stream",
     "text": [
      "Moviepy - Done !\n",
      "Moviepy - video ready ../data/5s_clips_40000/000070.mp4\n",
      "Moviepy - Building video ../data/5s_clips_40000/000071.mp4.\n",
      "MoviePy - Writing audio in %s\n"
     ]
    },
    {
     "name": "stderr",
     "output_type": "stream",
     "text": [
      "                                                                   \r"
     ]
    },
    {
     "name": "stdout",
     "output_type": "stream",
     "text": [
      "MoviePy - Done.\n",
      "Moviepy - Writing video ../data/5s_clips_40000/000071.mp4\n",
      "\n",
      "Moviepy - Done !\n",
      "Moviepy - video ready ../data/5s_clips_40000/000071.mp4\n",
      "-5f6hjZf9Yw succeed.\n",
      "-5f6hjZf9Yw deleted.\n",
      "----- finished ------\n",
      "----- executing ------\n",
      "['-5xOcMJpTUk', 70, 80]\n"
     ]
    },
    {
     "name": "stderr",
     "output_type": "stream",
     "text": [
      "chunk:  29%|██▉       | 32/111 [00:00<00:00, 297.41it/s, now=None]"
     ]
    },
    {
     "name": "stdout",
     "output_type": "stream",
     "text": [
      "Moviepy - Building video ../data/5s_clips_40000/000072.mp4.\n",
      "MoviePy - Writing audio in %s\n"
     ]
    },
    {
     "name": "stderr",
     "output_type": "stream",
     "text": [
      "t:  33%|███▎      | 49/150 [00:00<00:00, 478.81it/s, now=None]     "
     ]
    },
    {
     "name": "stdout",
     "output_type": "stream",
     "text": [
      "MoviePy - Done.\n",
      "Moviepy - Writing video ../data/5s_clips_40000/000072.mp4\n",
      "\n"
     ]
    },
    {
     "name": "stderr",
     "output_type": "stream",
     "text": [
      "chunk:  36%|███▌      | 40/111 [00:00<00:00, 394.19it/s, now=None]"
     ]
    },
    {
     "name": "stdout",
     "output_type": "stream",
     "text": [
      "Moviepy - Done !\n",
      "Moviepy - video ready ../data/5s_clips_40000/000072.mp4\n",
      "Moviepy - Building video ../data/5s_clips_40000/000073.mp4.\n",
      "MoviePy - Writing audio in %s\n"
     ]
    },
    {
     "name": "stderr",
     "output_type": "stream",
     "text": [
      "t:  34%|███▍      | 51/150 [00:00<00:00, 505.95it/s, now=None]    "
     ]
    },
    {
     "name": "stdout",
     "output_type": "stream",
     "text": [
      "MoviePy - Done.\n",
      "Moviepy - Writing video ../data/5s_clips_40000/000073.mp4\n",
      "\n"
     ]
    },
    {
     "name": "stderr",
     "output_type": "stream",
     "text": [
      "                                                               \r"
     ]
    },
    {
     "name": "stdout",
     "output_type": "stream",
     "text": [
      "Moviepy - Done !\n",
      "Moviepy - video ready ../data/5s_clips_40000/000073.mp4\n",
      "-5xOcMJpTUk succeed.\n",
      "-5xOcMJpTUk deleted.\n",
      "----- finished ------\n",
      "----- executing ------\n",
      "['-60XojQWWoc', 30, 40]\n"
     ]
    },
    {
     "name": "stderr",
     "output_type": "stream",
     "text": [
      "chunk:  29%|██▉       | 32/111 [00:00<00:00, 285.32it/s, now=None]"
     ]
    },
    {
     "name": "stdout",
     "output_type": "stream",
     "text": [
      "Moviepy - Building video ../data/5s_clips_40000/000074.mp4.\n",
      "MoviePy - Writing audio in %s\n"
     ]
    },
    {
     "name": "stderr",
     "output_type": "stream",
     "text": [
      "t:  24%|██▍       | 36/150 [00:00<00:00, 349.62it/s, now=None]    "
     ]
    },
    {
     "name": "stdout",
     "output_type": "stream",
     "text": [
      "MoviePy - Done.\n",
      "Moviepy - Writing video ../data/5s_clips_40000/000074.mp4\n",
      "\n"
     ]
    },
    {
     "name": "stderr",
     "output_type": "stream",
     "text": [
      "chunk:  45%|████▌     | 50/111 [00:00<00:00, 484.47it/s, now=None]"
     ]
    },
    {
     "name": "stdout",
     "output_type": "stream",
     "text": [
      "Moviepy - Done !\n",
      "Moviepy - video ready ../data/5s_clips_40000/000074.mp4\n",
      "Moviepy - Building video ../data/5s_clips_40000/000075.mp4.\n",
      "MoviePy - Writing audio in %s\n"
     ]
    },
    {
     "name": "stderr",
     "output_type": "stream",
     "text": [
      "t:  29%|██▉       | 44/150 [00:00<00:00, 430.43it/s, now=None]    "
     ]
    },
    {
     "name": "stdout",
     "output_type": "stream",
     "text": [
      "MoviePy - Done.\n",
      "Moviepy - Writing video ../data/5s_clips_40000/000075.mp4\n",
      "\n"
     ]
    },
    {
     "name": "stderr",
     "output_type": "stream",
     "text": [
      "                                                               \r"
     ]
    },
    {
     "name": "stdout",
     "output_type": "stream",
     "text": [
      "Moviepy - Done !\n",
      "Moviepy - video ready ../data/5s_clips_40000/000075.mp4\n",
      "-60XojQWWoc succeed.\n",
      "-60XojQWWoc deleted.\n",
      "----- finished ------\n",
      "----- executing ------\n",
      "['-64xnyOswXA', 120, 130]\n"
     ]
    },
    {
     "name": "stderr",
     "output_type": "stream",
     "text": [
      "chunk:  29%|██▉       | 32/111 [00:00<00:00, 302.96it/s, now=None]"
     ]
    },
    {
     "name": "stdout",
     "output_type": "stream",
     "text": [
      "Moviepy - Building video ../data/5s_clips_40000/000076.mp4.\n",
      "MoviePy - Writing audio in %s\n"
     ]
    },
    {
     "name": "stderr",
     "output_type": "stream",
     "text": [
      "t:   9%|▉         | 14/150 [00:00<00:00, 138.02it/s, now=None]    "
     ]
    },
    {
     "name": "stdout",
     "output_type": "stream",
     "text": [
      "MoviePy - Done.\n",
      "Moviepy - Writing video ../data/5s_clips_40000/000076.mp4\n",
      "\n"
     ]
    },
    {
     "name": "stderr",
     "output_type": "stream",
     "text": [
      "chunk:  34%|███▍      | 38/111 [00:00<00:00, 363.91it/s, now=None]"
     ]
    },
    {
     "name": "stdout",
     "output_type": "stream",
     "text": [
      "Moviepy - Done !\n",
      "Moviepy - video ready ../data/5s_clips_40000/000076.mp4\n",
      "Moviepy - Building video ../data/5s_clips_40000/000077.mp4.\n",
      "MoviePy - Writing audio in %s\n"
     ]
    },
    {
     "name": "stderr",
     "output_type": "stream",
     "text": [
      "t:  10%|█         | 15/150 [00:00<00:00, 141.83it/s, now=None]    "
     ]
    },
    {
     "name": "stdout",
     "output_type": "stream",
     "text": [
      "MoviePy - Done.\n",
      "Moviepy - Writing video ../data/5s_clips_40000/000077.mp4\n",
      "\n"
     ]
    },
    {
     "name": "stderr",
     "output_type": "stream",
     "text": [
      "                                                               \r"
     ]
    },
    {
     "name": "stdout",
     "output_type": "stream",
     "text": [
      "Moviepy - Done !\n",
      "Moviepy - video ready ../data/5s_clips_40000/000077.mp4\n",
      "-64xnyOswXA succeed.\n",
      "-64xnyOswXA deleted.\n",
      "----- finished ------\n",
      "----- executing ------\n",
      "['-693sNKI3iM', 30, 40]\n"
     ]
    },
    {
     "name": "stderr",
     "output_type": "stream",
     "text": [
      "chunk:  34%|███▍      | 38/111 [00:00<00:00, 368.29it/s, now=None]"
     ]
    },
    {
     "name": "stdout",
     "output_type": "stream",
     "text": [
      "Moviepy - Building video ../data/5s_clips_40000/000078.mp4.\n",
      "MoviePy - Writing audio in %s\n"
     ]
    },
    {
     "name": "stderr",
     "output_type": "stream",
     "text": [
      "t:  37%|███▋      | 46/125 [00:00<00:00, 454.64it/s, now=None]    "
     ]
    },
    {
     "name": "stdout",
     "output_type": "stream",
     "text": [
      "MoviePy - Done.\n",
      "Moviepy - Writing video ../data/5s_clips_40000/000078.mp4\n",
      "\n"
     ]
    },
    {
     "name": "stderr",
     "output_type": "stream",
     "text": [
      "chunk:  39%|███▊      | 43/111 [00:00<00:00, 414.18it/s, now=None]"
     ]
    },
    {
     "name": "stdout",
     "output_type": "stream",
     "text": [
      "Moviepy - Done !\n",
      "Moviepy - video ready ../data/5s_clips_40000/000078.mp4\n",
      "Moviepy - Building video ../data/5s_clips_40000/000079.mp4.\n",
      "MoviePy - Writing audio in %s\n"
     ]
    },
    {
     "name": "stderr",
     "output_type": "stream",
     "text": [
      "t:  41%|████      | 51/125 [00:00<00:00, 501.27it/s, now=None]    "
     ]
    },
    {
     "name": "stdout",
     "output_type": "stream",
     "text": [
      "MoviePy - Done.\n",
      "Moviepy - Writing video ../data/5s_clips_40000/000079.mp4\n",
      "\n"
     ]
    },
    {
     "name": "stderr",
     "output_type": "stream",
     "text": [
      "                                                               \r"
     ]
    },
    {
     "name": "stdout",
     "output_type": "stream",
     "text": [
      "Moviepy - Done !\n",
      "Moviepy - video ready ../data/5s_clips_40000/000079.mp4\n",
      "-693sNKI3iM succeed.\n",
      "-693sNKI3iM deleted.\n",
      "----- finished ------\n",
      "----- executing ------\n",
      "['-6QGvxvaTkI', 280, 290]\n"
     ]
    },
    {
     "name": "stderr",
     "output_type": "stream",
     "text": [
      "chunk:  29%|██▉       | 32/111 [00:00<00:00, 257.65it/s, now=None]"
     ]
    },
    {
     "name": "stdout",
     "output_type": "stream",
     "text": [
      "Moviepy - Building video ../data/5s_clips_40000/000080.mp4.\n",
      "MoviePy - Writing audio in %s\n"
     ]
    },
    {
     "name": "stderr",
     "output_type": "stream",
     "text": [
      "t:  34%|███▎      | 42/125 [00:00<00:00, 418.99it/s, now=None]    "
     ]
    },
    {
     "name": "stdout",
     "output_type": "stream",
     "text": [
      "MoviePy - Done.\n",
      "Moviepy - Writing video ../data/5s_clips_40000/000080.mp4\n",
      "\n"
     ]
    },
    {
     "name": "stderr",
     "output_type": "stream",
     "text": [
      "chunk:  36%|███▌      | 40/111 [00:00<00:00, 383.22it/s, now=None]"
     ]
    },
    {
     "name": "stdout",
     "output_type": "stream",
     "text": [
      "Moviepy - Done !\n",
      "Moviepy - video ready ../data/5s_clips_40000/000080.mp4\n",
      "Moviepy - Building video ../data/5s_clips_40000/000081.mp4.\n",
      "MoviePy - Writing audio in %s\n"
     ]
    },
    {
     "name": "stderr",
     "output_type": "stream",
     "text": [
      "t:  31%|███       | 39/125 [00:00<00:00, 381.20it/s, now=None]     "
     ]
    },
    {
     "name": "stdout",
     "output_type": "stream",
     "text": [
      "MoviePy - Done.\n",
      "Moviepy - Writing video ../data/5s_clips_40000/000081.mp4\n",
      "\n"
     ]
    },
    {
     "name": "stderr",
     "output_type": "stream",
     "text": [
      "                                                              \r"
     ]
    },
    {
     "name": "stdout",
     "output_type": "stream",
     "text": [
      "Moviepy - Done !\n",
      "Moviepy - video ready ../data/5s_clips_40000/000081.mp4\n",
      "-6QGvxvaTkI succeed.\n",
      "-6QGvxvaTkI deleted.\n",
      "----- finished ------\n",
      "----- executing ------\n",
      "['-6RN8skIHU4', 20, 30]\n"
     ]
    },
    {
     "name": "stderr",
     "output_type": "stream",
     "text": [
      "chunk:  34%|███▍      | 38/111 [00:00<00:00, 365.00it/s, now=None]"
     ]
    },
    {
     "name": "stdout",
     "output_type": "stream",
     "text": [
      "Moviepy - Building video ../data/5s_clips_40000/000082.mp4.\n",
      "MoviePy - Writing audio in %s\n"
     ]
    },
    {
     "name": "stderr",
     "output_type": "stream",
     "text": [
      "t:  27%|██▋       | 41/150 [00:00<00:00, 409.78it/s, now=None]    "
     ]
    },
    {
     "name": "stdout",
     "output_type": "stream",
     "text": [
      "MoviePy - Done.\n",
      "Moviepy - Writing video ../data/5s_clips_40000/000082.mp4\n",
      "\n"
     ]
    },
    {
     "name": "stderr",
     "output_type": "stream",
     "text": [
      "chunk:  46%|████▌     | 51/111 [00:00<00:00, 508.96it/s, now=None]"
     ]
    },
    {
     "name": "stdout",
     "output_type": "stream",
     "text": [
      "Moviepy - Done !\n",
      "Moviepy - video ready ../data/5s_clips_40000/000082.mp4\n",
      "Moviepy - Building video ../data/5s_clips_40000/000083.mp4.\n",
      "MoviePy - Writing audio in %s\n"
     ]
    },
    {
     "name": "stderr",
     "output_type": "stream",
     "text": [
      "t:  26%|██▌       | 39/150 [00:00<00:00, 387.63it/s, now=None]    "
     ]
    },
    {
     "name": "stdout",
     "output_type": "stream",
     "text": [
      "MoviePy - Done.\n",
      "Moviepy - Writing video ../data/5s_clips_40000/000083.mp4\n",
      "\n"
     ]
    },
    {
     "name": "stderr",
     "output_type": "stream",
     "text": [
      "                                                               \r"
     ]
    },
    {
     "name": "stdout",
     "output_type": "stream",
     "text": [
      "Moviepy - Done !\n",
      "Moviepy - video ready ../data/5s_clips_40000/000083.mp4\n",
      "-6RN8skIHU4 succeed.\n",
      "-6RN8skIHU4 deleted.\n",
      "----- finished ------\n",
      "----- executing ------\n",
      "['-6fxJZ7CW00', 30, 40]\n",
      "-6fxJZ7CW00 failed.\n",
      "----- finished ------\n",
      "----- executing ------\n",
      "['-6gC_nlUBfA', 60, 70]\n"
     ]
    },
    {
     "name": "stderr",
     "output_type": "stream",
     "text": [
      "chunk:  29%|██▉       | 32/111 [00:00<00:00, 269.20it/s, now=None]"
     ]
    },
    {
     "name": "stdout",
     "output_type": "stream",
     "text": [
      "Moviepy - Building video ../data/5s_clips_40000/000084.mp4.\n",
      "MoviePy - Writing audio in %s\n"
     ]
    },
    {
     "name": "stderr",
     "output_type": "stream",
     "text": [
      "t:   9%|▉         | 14/150 [00:00<00:01, 134.02it/s, now=None]    "
     ]
    },
    {
     "name": "stdout",
     "output_type": "stream",
     "text": [
      "MoviePy - Done.\n",
      "Moviepy - Writing video ../data/5s_clips_40000/000084.mp4\n",
      "\n"
     ]
    },
    {
     "name": "stderr",
     "output_type": "stream",
     "text": [
      "chunk:  38%|███▊      | 42/111 [00:00<00:00, 403.76it/s, now=None]"
     ]
    },
    {
     "name": "stdout",
     "output_type": "stream",
     "text": [
      "Moviepy - Done !\n",
      "Moviepy - video ready ../data/5s_clips_40000/000084.mp4\n",
      "Moviepy - Building video ../data/5s_clips_40000/000085.mp4.\n",
      "MoviePy - Writing audio in %s\n"
     ]
    },
    {
     "name": "stderr",
     "output_type": "stream",
     "text": [
      "t:   9%|▊         | 13/150 [00:00<00:01, 126.56it/s, now=None]    "
     ]
    },
    {
     "name": "stdout",
     "output_type": "stream",
     "text": [
      "MoviePy - Done.\n",
      "Moviepy - Writing video ../data/5s_clips_40000/000085.mp4\n",
      "\n"
     ]
    },
    {
     "name": "stderr",
     "output_type": "stream",
     "text": [
      "                                                              \r"
     ]
    },
    {
     "name": "stdout",
     "output_type": "stream",
     "text": [
      "Moviepy - Done !\n",
      "Moviepy - video ready ../data/5s_clips_40000/000085.mp4\n",
      "-6gC_nlUBfA succeed.\n",
      "-6gC_nlUBfA deleted.\n",
      "----- finished ------\n",
      "----- executing ------\n",
      "['-6krAYK2LLo', 30, 40]\n"
     ]
    },
    {
     "name": "stderr",
     "output_type": "stream",
     "text": [
      "chunk:  29%|██▉       | 32/111 [00:00<00:00, 274.54it/s, now=None]"
     ]
    },
    {
     "name": "stdout",
     "output_type": "stream",
     "text": [
      "Moviepy - Building video ../data/5s_clips_40000/000086.mp4.\n",
      "MoviePy - Writing audio in %s\n"
     ]
    },
    {
     "name": "stderr",
     "output_type": "stream",
     "text": [
      "t:  27%|██▋       | 41/150 [00:00<00:00, 406.57it/s, now=None]     "
     ]
    },
    {
     "name": "stdout",
     "output_type": "stream",
     "text": [
      "MoviePy - Done.\n",
      "Moviepy - Writing video ../data/5s_clips_40000/000086.mp4\n",
      "\n"
     ]
    },
    {
     "name": "stderr",
     "output_type": "stream",
     "text": [
      "chunk:  29%|██▉       | 32/111 [00:00<00:00, 319.51it/s, now=None]"
     ]
    },
    {
     "name": "stdout",
     "output_type": "stream",
     "text": [
      "Moviepy - Done !\n",
      "Moviepy - video ready ../data/5s_clips_40000/000086.mp4\n",
      "Moviepy - Building video ../data/5s_clips_40000/000087.mp4.\n",
      "MoviePy - Writing audio in %s\n"
     ]
    },
    {
     "name": "stderr",
     "output_type": "stream",
     "text": [
      "t:  25%|██▌       | 38/150 [00:00<00:00, 376.60it/s, now=None]    "
     ]
    },
    {
     "name": "stdout",
     "output_type": "stream",
     "text": [
      "MoviePy - Done.\n",
      "Moviepy - Writing video ../data/5s_clips_40000/000087.mp4\n",
      "\n"
     ]
    },
    {
     "name": "stderr",
     "output_type": "stream",
     "text": [
      "                                                               \r"
     ]
    },
    {
     "name": "stdout",
     "output_type": "stream",
     "text": [
      "Moviepy - Done !\n",
      "Moviepy - video ready ../data/5s_clips_40000/000087.mp4\n",
      "-6krAYK2LLo succeed.\n",
      "-6krAYK2LLo deleted.\n",
      "----- finished ------\n",
      "----- executing ------\n",
      "['-6pcgdLfb_A', 110, 120]\n"
     ]
    },
    {
     "name": "stderr",
     "output_type": "stream",
     "text": [
      "chunk:  29%|██▉       | 32/111 [00:00<00:00, 284.57it/s, now=None]"
     ]
    },
    {
     "name": "stdout",
     "output_type": "stream",
     "text": [
      "Moviepy - Building video ../data/5s_clips_40000/000088.mp4.\n",
      "MoviePy - Writing audio in %s\n"
     ]
    },
    {
     "name": "stderr",
     "output_type": "stream",
     "text": [
      "t:  35%|███▌      | 53/150 [00:00<00:00, 521.90it/s, now=None]     "
     ]
    },
    {
     "name": "stdout",
     "output_type": "stream",
     "text": [
      "MoviePy - Done.\n",
      "Moviepy - Writing video ../data/5s_clips_40000/000088.mp4\n",
      "\n"
     ]
    },
    {
     "name": "stderr",
     "output_type": "stream",
     "text": [
      "chunk:  34%|███▍      | 38/111 [00:00<00:00, 372.87it/s, now=None]"
     ]
    },
    {
     "name": "stdout",
     "output_type": "stream",
     "text": [
      "Moviepy - Done !\n",
      "Moviepy - video ready ../data/5s_clips_40000/000088.mp4\n",
      "Moviepy - Building video ../data/5s_clips_40000/000089.mp4.\n",
      "MoviePy - Writing audio in %s\n"
     ]
    },
    {
     "name": "stderr",
     "output_type": "stream",
     "text": [
      "t:  31%|███       | 46/150 [00:00<00:00, 455.03it/s, now=None]     "
     ]
    },
    {
     "name": "stdout",
     "output_type": "stream",
     "text": [
      "MoviePy - Done.\n",
      "Moviepy - Writing video ../data/5s_clips_40000/000089.mp4\n",
      "\n"
     ]
    },
    {
     "name": "stderr",
     "output_type": "stream",
     "text": [
      "                                                               \r"
     ]
    },
    {
     "name": "stdout",
     "output_type": "stream",
     "text": [
      "Moviepy - Done !\n",
      "Moviepy - video ready ../data/5s_clips_40000/000089.mp4\n",
      "-6pcgdLfb_A succeed.\n",
      "-6pcgdLfb_A deleted.\n",
      "----- finished ------\n",
      "----- executing ------\n",
      "['-6sgMgtW91g', 20, 30]\n",
      "-6sgMgtW91g failed.\n",
      "----- finished ------\n",
      "----- executing ------\n",
      "['-6x2PtSRfJU', 30, 40]\n"
     ]
    },
    {
     "name": "stderr",
     "output_type": "stream",
     "text": [
      "chunk:  29%|██▉       | 32/111 [00:00<00:00, 319.34it/s, now=None]"
     ]
    },
    {
     "name": "stdout",
     "output_type": "stream",
     "text": [
      "Moviepy - Building video ../data/5s_clips_40000/000090.mp4.\n",
      "MoviePy - Writing audio in %s\n"
     ]
    },
    {
     "name": "stderr",
     "output_type": "stream",
     "text": [
      "t:  33%|███▎      | 50/150 [00:00<00:00, 497.11it/s, now=None]    "
     ]
    },
    {
     "name": "stdout",
     "output_type": "stream",
     "text": [
      "MoviePy - Done.\n",
      "Moviepy - Writing video ../data/5s_clips_40000/000090.mp4\n",
      "\n"
     ]
    },
    {
     "name": "stderr",
     "output_type": "stream",
     "text": [
      "chunk:  45%|████▌     | 50/111 [00:00<00:00, 483.13it/s, now=None]"
     ]
    },
    {
     "name": "stdout",
     "output_type": "stream",
     "text": [
      "Moviepy - Done !\n",
      "Moviepy - video ready ../data/5s_clips_40000/000090.mp4\n",
      "Moviepy - Building video ../data/5s_clips_40000/000091.mp4.\n",
      "MoviePy - Writing audio in %s\n"
     ]
    },
    {
     "name": "stderr",
     "output_type": "stream",
     "text": [
      "t:  29%|██▉       | 44/150 [00:00<00:00, 435.63it/s, now=None]    "
     ]
    },
    {
     "name": "stdout",
     "output_type": "stream",
     "text": [
      "MoviePy - Done.\n",
      "Moviepy - Writing video ../data/5s_clips_40000/000091.mp4\n",
      "\n"
     ]
    },
    {
     "name": "stderr",
     "output_type": "stream",
     "text": [
      "                                                               \r"
     ]
    },
    {
     "name": "stdout",
     "output_type": "stream",
     "text": [
      "Moviepy - Done !\n",
      "Moviepy - video ready ../data/5s_clips_40000/000091.mp4\n",
      "-6x2PtSRfJU succeed.\n",
      "-6x2PtSRfJU deleted.\n",
      "----- finished ------\n",
      "----- executing ------\n",
      "['-70MzkgSsHQ', 30, 40]\n"
     ]
    },
    {
     "name": "stderr",
     "output_type": "stream",
     "text": [
      "chunk:  29%|██▉       | 32/111 [00:00<00:00, 236.40it/s, now=None]"
     ]
    },
    {
     "name": "stdout",
     "output_type": "stream",
     "text": [
      "Moviepy - Building video ../data/5s_clips_40000/000092.mp4.\n",
      "MoviePy - Writing audio in %s\n"
     ]
    },
    {
     "name": "stderr",
     "output_type": "stream",
     "text": [
      "t:  30%|███       | 45/150 [00:00<00:00, 441.24it/s, now=None]     "
     ]
    },
    {
     "name": "stdout",
     "output_type": "stream",
     "text": [
      "MoviePy - Done.\n",
      "Moviepy - Writing video ../data/5s_clips_40000/000092.mp4\n",
      "\n"
     ]
    },
    {
     "name": "stderr",
     "output_type": "stream",
     "text": [
      "chunk:  36%|███▌      | 40/111 [00:00<00:00, 384.17it/s, now=None]"
     ]
    },
    {
     "name": "stdout",
     "output_type": "stream",
     "text": [
      "Moviepy - Done !\n",
      "Moviepy - video ready ../data/5s_clips_40000/000092.mp4\n",
      "Moviepy - Building video ../data/5s_clips_40000/000093.mp4.\n",
      "MoviePy - Writing audio in %s\n"
     ]
    },
    {
     "name": "stderr",
     "output_type": "stream",
     "text": [
      "t:  32%|███▏      | 48/150 [00:00<00:00, 474.18it/s, now=None]     "
     ]
    },
    {
     "name": "stdout",
     "output_type": "stream",
     "text": [
      "MoviePy - Done.\n",
      "Moviepy - Writing video ../data/5s_clips_40000/000093.mp4\n",
      "\n"
     ]
    },
    {
     "name": "stderr",
     "output_type": "stream",
     "text": [
      "                                                               \r"
     ]
    },
    {
     "name": "stdout",
     "output_type": "stream",
     "text": [
      "Moviepy - Done !\n",
      "Moviepy - video ready ../data/5s_clips_40000/000093.mp4\n",
      "-70MzkgSsHQ succeed.\n",
      "-70MzkgSsHQ deleted.\n",
      "----- finished ------\n",
      "----- executing ------\n",
      "['-70wVF5u-gg', 30, 40]\n"
     ]
    },
    {
     "name": "stderr",
     "output_type": "stream",
     "text": [
      "chunk:  29%|██▉       | 32/111 [00:00<00:00, 259.43it/s, now=None]"
     ]
    },
    {
     "name": "stdout",
     "output_type": "stream",
     "text": [
      "Moviepy - Building video ../data/5s_clips_40000/000094.mp4.\n",
      "MoviePy - Writing audio in %s\n"
     ]
    },
    {
     "name": "stderr",
     "output_type": "stream",
     "text": [
      "t:  38%|███▊      | 57/150 [00:00<00:00, 563.45it/s, now=None]    "
     ]
    },
    {
     "name": "stdout",
     "output_type": "stream",
     "text": [
      "MoviePy - Done.\n",
      "Moviepy - Writing video ../data/5s_clips_40000/000094.mp4\n",
      "\n"
     ]
    },
    {
     "name": "stderr",
     "output_type": "stream",
     "text": [
      "chunk:  45%|████▌     | 50/111 [00:00<00:00, 480.60it/s, now=None]"
     ]
    },
    {
     "name": "stdout",
     "output_type": "stream",
     "text": [
      "Moviepy - Done !\n",
      "Moviepy - video ready ../data/5s_clips_40000/000094.mp4\n",
      "Moviepy - Building video ../data/5s_clips_40000/000095.mp4.\n",
      "MoviePy - Writing audio in %s\n"
     ]
    },
    {
     "name": "stderr",
     "output_type": "stream",
     "text": [
      "t:  41%|████      | 61/150 [00:00<00:00, 605.06it/s, now=None]    "
     ]
    },
    {
     "name": "stdout",
     "output_type": "stream",
     "text": [
      "MoviePy - Done.\n",
      "Moviepy - Writing video ../data/5s_clips_40000/000095.mp4\n",
      "\n"
     ]
    },
    {
     "name": "stderr",
     "output_type": "stream",
     "text": [
      "                                                               \r"
     ]
    },
    {
     "name": "stdout",
     "output_type": "stream",
     "text": [
      "Moviepy - Done !\n",
      "Moviepy - video ready ../data/5s_clips_40000/000095.mp4\n",
      "-70wVF5u-gg succeed.\n",
      "-70wVF5u-gg deleted.\n",
      "----- finished ------\n",
      "----- executing ------\n",
      "['-75IwDlkzDQ', 30, 40]\n"
     ]
    },
    {
     "name": "stderr",
     "output_type": "stream",
     "text": [
      "chunk:  34%|███▍      | 38/111 [00:00<00:00, 370.20it/s, now=None]"
     ]
    },
    {
     "name": "stdout",
     "output_type": "stream",
     "text": [
      "Moviepy - Building video ../data/5s_clips_40000/000096.mp4.\n",
      "MoviePy - Writing audio in %s\n"
     ]
    },
    {
     "name": "stderr",
     "output_type": "stream",
     "text": [
      "                                                                  "
     ]
    },
    {
     "name": "stdout",
     "output_type": "stream",
     "text": [
      "MoviePy - Done.\n",
      "Moviepy - Writing video ../data/5s_clips_40000/000096.mp4\n",
      "\n"
     ]
    },
    {
     "name": "stderr",
     "output_type": "stream",
     "text": [
      "chunk:  45%|████▌     | 50/111 [00:00<00:00, 496.34it/s, now=None]"
     ]
    },
    {
     "name": "stdout",
     "output_type": "stream",
     "text": [
      "Moviepy - Done !\n",
      "Moviepy - video ready ../data/5s_clips_40000/000096.mp4\n",
      "Moviepy - Building video ../data/5s_clips_40000/000097.mp4.\n",
      "MoviePy - Writing audio in %s\n"
     ]
    },
    {
     "name": "stderr",
     "output_type": "stream",
     "text": [
      "                                                                  \r"
     ]
    },
    {
     "name": "stdout",
     "output_type": "stream",
     "text": [
      "MoviePy - Done.\n",
      "Moviepy - Writing video ../data/5s_clips_40000/000097.mp4\n",
      "\n",
      "Moviepy - Done !\n",
      "Moviepy - video ready ../data/5s_clips_40000/000097.mp4\n",
      "-75IwDlkzDQ succeed.\n",
      "-75IwDlkzDQ deleted.\n",
      "----- finished ------\n",
      "----- executing ------\n",
      "['-76P3VHPuus', 10, 20]\n"
     ]
    },
    {
     "name": "stderr",
     "output_type": "stream",
     "text": [
      "chunk:  38%|███▊      | 42/111 [00:00<00:00, 404.75it/s, now=None]"
     ]
    },
    {
     "name": "stdout",
     "output_type": "stream",
     "text": [
      "Moviepy - Building video ../data/5s_clips_40000/000098.mp4.\n",
      "MoviePy - Writing audio in %s\n"
     ]
    },
    {
     "name": "stderr",
     "output_type": "stream",
     "text": [
      "t:  52%|█████▏    | 78/150 [00:00<00:00, 775.04it/s, now=None]    "
     ]
    },
    {
     "name": "stdout",
     "output_type": "stream",
     "text": [
      "MoviePy - Done.\n",
      "Moviepy - Writing video ../data/5s_clips_40000/000098.mp4\n",
      "\n"
     ]
    },
    {
     "name": "stderr",
     "output_type": "stream",
     "text": [
      "chunk:  48%|████▊     | 53/111 [00:00<00:00, 520.89it/s, now=None]"
     ]
    },
    {
     "name": "stdout",
     "output_type": "stream",
     "text": [
      "Moviepy - Done !\n",
      "Moviepy - video ready ../data/5s_clips_40000/000098.mp4\n",
      "Moviepy - Building video ../data/5s_clips_40000/000099.mp4.\n",
      "MoviePy - Writing audio in %s\n"
     ]
    },
    {
     "name": "stderr",
     "output_type": "stream",
     "text": [
      "                                                                   \r"
     ]
    },
    {
     "name": "stdout",
     "output_type": "stream",
     "text": [
      "MoviePy - Done.\n",
      "Moviepy - Writing video ../data/5s_clips_40000/000099.mp4\n",
      "\n",
      "Moviepy - Done !\n",
      "Moviepy - video ready ../data/5s_clips_40000/000099.mp4\n",
      "-76P3VHPuus succeed.\n",
      "-76P3VHPuus deleted.\n",
      "----- finished ------\n",
      "----- executing ------\n",
      "['-7J4109yM7w', 30, 40]\n"
     ]
    },
    {
     "name": "stderr",
     "output_type": "stream",
     "text": [
      "chunk:  29%|██▉       | 32/111 [00:00<00:00, 199.17it/s, now=None]"
     ]
    },
    {
     "name": "stdout",
     "output_type": "stream",
     "text": [
      "Moviepy - Building video ../data/5s_clips_40000/000100.mp4.\n",
      "MoviePy - Writing audio in %s\n"
     ]
    },
    {
     "name": "stderr",
     "output_type": "stream",
     "text": [
      "t:  27%|██▋       | 41/150 [00:00<00:00, 408.65it/s, now=None]     "
     ]
    },
    {
     "name": "stdout",
     "output_type": "stream",
     "text": [
      "MoviePy - Done.\n",
      "Moviepy - Writing video ../data/5s_clips_40000/000100.mp4\n",
      "\n"
     ]
    },
    {
     "name": "stderr",
     "output_type": "stream",
     "text": [
      "chunk:  29%|██▉       | 32/111 [00:00<00:00, 256.37it/s, now=None]"
     ]
    },
    {
     "name": "stdout",
     "output_type": "stream",
     "text": [
      "Moviepy - Done !\n",
      "Moviepy - video ready ../data/5s_clips_40000/000100.mp4\n",
      "Moviepy - Building video ../data/5s_clips_40000/000101.mp4.\n",
      "MoviePy - Writing audio in %s\n"
     ]
    },
    {
     "name": "stderr",
     "output_type": "stream",
     "text": [
      "t:  29%|██▉       | 44/150 [00:00<00:00, 434.04it/s, now=None]    "
     ]
    },
    {
     "name": "stdout",
     "output_type": "stream",
     "text": [
      "MoviePy - Done.\n",
      "Moviepy - Writing video ../data/5s_clips_40000/000101.mp4\n",
      "\n"
     ]
    },
    {
     "name": "stderr",
     "output_type": "stream",
     "text": [
      "                                                               \r"
     ]
    },
    {
     "name": "stdout",
     "output_type": "stream",
     "text": [
      "Moviepy - Done !\n",
      "Moviepy - video ready ../data/5s_clips_40000/000101.mp4\n",
      "-7J4109yM7w succeed.\n",
      "-7J4109yM7w deleted.\n",
      "----- finished ------\n",
      "----- executing ------\n",
      "['-7QVE8o9uk4', 30, 40]\n"
     ]
    },
    {
     "name": "stderr",
     "output_type": "stream",
     "text": [
      "chunk:  29%|██▉       | 32/111 [00:00<00:00, 303.07it/s, now=None]"
     ]
    },
    {
     "name": "stdout",
     "output_type": "stream",
     "text": [
      "Moviepy - Building video ../data/5s_clips_40000/000102.mp4.\n",
      "MoviePy - Writing audio in %s\n"
     ]
    },
    {
     "name": "stderr",
     "output_type": "stream",
     "text": [
      "t:  44%|████▍     | 53/120 [00:00<00:00, 529.41it/s, now=None]     "
     ]
    },
    {
     "name": "stdout",
     "output_type": "stream",
     "text": [
      "MoviePy - Done.\n",
      "Moviepy - Writing video ../data/5s_clips_40000/000102.mp4\n",
      "\n"
     ]
    },
    {
     "name": "stderr",
     "output_type": "stream",
     "text": [
      "chunk:  39%|███▊      | 43/111 [00:00<00:00, 397.85it/s, now=None]"
     ]
    },
    {
     "name": "stdout",
     "output_type": "stream",
     "text": [
      "Moviepy - Done !\n",
      "Moviepy - video ready ../data/5s_clips_40000/000102.mp4\n",
      "Moviepy - Building video ../data/5s_clips_40000/000103.mp4.\n",
      "MoviePy - Writing audio in %s\n"
     ]
    },
    {
     "name": "stderr",
     "output_type": "stream",
     "text": [
      "t:  43%|████▎     | 52/120 [00:00<00:00, 514.18it/s, now=None]    "
     ]
    },
    {
     "name": "stdout",
     "output_type": "stream",
     "text": [
      "MoviePy - Done.\n",
      "Moviepy - Writing video ../data/5s_clips_40000/000103.mp4\n",
      "\n"
     ]
    },
    {
     "name": "stderr",
     "output_type": "stream",
     "text": [
      "                                                               \r"
     ]
    },
    {
     "name": "stdout",
     "output_type": "stream",
     "text": [
      "Moviepy - Done !\n",
      "Moviepy - video ready ../data/5s_clips_40000/000103.mp4\n",
      "-7QVE8o9uk4 succeed.\n",
      "-7QVE8o9uk4 deleted.\n",
      "----- finished ------\n",
      "----- executing ------\n",
      "['-7WpTk5AHfk', 30, 40]\n",
      "-7WpTk5AHfk failed.\n",
      "----- finished ------\n",
      "----- executing ------\n",
      "['-7aibH1LKwI', 90, 100]\n"
     ]
    },
    {
     "name": "stderr",
     "output_type": "stream",
     "text": [
      "chunk:  29%|██▉       | 32/111 [00:00<00:00, 285.38it/s, now=None]"
     ]
    },
    {
     "name": "stdout",
     "output_type": "stream",
     "text": [
      "Moviepy - Building video ../data/5s_clips_40000/000104.mp4.\n",
      "MoviePy - Writing audio in %s\n"
     ]
    },
    {
     "name": "stderr",
     "output_type": "stream",
     "text": [
      "t:  25%|██▌       | 38/150 [00:00<00:00, 379.70it/s, now=None]    "
     ]
    },
    {
     "name": "stdout",
     "output_type": "stream",
     "text": [
      "MoviePy - Done.\n",
      "Moviepy - Writing video ../data/5s_clips_40000/000104.mp4\n",
      "\n"
     ]
    },
    {
     "name": "stderr",
     "output_type": "stream",
     "text": [
      "t:   0%|          | 0/150 [00:00<?, ?it/s, now=None]              "
     ]
    },
    {
     "name": "stdout",
     "output_type": "stream",
     "text": [
      "Moviepy - Done !\n",
      "Moviepy - video ready ../data/5s_clips_40000/000104.mp4\n",
      "Moviepy - Building video ../data/5s_clips_40000/000105.mp4.\n",
      "MoviePy - Writing audio in %s\n",
      "MoviePy - Done.\n",
      "Moviepy - Writing video ../data/5s_clips_40000/000105.mp4\n",
      "\n"
     ]
    },
    {
     "name": "stderr",
     "output_type": "stream",
     "text": [
      "                                                               \r"
     ]
    },
    {
     "name": "stdout",
     "output_type": "stream",
     "text": [
      "Moviepy - Done !\n",
      "Moviepy - video ready ../data/5s_clips_40000/000105.mp4\n",
      "-7aibH1LKwI succeed.\n",
      "-7aibH1LKwI deleted.\n",
      "----- finished ------\n",
      "----- executing ------\n",
      "['-7wUQP6G5EQ', 30, 40]\n"
     ]
    },
    {
     "name": "stderr",
     "output_type": "stream",
     "text": [
      "chunk:  29%|██▉       | 32/111 [00:00<00:00, 219.51it/s, now=None]"
     ]
    },
    {
     "name": "stdout",
     "output_type": "stream",
     "text": [
      "Moviepy - Building video ../data/5s_clips_40000/000106.mp4.\n",
      "MoviePy - Writing audio in %s\n"
     ]
    },
    {
     "name": "stderr",
     "output_type": "stream",
     "text": [
      "t:  43%|████▎     | 54/125 [00:00<00:00, 539.06it/s, now=None]    "
     ]
    },
    {
     "name": "stdout",
     "output_type": "stream",
     "text": [
      "MoviePy - Done.\n",
      "Moviepy - Writing video ../data/5s_clips_40000/000106.mp4\n",
      "\n"
     ]
    },
    {
     "name": "stderr",
     "output_type": "stream",
     "text": [
      "chunk:  34%|███▍      | 38/111 [00:00<00:00, 365.65it/s, now=None]"
     ]
    },
    {
     "name": "stdout",
     "output_type": "stream",
     "text": [
      "Moviepy - Done !\n",
      "Moviepy - video ready ../data/5s_clips_40000/000106.mp4\n",
      "Moviepy - Building video ../data/5s_clips_40000/000107.mp4.\n",
      "MoviePy - Writing audio in %s\n"
     ]
    },
    {
     "name": "stderr",
     "output_type": "stream",
     "text": [
      "t:  39%|███▉      | 49/125 [00:00<00:00, 487.64it/s, now=None]     "
     ]
    },
    {
     "name": "stdout",
     "output_type": "stream",
     "text": [
      "MoviePy - Done.\n",
      "Moviepy - Writing video ../data/5s_clips_40000/000107.mp4\n",
      "\n"
     ]
    },
    {
     "name": "stderr",
     "output_type": "stream",
     "text": [
      "                                                              \r"
     ]
    },
    {
     "name": "stdout",
     "output_type": "stream",
     "text": [
      "Moviepy - Done !\n",
      "Moviepy - video ready ../data/5s_clips_40000/000107.mp4\n",
      "-7wUQP6G5EQ succeed.\n",
      "-7wUQP6G5EQ deleted.\n",
      "----- finished ------\n",
      "----- executing ------\n",
      "['-7ye24UFRng', 0, 10]\n"
     ]
    },
    {
     "name": "stderr",
     "output_type": "stream",
     "text": [
      "chunk:  41%|████▏     | 46/111 [00:00<00:00, 442.80it/s, now=None]"
     ]
    },
    {
     "name": "stdout",
     "output_type": "stream",
     "text": [
      "Moviepy - Building video ../data/5s_clips_40000/000108.mp4.\n",
      "MoviePy - Writing audio in %s\n"
     ]
    },
    {
     "name": "stderr",
     "output_type": "stream",
     "text": [
      "t:  11%|█         | 16/150 [00:00<00:00, 152.73it/s, now=None]    "
     ]
    },
    {
     "name": "stdout",
     "output_type": "stream",
     "text": [
      "MoviePy - Done.\n",
      "Moviepy - Writing video ../data/5s_clips_40000/000108.mp4\n",
      "\n"
     ]
    },
    {
     "name": "stderr",
     "output_type": "stream",
     "text": [
      "chunk:  38%|███▊      | 42/111 [00:00<00:00, 417.14it/s, now=None]"
     ]
    },
    {
     "name": "stdout",
     "output_type": "stream",
     "text": [
      "Moviepy - Done !\n",
      "Moviepy - video ready ../data/5s_clips_40000/000108.mp4\n",
      "Moviepy - Building video ../data/5s_clips_40000/000109.mp4.\n",
      "MoviePy - Writing audio in %s\n"
     ]
    },
    {
     "name": "stderr",
     "output_type": "stream",
     "text": [
      "t:  10%|█         | 15/150 [00:00<00:00, 144.58it/s, now=None]    "
     ]
    },
    {
     "name": "stdout",
     "output_type": "stream",
     "text": [
      "MoviePy - Done.\n",
      "Moviepy - Writing video ../data/5s_clips_40000/000109.mp4\n",
      "\n"
     ]
    },
    {
     "name": "stderr",
     "output_type": "stream",
     "text": [
      "                                                               \r"
     ]
    },
    {
     "name": "stdout",
     "output_type": "stream",
     "text": [
      "Moviepy - Done !\n",
      "Moviepy - video ready ../data/5s_clips_40000/000109.mp4\n",
      "-7ye24UFRng succeed.\n",
      "-7ye24UFRng deleted.\n",
      "----- finished ------\n",
      "----- executing ------\n",
      "['-7z662AsuTE', 380, 390]\n"
     ]
    },
    {
     "name": "stderr",
     "output_type": "stream",
     "text": [
      "chunk:  29%|██▉       | 32/111 [00:00<00:00, 272.08it/s, now=None]"
     ]
    },
    {
     "name": "stdout",
     "output_type": "stream",
     "text": [
      "Moviepy - Building video ../data/5s_clips_40000/000110.mp4.\n",
      "MoviePy - Writing audio in %s\n"
     ]
    },
    {
     "name": "stderr",
     "output_type": "stream",
     "text": [
      "t:  35%|███▌      | 42/120 [00:00<00:00, 415.44it/s, now=None]     "
     ]
    },
    {
     "name": "stdout",
     "output_type": "stream",
     "text": [
      "MoviePy - Done.\n",
      "Moviepy - Writing video ../data/5s_clips_40000/000110.mp4\n",
      "\n"
     ]
    },
    {
     "name": "stderr",
     "output_type": "stream",
     "text": [
      "chunk:  36%|███▌      | 40/111 [00:00<00:00, 394.59it/s, now=None]"
     ]
    },
    {
     "name": "stdout",
     "output_type": "stream",
     "text": [
      "Moviepy - Done !\n",
      "Moviepy - video ready ../data/5s_clips_40000/000110.mp4\n",
      "Moviepy - Building video ../data/5s_clips_40000/000111.mp4.\n",
      "MoviePy - Writing audio in %s\n"
     ]
    },
    {
     "name": "stderr",
     "output_type": "stream",
     "text": [
      "t:  40%|████      | 48/120 [00:00<00:00, 469.33it/s, now=None]     "
     ]
    },
    {
     "name": "stdout",
     "output_type": "stream",
     "text": [
      "MoviePy - Done.\n",
      "Moviepy - Writing video ../data/5s_clips_40000/000111.mp4\n",
      "\n"
     ]
    },
    {
     "name": "stderr",
     "output_type": "stream",
     "text": [
      "                                                              \r"
     ]
    },
    {
     "name": "stdout",
     "output_type": "stream",
     "text": [
      "Moviepy - Done !\n",
      "Moviepy - video ready ../data/5s_clips_40000/000111.mp4\n",
      "-7z662AsuTE succeed.\n",
      "-7z662AsuTE deleted.\n",
      "----- finished ------\n",
      "----- executing ------\n",
      "['-82vJ9bcar4', 40, 50]\n"
     ]
    },
    {
     "name": "stderr",
     "output_type": "stream",
     "text": [
      "chunk:  29%|██▉       | 32/111 [00:00<00:00, 243.94it/s, now=None]"
     ]
    },
    {
     "name": "stdout",
     "output_type": "stream",
     "text": [
      "Moviepy - Building video ../data/5s_clips_40000/000112.mp4.\n",
      "MoviePy - Writing audio in %s\n"
     ]
    },
    {
     "name": "stderr",
     "output_type": "stream",
     "text": [
      "t:  23%|██▎       | 35/150 [00:00<00:00, 346.92it/s, now=None]     "
     ]
    },
    {
     "name": "stdout",
     "output_type": "stream",
     "text": [
      "MoviePy - Done.\n",
      "Moviepy - Writing video ../data/5s_clips_40000/000112.mp4\n",
      "\n"
     ]
    },
    {
     "name": "stderr",
     "output_type": "stream",
     "text": [
      "chunk:  29%|██▉       | 32/111 [00:00<00:00, 313.51it/s, now=None]"
     ]
    },
    {
     "name": "stdout",
     "output_type": "stream",
     "text": [
      "Moviepy - Done !\n",
      "Moviepy - video ready ../data/5s_clips_40000/000112.mp4\n",
      "Moviepy - Building video ../data/5s_clips_40000/000113.mp4.\n",
      "MoviePy - Writing audio in %s\n"
     ]
    },
    {
     "name": "stderr",
     "output_type": "stream",
     "text": [
      "t:  23%|██▎       | 34/150 [00:00<00:00, 338.06it/s, now=None]    "
     ]
    },
    {
     "name": "stdout",
     "output_type": "stream",
     "text": [
      "MoviePy - Done.\n",
      "Moviepy - Writing video ../data/5s_clips_40000/000113.mp4\n",
      "\n"
     ]
    },
    {
     "name": "stderr",
     "output_type": "stream",
     "text": [
      "                                                               \r"
     ]
    },
    {
     "name": "stdout",
     "output_type": "stream",
     "text": [
      "Moviepy - Done !\n",
      "Moviepy - video ready ../data/5s_clips_40000/000113.mp4\n",
      "-82vJ9bcar4 succeed.\n",
      "-82vJ9bcar4 deleted.\n",
      "----- finished ------\n",
      "----- executing ------\n",
      "['-8CrCItCO24', 30, 40]\n"
     ]
    },
    {
     "name": "stderr",
     "output_type": "stream",
     "text": [
      "chunk:  34%|███▍      | 38/111 [00:00<00:00, 368.14it/s, now=None]"
     ]
    },
    {
     "name": "stdout",
     "output_type": "stream",
     "text": [
      "Moviepy - Building video ../data/5s_clips_40000/000114.mp4.\n",
      "MoviePy - Writing audio in %s\n"
     ]
    },
    {
     "name": "stderr",
     "output_type": "stream",
     "text": [
      "chunk:   0%|          | 0/111 [00:00<?, ?it/s, now=None]          "
     ]
    },
    {
     "name": "stdout",
     "output_type": "stream",
     "text": [
      "MoviePy - Done.\n",
      "Moviepy - Writing video ../data/5s_clips_40000/000114.mp4\n",
      "\n",
      "Moviepy - Done !\n",
      "Moviepy - video ready ../data/5s_clips_40000/000114.mp4\n",
      "Moviepy - Building video ../data/5s_clips_40000/000115.mp4.\n",
      "MoviePy - Writing audio in %s\n"
     ]
    },
    {
     "name": "stderr",
     "output_type": "stream",
     "text": [
      "                                                                  \r"
     ]
    },
    {
     "name": "stdout",
     "output_type": "stream",
     "text": [
      "MoviePy - Done.\n",
      "Moviepy - Writing video ../data/5s_clips_40000/000115.mp4\n",
      "\n",
      "Moviepy - Done !\n",
      "Moviepy - video ready ../data/5s_clips_40000/000115.mp4\n",
      "-8CrCItCO24 succeed.\n",
      "-8CrCItCO24 deleted.\n",
      "----- finished ------\n",
      "----- executing ------\n",
      "['-8Ezw9946g8', 100, 110]\n"
     ]
    },
    {
     "name": "stderr",
     "output_type": "stream",
     "text": [
      "chunk:  29%|██▉       | 32/111 [00:00<00:00, 218.76it/s, now=None]"
     ]
    },
    {
     "name": "stdout",
     "output_type": "stream",
     "text": [
      "Moviepy - Building video ../data/5s_clips_40000/000116.mp4.\n",
      "MoviePy - Writing audio in %s\n"
     ]
    },
    {
     "name": "stderr",
     "output_type": "stream",
     "text": [
      "t:  10%|█         | 13/125 [00:00<00:00, 125.66it/s, now=None]    "
     ]
    },
    {
     "name": "stdout",
     "output_type": "stream",
     "text": [
      "MoviePy - Done.\n",
      "Moviepy - Writing video ../data/5s_clips_40000/000116.mp4\n",
      "\n"
     ]
    },
    {
     "name": "stderr",
     "output_type": "stream",
     "text": [
      "chunk:  29%|██▉       | 32/111 [00:00<00:00, 303.75it/s, now=None]"
     ]
    },
    {
     "name": "stdout",
     "output_type": "stream",
     "text": [
      "Moviepy - Done !\n",
      "Moviepy - video ready ../data/5s_clips_40000/000116.mp4\n",
      "Moviepy - Building video ../data/5s_clips_40000/000117.mp4.\n",
      "MoviePy - Writing audio in %s\n"
     ]
    },
    {
     "name": "stderr",
     "output_type": "stream",
     "text": [
      "t:  10%|▉         | 12/125 [00:00<00:00, 114.59it/s, now=None]    "
     ]
    },
    {
     "name": "stdout",
     "output_type": "stream",
     "text": [
      "MoviePy - Done.\n",
      "Moviepy - Writing video ../data/5s_clips_40000/000117.mp4\n",
      "\n"
     ]
    },
    {
     "name": "stderr",
     "output_type": "stream",
     "text": [
      "                                                              \r"
     ]
    },
    {
     "name": "stdout",
     "output_type": "stream",
     "text": [
      "Moviepy - Done !\n",
      "Moviepy - video ready ../data/5s_clips_40000/000117.mp4\n",
      "-8Ezw9946g8 succeed.\n",
      "-8Ezw9946g8 deleted.\n",
      "----- finished ------\n",
      "----- executing ------\n",
      "['-8H4GKg-mYQ', 30, 40]\n"
     ]
    },
    {
     "name": "stderr",
     "output_type": "stream",
     "text": [
      "chunk:  29%|██▉       | 32/111 [00:00<00:00, 299.66it/s, now=None]"
     ]
    },
    {
     "name": "stdout",
     "output_type": "stream",
     "text": [
      "Moviepy - Building video ../data/5s_clips_40000/000118.mp4.\n",
      "MoviePy - Writing audio in %s\n"
     ]
    },
    {
     "name": "stderr",
     "output_type": "stream",
     "text": [
      "t:  33%|███▎      | 50/150 [00:00<00:00, 499.97it/s, now=None]    "
     ]
    },
    {
     "name": "stdout",
     "output_type": "stream",
     "text": [
      "MoviePy - Done.\n",
      "Moviepy - Writing video ../data/5s_clips_40000/000118.mp4\n",
      "\n"
     ]
    },
    {
     "name": "stderr",
     "output_type": "stream",
     "text": [
      "chunk:  38%|███▊      | 42/111 [00:00<00:00, 412.73it/s, now=None]"
     ]
    },
    {
     "name": "stdout",
     "output_type": "stream",
     "text": [
      "Moviepy - Done !\n",
      "Moviepy - video ready ../data/5s_clips_40000/000118.mp4\n",
      "Moviepy - Building video ../data/5s_clips_40000/000119.mp4.\n",
      "MoviePy - Writing audio in %s\n"
     ]
    },
    {
     "name": "stderr",
     "output_type": "stream",
     "text": [
      "t:  29%|██▊       | 43/150 [00:00<00:00, 429.59it/s, now=None]    "
     ]
    },
    {
     "name": "stdout",
     "output_type": "stream",
     "text": [
      "MoviePy - Done.\n",
      "Moviepy - Writing video ../data/5s_clips_40000/000119.mp4\n",
      "\n"
     ]
    },
    {
     "name": "stderr",
     "output_type": "stream",
     "text": [
      "                                                               \r"
     ]
    },
    {
     "name": "stdout",
     "output_type": "stream",
     "text": [
      "Moviepy - Done !\n",
      "Moviepy - video ready ../data/5s_clips_40000/000119.mp4\n",
      "-8H4GKg-mYQ succeed.\n",
      "-8H4GKg-mYQ deleted.\n",
      "----- finished ------\n",
      "----- executing ------\n",
      "['-8S_tLKfeJg', 200, 210]\n"
     ]
    },
    {
     "name": "stderr",
     "output_type": "stream",
     "text": [
      "chunk:  29%|██▉       | 32/111 [00:00<00:00, 267.59it/s, now=None]"
     ]
    },
    {
     "name": "stdout",
     "output_type": "stream",
     "text": [
      "Moviepy - Building video ../data/5s_clips_40000/000120.mp4.\n",
      "MoviePy - Writing audio in %s\n"
     ]
    },
    {
     "name": "stderr",
     "output_type": "stream",
     "text": [
      "                                                                  \r"
     ]
    },
    {
     "name": "stdout",
     "output_type": "stream",
     "text": [
      "MoviePy - Done.\n",
      "Moviepy - Writing video ../data/5s_clips_40000/000120.mp4\n",
      "\n",
      "Moviepy - Done !\n",
      "Moviepy - video ready ../data/5s_clips_40000/000120.mp4\n",
      "Moviepy - Building video ../data/5s_clips_40000/000121.mp4.\n",
      "MoviePy - Writing audio in %s\n"
     ]
    },
    {
     "name": "stderr",
     "output_type": "stream",
     "text": [
      "t:  58%|█████▊    | 87/150 [00:00<00:00, 860.66it/s, now=None]    "
     ]
    },
    {
     "name": "stdout",
     "output_type": "stream",
     "text": [
      "MoviePy - Done.\n",
      "Moviepy - Writing video ../data/5s_clips_40000/000121.mp4\n",
      "\n"
     ]
    },
    {
     "name": "stderr",
     "output_type": "stream",
     "text": [
      "                                                              \r"
     ]
    },
    {
     "name": "stdout",
     "output_type": "stream",
     "text": [
      "Moviepy - Done !\n",
      "Moviepy - video ready ../data/5s_clips_40000/000121.mp4\n",
      "-8S_tLKfeJg succeed.\n",
      "-8S_tLKfeJg deleted.\n",
      "----- finished ------\n",
      "----- executing ------\n",
      "['-8_HpHg6nCw', 30, 40]\n"
     ]
    },
    {
     "name": "stderr",
     "output_type": "stream",
     "text": [
      "chunk:  34%|███▍      | 38/111 [00:00<00:00, 378.44it/s, now=None]"
     ]
    },
    {
     "name": "stdout",
     "output_type": "stream",
     "text": [
      "Moviepy - Building video ../data/5s_clips_40000/000122.mp4.\n",
      "MoviePy - Writing audio in %s\n"
     ]
    },
    {
     "name": "stderr",
     "output_type": "stream",
     "text": [
      "chunk:   0%|          | 0/111 [00:00<?, ?it/s, now=None]          "
     ]
    },
    {
     "name": "stdout",
     "output_type": "stream",
     "text": [
      "MoviePy - Done.\n",
      "Moviepy - Writing video ../data/5s_clips_40000/000122.mp4\n",
      "\n",
      "Moviepy - Done !\n",
      "Moviepy - video ready ../data/5s_clips_40000/000122.mp4\n",
      "Moviepy - Building video ../data/5s_clips_40000/000123.mp4.\n",
      "MoviePy - Writing audio in %s\n"
     ]
    },
    {
     "name": "stderr",
     "output_type": "stream",
     "text": [
      "                                                                  \r"
     ]
    },
    {
     "name": "stdout",
     "output_type": "stream",
     "text": [
      "MoviePy - Done.\n",
      "Moviepy - Writing video ../data/5s_clips_40000/000123.mp4\n",
      "\n",
      "Moviepy - Done !\n",
      "Moviepy - video ready ../data/5s_clips_40000/000123.mp4\n",
      "-8_HpHg6nCw succeed.\n",
      "-8_HpHg6nCw deleted.\n",
      "----- finished ------\n",
      "----- executing ------\n",
      "['-8fQePz4FcE', 30, 40]\n"
     ]
    },
    {
     "name": "stderr",
     "output_type": "stream",
     "text": [
      "chunk:  36%|███▌      | 40/111 [00:00<00:00, 392.46it/s, now=None]"
     ]
    },
    {
     "name": "stdout",
     "output_type": "stream",
     "text": [
      "Moviepy - Building video ../data/5s_clips_40000/000124.mp4.\n",
      "MoviePy - Writing audio in %s\n"
     ]
    },
    {
     "name": "stderr",
     "output_type": "stream",
     "text": [
      "                                                                   \r"
     ]
    },
    {
     "name": "stdout",
     "output_type": "stream",
     "text": [
      "MoviePy - Done.\n",
      "Moviepy - Writing video ../data/5s_clips_40000/000124.mp4\n",
      "\n",
      "Moviepy - Done !\n",
      "Moviepy - video ready ../data/5s_clips_40000/000124.mp4\n",
      "Moviepy - Building video ../data/5s_clips_40000/000125.mp4.\n",
      "MoviePy - Writing audio in %s\n"
     ]
    },
    {
     "name": "stderr",
     "output_type": "stream",
     "text": [
      "                                                                  \r"
     ]
    },
    {
     "name": "stdout",
     "output_type": "stream",
     "text": [
      "MoviePy - Done.\n",
      "Moviepy - Writing video ../data/5s_clips_40000/000125.mp4\n",
      "\n",
      "Moviepy - Done !\n",
      "Moviepy - video ready ../data/5s_clips_40000/000125.mp4\n",
      "-8fQePz4FcE succeed.\n",
      "-8fQePz4FcE deleted.\n",
      "----- finished ------\n",
      "----- executing ------\n",
      "['-8n2NqDFRko', 30, 40]\n"
     ]
    },
    {
     "name": "stderr",
     "output_type": "stream",
     "text": [
      "chunk:  29%|██▉       | 32/111 [00:00<00:00, 255.21it/s, now=None]"
     ]
    },
    {
     "name": "stdout",
     "output_type": "stream",
     "text": [
      "Moviepy - Building video ../data/5s_clips_40000/000126.mp4.\n",
      "MoviePy - Writing audio in %s\n"
     ]
    },
    {
     "name": "stderr",
     "output_type": "stream",
     "text": [
      "chunk:   0%|          | 0/111 [00:00<?, ?it/s, now=None]          "
     ]
    },
    {
     "name": "stdout",
     "output_type": "stream",
     "text": [
      "MoviePy - Done.\n",
      "Moviepy - Writing video ../data/5s_clips_40000/000126.mp4\n",
      "\n",
      "Moviepy - Done !\n",
      "Moviepy - video ready ../data/5s_clips_40000/000126.mp4\n",
      "Moviepy - Building video ../data/5s_clips_40000/000127.mp4.\n",
      "MoviePy - Writing audio in %s\n"
     ]
    },
    {
     "name": "stderr",
     "output_type": "stream",
     "text": [
      "                                                                  \r"
     ]
    },
    {
     "name": "stdout",
     "output_type": "stream",
     "text": [
      "MoviePy - Done.\n",
      "Moviepy - Writing video ../data/5s_clips_40000/000127.mp4\n",
      "\n",
      "Moviepy - Done !\n",
      "Moviepy - video ready ../data/5s_clips_40000/000127.mp4\n",
      "-8n2NqDFRko succeed.\n",
      "-8n2NqDFRko deleted.\n",
      "----- finished ------\n",
      "----- executing ------\n",
      "['-8wQV7VJnmM', 30, 40]\n"
     ]
    },
    {
     "name": "stderr",
     "output_type": "stream",
     "text": [
      "chunk:  29%|██▉       | 32/111 [00:00<00:00, 272.11it/s, now=None]"
     ]
    },
    {
     "name": "stdout",
     "output_type": "stream",
     "text": [
      "Moviepy - Building video ../data/5s_clips_40000/000128.mp4.\n",
      "MoviePy - Writing audio in %s\n"
     ]
    },
    {
     "name": "stderr",
     "output_type": "stream",
     "text": [
      "t:  39%|███▉      | 49/125 [00:00<00:00, 484.46it/s, now=None]     "
     ]
    },
    {
     "name": "stdout",
     "output_type": "stream",
     "text": [
      "MoviePy - Done.\n",
      "Moviepy - Writing video ../data/5s_clips_40000/000128.mp4\n",
      "\n"
     ]
    },
    {
     "name": "stderr",
     "output_type": "stream",
     "text": [
      "chunk:  36%|███▌      | 40/111 [00:00<00:00, 393.67it/s, now=None]"
     ]
    },
    {
     "name": "stdout",
     "output_type": "stream",
     "text": [
      "Moviepy - Done !\n",
      "Moviepy - video ready ../data/5s_clips_40000/000128.mp4\n",
      "Moviepy - Building video ../data/5s_clips_40000/000129.mp4.\n",
      "MoviePy - Writing audio in %s\n"
     ]
    },
    {
     "name": "stderr",
     "output_type": "stream",
     "text": [
      "t:  38%|███▊      | 48/125 [00:00<00:00, 478.86it/s, now=None]     "
     ]
    },
    {
     "name": "stdout",
     "output_type": "stream",
     "text": [
      "MoviePy - Done.\n",
      "Moviepy - Writing video ../data/5s_clips_40000/000129.mp4\n",
      "\n"
     ]
    },
    {
     "name": "stderr",
     "output_type": "stream",
     "text": [
      "                                                              \r"
     ]
    },
    {
     "name": "stdout",
     "output_type": "stream",
     "text": [
      "Moviepy - Done !\n",
      "Moviepy - video ready ../data/5s_clips_40000/000129.mp4\n",
      "-8wQV7VJnmM succeed.\n",
      "-8wQV7VJnmM deleted.\n",
      "----- finished ------\n",
      "----- executing ------\n",
      "['-92cYmTgIjM', 190, 200]\n"
     ]
    },
    {
     "name": "stderr",
     "output_type": "stream",
     "text": [
      "chunk:  29%|██▉       | 32/111 [00:00<00:00, 277.46it/s, now=None]"
     ]
    },
    {
     "name": "stdout",
     "output_type": "stream",
     "text": [
      "Moviepy - Building video ../data/5s_clips_40000/000130.mp4.\n",
      "MoviePy - Writing audio in %s\n"
     ]
    },
    {
     "name": "stderr",
     "output_type": "stream",
     "text": [
      "t:  27%|██▋       | 40/150 [00:00<00:00, 397.53it/s, now=None]     "
     ]
    },
    {
     "name": "stdout",
     "output_type": "stream",
     "text": [
      "MoviePy - Done.\n",
      "Moviepy - Writing video ../data/5s_clips_40000/000130.mp4\n",
      "\n"
     ]
    },
    {
     "name": "stderr",
     "output_type": "stream",
     "text": [
      "chunk:  36%|███▌      | 40/111 [00:00<00:00, 393.34it/s, now=None]"
     ]
    },
    {
     "name": "stdout",
     "output_type": "stream",
     "text": [
      "Moviepy - Done !\n",
      "Moviepy - video ready ../data/5s_clips_40000/000130.mp4\n",
      "Moviepy - Building video ../data/5s_clips_40000/000131.mp4.\n",
      "MoviePy - Writing audio in %s\n"
     ]
    },
    {
     "name": "stderr",
     "output_type": "stream",
     "text": [
      "t:  28%|██▊       | 42/150 [00:00<00:00, 418.45it/s, now=None]    "
     ]
    },
    {
     "name": "stdout",
     "output_type": "stream",
     "text": [
      "MoviePy - Done.\n",
      "Moviepy - Writing video ../data/5s_clips_40000/000131.mp4\n",
      "\n"
     ]
    },
    {
     "name": "stderr",
     "output_type": "stream",
     "text": [
      "                                                               \r"
     ]
    },
    {
     "name": "stdout",
     "output_type": "stream",
     "text": [
      "Moviepy - Done !\n",
      "Moviepy - video ready ../data/5s_clips_40000/000131.mp4\n",
      "-92cYmTgIjM succeed.\n",
      "-92cYmTgIjM deleted.\n",
      "----- finished ------\n",
      "----- executing ------\n",
      "['-99daJhXYJY', 30, 40]\n"
     ]
    },
    {
     "name": "stderr",
     "output_type": "stream",
     "text": [
      "chunk:  29%|██▉       | 32/111 [00:00<00:00, 269.06it/s, now=None]"
     ]
    },
    {
     "name": "stdout",
     "output_type": "stream",
     "text": [
      "Moviepy - Building video ../data/5s_clips_40000/000132.mp4.\n",
      "MoviePy - Writing audio in %s\n"
     ]
    },
    {
     "name": "stderr",
     "output_type": "stream",
     "text": [
      "                                                                   "
     ]
    },
    {
     "name": "stdout",
     "output_type": "stream",
     "text": [
      "MoviePy - Done.\n",
      "Moviepy - Writing video ../data/5s_clips_40000/000132.mp4\n",
      "\n"
     ]
    },
    {
     "name": "stderr",
     "output_type": "stream",
     "text": [
      "chunk:  36%|███▌      | 40/111 [00:00<00:00, 385.68it/s, now=None]"
     ]
    },
    {
     "name": "stdout",
     "output_type": "stream",
     "text": [
      "Moviepy - Done !\n",
      "Moviepy - video ready ../data/5s_clips_40000/000132.mp4\n",
      "Moviepy - Building video ../data/5s_clips_40000/000133.mp4.\n",
      "MoviePy - Writing audio in %s\n"
     ]
    },
    {
     "name": "stderr",
     "output_type": "stream",
     "text": [
      "                                                                  "
     ]
    },
    {
     "name": "stdout",
     "output_type": "stream",
     "text": [
      "MoviePy - Done.\n",
      "Moviepy - Writing video ../data/5s_clips_40000/000133.mp4\n",
      "\n",
      "Moviepy - Done !\n",
      "Moviepy - video ready ../data/5s_clips_40000/000133.mp4\n",
      "-99daJhXYJY succeed.\n",
      "-99daJhXYJY deleted.\n",
      "----- finished ------\n",
      "----- executing ------\n",
      "['-9ME9qMgkeY', 270, 280]\n"
     ]
    },
    {
     "name": "stderr",
     "output_type": "stream",
     "text": [
      "chunk:  31%|███       | 34/111 [00:00<00:00, 330.74it/s, now=None]"
     ]
    },
    {
     "name": "stdout",
     "output_type": "stream",
     "text": [
      "Moviepy - Building video ../data/5s_clips_40000/000134.mp4.\n",
      "MoviePy - Writing audio in %s\n"
     ]
    },
    {
     "name": "stderr",
     "output_type": "stream",
     "text": [
      "t:  30%|███       | 45/150 [00:00<00:00, 444.44it/s, now=None]    "
     ]
    },
    {
     "name": "stdout",
     "output_type": "stream",
     "text": [
      "MoviePy - Done.\n",
      "Moviepy - Writing video ../data/5s_clips_40000/000134.mp4\n",
      "\n"
     ]
    },
    {
     "name": "stderr",
     "output_type": "stream",
     "text": [
      "chunk:  43%|████▎     | 48/111 [00:00<00:00, 479.33it/s, now=None]"
     ]
    },
    {
     "name": "stdout",
     "output_type": "stream",
     "text": [
      "Moviepy - Done !\n",
      "Moviepy - video ready ../data/5s_clips_40000/000134.mp4\n",
      "Moviepy - Building video ../data/5s_clips_40000/000135.mp4.\n",
      "MoviePy - Writing audio in %s\n"
     ]
    },
    {
     "name": "stderr",
     "output_type": "stream",
     "text": [
      "t:  35%|███▍      | 52/150 [00:00<00:00, 518.93it/s, now=None]    "
     ]
    },
    {
     "name": "stdout",
     "output_type": "stream",
     "text": [
      "MoviePy - Done.\n",
      "Moviepy - Writing video ../data/5s_clips_40000/000135.mp4\n",
      "\n"
     ]
    },
    {
     "name": "stderr",
     "output_type": "stream",
     "text": [
      "                                                               \r"
     ]
    },
    {
     "name": "stdout",
     "output_type": "stream",
     "text": [
      "Moviepy - Done !\n",
      "Moviepy - video ready ../data/5s_clips_40000/000135.mp4\n",
      "-9ME9qMgkeY succeed.\n",
      "-9ME9qMgkeY deleted.\n",
      "----- finished ------\n",
      "----- executing ------\n",
      "['-9Nl3LZBCOo', 200, 210]\n"
     ]
    },
    {
     "name": "stderr",
     "output_type": "stream",
     "text": [
      "chunk:  29%|██▉       | 32/111 [00:00<00:00, 235.99it/s, now=None]"
     ]
    },
    {
     "name": "stdout",
     "output_type": "stream",
     "text": [
      "Moviepy - Building video ../data/5s_clips_40000/000136.mp4.\n",
      "MoviePy - Writing audio in %s\n"
     ]
    },
    {
     "name": "stderr",
     "output_type": "stream",
     "text": [
      "t:  35%|███▍      | 52/150 [00:00<00:00, 509.36it/s, now=None]     "
     ]
    },
    {
     "name": "stdout",
     "output_type": "stream",
     "text": [
      "MoviePy - Done.\n",
      "Moviepy - Writing video ../data/5s_clips_40000/000136.mp4\n",
      "\n"
     ]
    },
    {
     "name": "stderr",
     "output_type": "stream",
     "text": [
      "chunk:  34%|███▍      | 38/111 [00:00<00:00, 374.98it/s, now=None]"
     ]
    },
    {
     "name": "stdout",
     "output_type": "stream",
     "text": [
      "Moviepy - Done !\n",
      "Moviepy - video ready ../data/5s_clips_40000/000136.mp4\n",
      "Moviepy - Building video ../data/5s_clips_40000/000137.mp4.\n",
      "MoviePy - Writing audio in %s\n"
     ]
    },
    {
     "name": "stderr",
     "output_type": "stream",
     "text": [
      "t:  31%|███       | 46/150 [00:00<00:00, 457.73it/s, now=None]    "
     ]
    },
    {
     "name": "stdout",
     "output_type": "stream",
     "text": [
      "MoviePy - Done.\n",
      "Moviepy - Writing video ../data/5s_clips_40000/000137.mp4\n",
      "\n"
     ]
    },
    {
     "name": "stderr",
     "output_type": "stream",
     "text": [
      "                                                               \r"
     ]
    },
    {
     "name": "stdout",
     "output_type": "stream",
     "text": [
      "Moviepy - Done !\n",
      "Moviepy - video ready ../data/5s_clips_40000/000137.mp4\n",
      "-9Nl3LZBCOo succeed.\n",
      "-9Nl3LZBCOo deleted.\n",
      "----- finished ------\n",
      "----- executing ------\n",
      "['-9c1c8G_WO8', 24, 34]\n"
     ]
    },
    {
     "name": "stderr",
     "output_type": "stream",
     "text": [
      "chunk:  29%|██▉       | 32/111 [00:00<00:00, 287.04it/s, now=None]"
     ]
    },
    {
     "name": "stdout",
     "output_type": "stream",
     "text": [
      "Moviepy - Building video ../data/5s_clips_40000/000138.mp4.\n",
      "MoviePy - Writing audio in %s\n"
     ]
    },
    {
     "name": "stderr",
     "output_type": "stream",
     "text": [
      "t:  42%|████▏     | 63/150 [00:00<00:00, 626.55it/s, now=None]    "
     ]
    },
    {
     "name": "stdout",
     "output_type": "stream",
     "text": [
      "MoviePy - Done.\n",
      "Moviepy - Writing video ../data/5s_clips_40000/000138.mp4\n",
      "\n"
     ]
    },
    {
     "name": "stderr",
     "output_type": "stream",
     "text": [
      "chunk:  44%|████▍     | 49/111 [00:00<00:00, 489.42it/s, now=None]"
     ]
    },
    {
     "name": "stdout",
     "output_type": "stream",
     "text": [
      "Moviepy - Done !\n",
      "Moviepy - video ready ../data/5s_clips_40000/000138.mp4\n",
      "Moviepy - Building video ../data/5s_clips_40000/000139.mp4.\n",
      "MoviePy - Writing audio in %s\n"
     ]
    },
    {
     "name": "stderr",
     "output_type": "stream",
     "text": [
      "t:  37%|███▋      | 55/150 [00:00<00:00, 541.08it/s, now=None]    "
     ]
    },
    {
     "name": "stdout",
     "output_type": "stream",
     "text": [
      "MoviePy - Done.\n",
      "Moviepy - Writing video ../data/5s_clips_40000/000139.mp4\n",
      "\n"
     ]
    },
    {
     "name": "stderr",
     "output_type": "stream",
     "text": [
      "                                                               \r"
     ]
    },
    {
     "name": "stdout",
     "output_type": "stream",
     "text": [
      "Moviepy - Done !\n",
      "Moviepy - video ready ../data/5s_clips_40000/000139.mp4\n",
      "-9c1c8G_WO8 succeed.\n",
      "-9c1c8G_WO8 deleted.\n",
      "----- finished ------\n",
      "----- executing ------\n",
      "['-9ek6eO0RtI', 260, 270]\n"
     ]
    },
    {
     "name": "stderr",
     "output_type": "stream",
     "text": [
      "chunk:  29%|██▉       | 32/111 [00:00<00:00, 251.27it/s, now=None]"
     ]
    },
    {
     "name": "stdout",
     "output_type": "stream",
     "text": [
      "Moviepy - Building video ../data/5s_clips_40000/000140.mp4.\n",
      "MoviePy - Writing audio in %s\n"
     ]
    },
    {
     "name": "stderr",
     "output_type": "stream",
     "text": [
      "t:  11%|█         | 14/125 [00:00<00:00, 139.26it/s, now=None]    "
     ]
    },
    {
     "name": "stdout",
     "output_type": "stream",
     "text": [
      "MoviePy - Done.\n",
      "Moviepy - Writing video ../data/5s_clips_40000/000140.mp4\n",
      "\n"
     ]
    },
    {
     "name": "stderr",
     "output_type": "stream",
     "text": [
      "chunk:  34%|███▍      | 38/111 [00:00<00:00, 368.24it/s, now=None]"
     ]
    },
    {
     "name": "stdout",
     "output_type": "stream",
     "text": [
      "Moviepy - Done !\n",
      "Moviepy - video ready ../data/5s_clips_40000/000140.mp4\n",
      "Moviepy - Building video ../data/5s_clips_40000/000141.mp4.\n",
      "MoviePy - Writing audio in %s\n"
     ]
    },
    {
     "name": "stderr",
     "output_type": "stream",
     "text": [
      "t:  10%|█         | 13/125 [00:00<00:00, 125.90it/s, now=None]    "
     ]
    },
    {
     "name": "stdout",
     "output_type": "stream",
     "text": [
      "MoviePy - Done.\n",
      "Moviepy - Writing video ../data/5s_clips_40000/000141.mp4\n",
      "\n"
     ]
    },
    {
     "name": "stderr",
     "output_type": "stream",
     "text": [
      "                                                              \r"
     ]
    },
    {
     "name": "stdout",
     "output_type": "stream",
     "text": [
      "Moviepy - Done !\n",
      "Moviepy - video ready ../data/5s_clips_40000/000141.mp4\n",
      "-9ek6eO0RtI succeed.\n",
      "-9ek6eO0RtI deleted.\n",
      "----- finished ------\n",
      "----- executing ------\n",
      "['-9wxcZf43a4', 530, 540]\n"
     ]
    },
    {
     "name": "stderr",
     "output_type": "stream",
     "text": [
      "chunk:  29%|██▉       | 32/111 [00:00<00:00, 264.65it/s, now=None]"
     ]
    },
    {
     "name": "stdout",
     "output_type": "stream",
     "text": [
      "Moviepy - Building video ../data/5s_clips_40000/000142.mp4.\n",
      "MoviePy - Writing audio in %s\n"
     ]
    },
    {
     "name": "stderr",
     "output_type": "stream",
     "text": [
      "t:  51%|█████     | 76/150 [00:00<00:00, 755.44it/s, now=None]     "
     ]
    },
    {
     "name": "stdout",
     "output_type": "stream",
     "text": [
      "MoviePy - Done.\n",
      "Moviepy - Writing video ../data/5s_clips_40000/000142.mp4\n",
      "\n"
     ]
    },
    {
     "name": "stderr",
     "output_type": "stream",
     "text": [
      "chunk:  34%|███▍      | 38/111 [00:00<00:00, 370.29it/s, now=None]"
     ]
    },
    {
     "name": "stdout",
     "output_type": "stream",
     "text": [
      "Moviepy - Done !\n",
      "Moviepy - video ready ../data/5s_clips_40000/000142.mp4\n",
      "Moviepy - Building video ../data/5s_clips_40000/000143.mp4.\n",
      "MoviePy - Writing audio in %s\n"
     ]
    },
    {
     "name": "stderr",
     "output_type": "stream",
     "text": [
      "                                                                   \r"
     ]
    },
    {
     "name": "stdout",
     "output_type": "stream",
     "text": [
      "MoviePy - Done.\n",
      "Moviepy - Writing video ../data/5s_clips_40000/000143.mp4\n",
      "\n",
      "Moviepy - Done !\n",
      "Moviepy - video ready ../data/5s_clips_40000/000143.mp4\n",
      "-9wxcZf43a4 succeed.\n",
      "-9wxcZf43a4 deleted.\n",
      "----- finished ------\n",
      "----- executing ------\n",
      "['-A0MTi2NMGI', 30, 40]\n"
     ]
    },
    {
     "name": "stderr",
     "output_type": "stream",
     "text": [
      "chunk:  29%|██▉       | 32/111 [00:00<00:00, 241.31it/s, now=None]"
     ]
    },
    {
     "name": "stdout",
     "output_type": "stream",
     "text": [
      "Moviepy - Building video ../data/5s_clips_40000/000144.mp4.\n",
      "MoviePy - Writing audio in %s\n"
     ]
    },
    {
     "name": "stderr",
     "output_type": "stream",
     "text": [
      "t:   5%|▍         | 7/150 [00:00<00:02, 69.81it/s, now=None]      "
     ]
    },
    {
     "name": "stdout",
     "output_type": "stream",
     "text": [
      "MoviePy - Done.\n",
      "Moviepy - Writing video ../data/5s_clips_40000/000144.mp4\n",
      "\n"
     ]
    },
    {
     "name": "stderr",
     "output_type": "stream",
     "text": [
      "chunk:  34%|███▍      | 38/111 [00:00<00:00, 353.57it/s, now=None]"
     ]
    },
    {
     "name": "stdout",
     "output_type": "stream",
     "text": [
      "Moviepy - Done !\n",
      "Moviepy - video ready ../data/5s_clips_40000/000144.mp4\n",
      "Moviepy - Building video ../data/5s_clips_40000/000145.mp4.\n",
      "MoviePy - Writing audio in %s\n"
     ]
    },
    {
     "name": "stderr",
     "output_type": "stream",
     "text": [
      "t:   8%|▊         | 12/150 [00:00<00:01, 113.55it/s, now=None]     "
     ]
    },
    {
     "name": "stdout",
     "output_type": "stream",
     "text": [
      "MoviePy - Done.\n",
      "Moviepy - Writing video ../data/5s_clips_40000/000145.mp4\n",
      "\n"
     ]
    },
    {
     "name": "stderr",
     "output_type": "stream",
     "text": [
      "                                                              \r"
     ]
    },
    {
     "name": "stdout",
     "output_type": "stream",
     "text": [
      "Moviepy - Done !\n",
      "Moviepy - video ready ../data/5s_clips_40000/000145.mp4\n",
      "-A0MTi2NMGI succeed.\n",
      "-A0MTi2NMGI deleted.\n",
      "----- finished ------\n",
      "----- executing ------\n",
      "['-AIrHVeCgtM', 30, 40]\n"
     ]
    },
    {
     "name": "stderr",
     "output_type": "stream",
     "text": [
      "chunk:  29%|██▉       | 32/111 [00:00<00:00, 262.59it/s, now=None]"
     ]
    },
    {
     "name": "stdout",
     "output_type": "stream",
     "text": [
      "Moviepy - Building video ../data/5s_clips_40000/000146.mp4.\n",
      "MoviePy - Writing audio in %s\n"
     ]
    },
    {
     "name": "stderr",
     "output_type": "stream",
     "text": [
      "t:   9%|▉         | 11/121 [00:00<00:01, 105.71it/s, now=None]    "
     ]
    },
    {
     "name": "stdout",
     "output_type": "stream",
     "text": [
      "MoviePy - Done.\n",
      "Moviepy - Writing video ../data/5s_clips_40000/000146.mp4\n",
      "\n"
     ]
    },
    {
     "name": "stderr",
     "output_type": "stream",
     "text": [
      "chunk:  49%|████▊     | 54/111 [00:00<00:00, 533.05it/s, now=None]"
     ]
    },
    {
     "name": "stdout",
     "output_type": "stream",
     "text": [
      "Moviepy - Done !\n",
      "Moviepy - video ready ../data/5s_clips_40000/000146.mp4\n",
      "Moviepy - Building video ../data/5s_clips_40000/000147.mp4.\n",
      "MoviePy - Writing audio in %s\n"
     ]
    },
    {
     "name": "stderr",
     "output_type": "stream",
     "text": [
      "t:  10%|▉         | 12/121 [00:00<00:00, 115.66it/s, now=None]     "
     ]
    },
    {
     "name": "stdout",
     "output_type": "stream",
     "text": [
      "MoviePy - Done.\n",
      "Moviepy - Writing video ../data/5s_clips_40000/000147.mp4\n",
      "\n"
     ]
    },
    {
     "name": "stderr",
     "output_type": "stream",
     "text": [
      "                                                              \r"
     ]
    },
    {
     "name": "stdout",
     "output_type": "stream",
     "text": [
      "Moviepy - Done !\n",
      "Moviepy - video ready ../data/5s_clips_40000/000147.mp4\n",
      "-AIrHVeCgtM succeed.\n",
      "-AIrHVeCgtM deleted.\n",
      "----- finished ------\n",
      "----- executing ------\n",
      "['-ASYwidRD7M', 30, 40]\n"
     ]
    },
    {
     "name": "stderr",
     "output_type": "stream",
     "text": [
      "chunk:  29%|██▉       | 32/111 [00:00<00:00, 315.14it/s, now=None]"
     ]
    },
    {
     "name": "stdout",
     "output_type": "stream",
     "text": [
      "Moviepy - Building video ../data/5s_clips_40000/000148.mp4.\n",
      "MoviePy - Writing audio in %s\n"
     ]
    },
    {
     "name": "stderr",
     "output_type": "stream",
     "text": [
      "chunk:   0%|          | 0/111 [00:00<?, ?it/s, now=None]          "
     ]
    },
    {
     "name": "stdout",
     "output_type": "stream",
     "text": [
      "MoviePy - Done.\n",
      "Moviepy - Writing video ../data/5s_clips_40000/000148.mp4\n",
      "\n",
      "Moviepy - Done !\n",
      "Moviepy - video ready ../data/5s_clips_40000/000148.mp4\n",
      "Moviepy - Building video ../data/5s_clips_40000/000149.mp4.\n",
      "MoviePy - Writing audio in %s\n"
     ]
    },
    {
     "name": "stderr",
     "output_type": "stream",
     "text": [
      "                                                                  \r"
     ]
    },
    {
     "name": "stdout",
     "output_type": "stream",
     "text": [
      "MoviePy - Done.\n",
      "Moviepy - Writing video ../data/5s_clips_40000/000149.mp4\n",
      "\n",
      "Moviepy - Done !\n",
      "Moviepy - video ready ../data/5s_clips_40000/000149.mp4\n",
      "-ASYwidRD7M succeed.\n",
      "-ASYwidRD7M deleted.\n",
      "----- finished ------\n",
      "----- executing ------\n",
      "['-AgbNy9f2sg', 80, 90]\n"
     ]
    },
    {
     "name": "stderr",
     "output_type": "stream",
     "text": [
      "chunk:  29%|██▉       | 32/111 [00:00<00:00, 289.43it/s, now=None]"
     ]
    },
    {
     "name": "stdout",
     "output_type": "stream",
     "text": [
      "Moviepy - Building video ../data/5s_clips_40000/000150.mp4.\n",
      "MoviePy - Writing audio in %s\n"
     ]
    },
    {
     "name": "stderr",
     "output_type": "stream",
     "text": [
      "t:  49%|████▉     | 61/125 [00:00<00:00, 609.05it/s, now=None]     "
     ]
    },
    {
     "name": "stdout",
     "output_type": "stream",
     "text": [
      "MoviePy - Done.\n",
      "Moviepy - Writing video ../data/5s_clips_40000/000150.mp4\n",
      "\n"
     ]
    },
    {
     "name": "stderr",
     "output_type": "stream",
     "text": [
      "chunk:  30%|██▉       | 33/111 [00:00<00:00, 329.15it/s, now=None]"
     ]
    },
    {
     "name": "stdout",
     "output_type": "stream",
     "text": [
      "Moviepy - Done !\n",
      "Moviepy - video ready ../data/5s_clips_40000/000150.mp4\n",
      "Moviepy - Building video ../data/5s_clips_40000/000151.mp4.\n",
      "MoviePy - Writing audio in %s\n"
     ]
    },
    {
     "name": "stderr",
     "output_type": "stream",
     "text": [
      "t:  44%|████▍     | 55/125 [00:00<00:00, 548.00it/s, now=None]    "
     ]
    },
    {
     "name": "stdout",
     "output_type": "stream",
     "text": [
      "MoviePy - Done.\n",
      "Moviepy - Writing video ../data/5s_clips_40000/000151.mp4\n",
      "\n"
     ]
    },
    {
     "name": "stderr",
     "output_type": "stream",
     "text": [
      "                                                               \r"
     ]
    },
    {
     "name": "stdout",
     "output_type": "stream",
     "text": [
      "Moviepy - Done !\n",
      "Moviepy - video ready ../data/5s_clips_40000/000151.mp4\n",
      "-AgbNy9f2sg succeed.\n",
      "-AgbNy9f2sg deleted.\n",
      "----- finished ------\n",
      "----- executing ------\n",
      "['-Ar7D-GARhI', 30, 40]\n"
     ]
    },
    {
     "name": "stderr",
     "output_type": "stream",
     "text": [
      "chunk:  29%|██▉       | 32/111 [00:00<00:00, 301.84it/s, now=None]"
     ]
    },
    {
     "name": "stdout",
     "output_type": "stream",
     "text": [
      "Moviepy - Building video ../data/5s_clips_40000/000152.mp4.\n",
      "MoviePy - Writing audio in %s\n"
     ]
    },
    {
     "name": "stderr",
     "output_type": "stream",
     "text": [
      "t:   9%|▉         | 14/150 [00:00<00:00, 138.39it/s, now=None]    "
     ]
    },
    {
     "name": "stdout",
     "output_type": "stream",
     "text": [
      "MoviePy - Done.\n",
      "Moviepy - Writing video ../data/5s_clips_40000/000152.mp4\n",
      "\n"
     ]
    },
    {
     "name": "stderr",
     "output_type": "stream",
     "text": [
      "chunk:  41%|████      | 45/111 [00:00<00:00, 449.25it/s, now=None]"
     ]
    },
    {
     "name": "stdout",
     "output_type": "stream",
     "text": [
      "Moviepy - Done !\n",
      "Moviepy - video ready ../data/5s_clips_40000/000152.mp4\n",
      "Moviepy - Building video ../data/5s_clips_40000/000153.mp4.\n",
      "MoviePy - Writing audio in %s\n"
     ]
    },
    {
     "name": "stderr",
     "output_type": "stream",
     "text": [
      "t:   9%|▊         | 13/150 [00:00<00:01, 129.25it/s, now=None]    "
     ]
    },
    {
     "name": "stdout",
     "output_type": "stream",
     "text": [
      "MoviePy - Done.\n",
      "Moviepy - Writing video ../data/5s_clips_40000/000153.mp4\n",
      "\n"
     ]
    },
    {
     "name": "stderr",
     "output_type": "stream",
     "text": [
      "                                                               \r"
     ]
    },
    {
     "name": "stdout",
     "output_type": "stream",
     "text": [
      "Moviepy - Done !\n",
      "Moviepy - video ready ../data/5s_clips_40000/000153.mp4\n",
      "-Ar7D-GARhI succeed.\n",
      "-Ar7D-GARhI deleted.\n",
      "----- finished ------\n",
      "----- executing ------\n",
      "['-AswFDuOptQ', 0, 10]\n"
     ]
    },
    {
     "name": "stderr",
     "output_type": "stream",
     "text": [
      "chunk:  34%|███▍      | 38/111 [00:00<00:00, 367.07it/s, now=None]"
     ]
    },
    {
     "name": "stdout",
     "output_type": "stream",
     "text": [
      "Moviepy - Building video ../data/5s_clips_40000/000154.mp4.\n",
      "MoviePy - Writing audio in %s\n"
     ]
    },
    {
     "name": "stderr",
     "output_type": "stream",
     "text": [
      "t:  32%|███▏      | 40/125 [00:00<00:00, 392.47it/s, now=None]     "
     ]
    },
    {
     "name": "stdout",
     "output_type": "stream",
     "text": [
      "MoviePy - Done.\n",
      "Moviepy - Writing video ../data/5s_clips_40000/000154.mp4\n",
      "\n"
     ]
    },
    {
     "name": "stderr",
     "output_type": "stream",
     "text": [
      "chunk:  36%|███▌      | 40/111 [00:00<00:00, 386.47it/s, now=None]"
     ]
    },
    {
     "name": "stdout",
     "output_type": "stream",
     "text": [
      "Moviepy - Done !\n",
      "Moviepy - video ready ../data/5s_clips_40000/000154.mp4\n",
      "Moviepy - Building video ../data/5s_clips_40000/000155.mp4.\n",
      "MoviePy - Writing audio in %s\n"
     ]
    },
    {
     "name": "stderr",
     "output_type": "stream",
     "text": [
      "t:  28%|██▊       | 35/125 [00:00<00:00, 342.40it/s, now=None]     "
     ]
    },
    {
     "name": "stdout",
     "output_type": "stream",
     "text": [
      "MoviePy - Done.\n",
      "Moviepy - Writing video ../data/5s_clips_40000/000155.mp4\n",
      "\n"
     ]
    },
    {
     "name": "stderr",
     "output_type": "stream",
     "text": [
      "                                                               \r"
     ]
    },
    {
     "name": "stdout",
     "output_type": "stream",
     "text": [
      "Moviepy - Done !\n",
      "Moviepy - video ready ../data/5s_clips_40000/000155.mp4\n",
      "-AswFDuOptQ succeed.\n",
      "-AswFDuOptQ deleted.\n",
      "----- finished ------\n",
      "----- executing ------\n",
      "['-AvC89aikTw', 180, 190]\n",
      "-AvC89aikTw failed.\n",
      "----- finished ------\n",
      "----- executing ------\n",
      "['-B3_mFE3pog', 30, 40]\n"
     ]
    },
    {
     "name": "stderr",
     "output_type": "stream",
     "text": [
      "chunk:  29%|██▉       | 32/111 [00:00<00:00, 264.71it/s, now=None]"
     ]
    },
    {
     "name": "stdout",
     "output_type": "stream",
     "text": [
      "Moviepy - Building video ../data/5s_clips_40000/000156.mp4.\n",
      "MoviePy - Writing audio in %s\n"
     ]
    },
    {
     "name": "stderr",
     "output_type": "stream",
     "text": [
      "t:  29%|██▊       | 43/150 [00:00<00:00, 425.85it/s, now=None]     "
     ]
    },
    {
     "name": "stdout",
     "output_type": "stream",
     "text": [
      "MoviePy - Done.\n",
      "Moviepy - Writing video ../data/5s_clips_40000/000156.mp4\n",
      "\n"
     ]
    },
    {
     "name": "stderr",
     "output_type": "stream",
     "text": [
      "chunk:  34%|███▍      | 38/111 [00:00<00:00, 366.75it/s, now=None]"
     ]
    },
    {
     "name": "stdout",
     "output_type": "stream",
     "text": [
      "Moviepy - Done !\n",
      "Moviepy - video ready ../data/5s_clips_40000/000156.mp4\n",
      "Moviepy - Building video ../data/5s_clips_40000/000157.mp4.\n",
      "MoviePy - Writing audio in %s\n"
     ]
    },
    {
     "name": "stderr",
     "output_type": "stream",
     "text": [
      "t:  25%|██▌       | 38/150 [00:00<00:00, 374.71it/s, now=None]    "
     ]
    },
    {
     "name": "stdout",
     "output_type": "stream",
     "text": [
      "MoviePy - Done.\n",
      "Moviepy - Writing video ../data/5s_clips_40000/000157.mp4\n",
      "\n"
     ]
    },
    {
     "name": "stderr",
     "output_type": "stream",
     "text": [
      "                                                               \r"
     ]
    },
    {
     "name": "stdout",
     "output_type": "stream",
     "text": [
      "Moviepy - Done !\n",
      "Moviepy - video ready ../data/5s_clips_40000/000157.mp4\n",
      "-B3_mFE3pog succeed.\n",
      "-B3_mFE3pog deleted.\n",
      "----- finished ------\n",
      "----- executing ------\n",
      "['-BIMKnb3tlo', 410, 420]\n"
     ]
    },
    {
     "name": "stderr",
     "output_type": "stream",
     "text": [
      "chunk:  29%|██▉       | 32/111 [00:00<00:00, 205.41it/s, now=None]"
     ]
    },
    {
     "name": "stdout",
     "output_type": "stream",
     "text": [
      "Moviepy - Building video ../data/5s_clips_40000/000158.mp4.\n",
      "MoviePy - Writing audio in %s\n"
     ]
    },
    {
     "name": "stderr",
     "output_type": "stream",
     "text": [
      "t:  30%|███       | 38/125 [00:00<00:00, 376.40it/s, now=None]     "
     ]
    },
    {
     "name": "stdout",
     "output_type": "stream",
     "text": [
      "MoviePy - Done.\n",
      "Moviepy - Writing video ../data/5s_clips_40000/000158.mp4\n",
      "\n"
     ]
    },
    {
     "name": "stderr",
     "output_type": "stream",
     "text": [
      "chunk:  34%|███▍      | 38/111 [00:00<00:00, 371.29it/s, now=None]"
     ]
    },
    {
     "name": "stdout",
     "output_type": "stream",
     "text": [
      "Moviepy - Done !\n",
      "Moviepy - video ready ../data/5s_clips_40000/000158.mp4\n",
      "Moviepy - Building video ../data/5s_clips_40000/000159.mp4.\n",
      "MoviePy - Writing audio in %s\n"
     ]
    },
    {
     "name": "stderr",
     "output_type": "stream",
     "text": [
      "t:  28%|██▊       | 35/125 [00:00<00:00, 340.45it/s, now=None]     "
     ]
    },
    {
     "name": "stdout",
     "output_type": "stream",
     "text": [
      "MoviePy - Done.\n",
      "Moviepy - Writing video ../data/5s_clips_40000/000159.mp4\n",
      "\n"
     ]
    },
    {
     "name": "stderr",
     "output_type": "stream",
     "text": [
      "                                                               \r"
     ]
    },
    {
     "name": "stdout",
     "output_type": "stream",
     "text": [
      "Moviepy - Done !\n",
      "Moviepy - video ready ../data/5s_clips_40000/000159.mp4\n",
      "-BIMKnb3tlo succeed.\n",
      "-BIMKnb3tlo deleted.\n",
      "----- finished ------\n",
      "----- executing ------\n",
      "['-BcwR0CSZ4w', 150, 160]\n"
     ]
    },
    {
     "name": "stderr",
     "output_type": "stream",
     "text": [
      "chunk:  34%|███▍      | 38/111 [00:00<00:00, 367.29it/s, now=None]"
     ]
    },
    {
     "name": "stdout",
     "output_type": "stream",
     "text": [
      "Moviepy - Building video ../data/5s_clips_40000/000160.mp4.\n",
      "MoviePy - Writing audio in %s\n"
     ]
    },
    {
     "name": "stderr",
     "output_type": "stream",
     "text": [
      "t:  42%|████▏     | 53/125 [00:00<00:00, 518.98it/s, now=None]    "
     ]
    },
    {
     "name": "stdout",
     "output_type": "stream",
     "text": [
      "MoviePy - Done.\n",
      "Moviepy - Writing video ../data/5s_clips_40000/000160.mp4\n",
      "\n"
     ]
    },
    {
     "name": "stderr",
     "output_type": "stream",
     "text": [
      "chunk:  39%|███▊      | 43/111 [00:00<00:00, 417.58it/s, now=None]"
     ]
    },
    {
     "name": "stdout",
     "output_type": "stream",
     "text": [
      "Moviepy - Done !\n",
      "Moviepy - video ready ../data/5s_clips_40000/000160.mp4\n",
      "Moviepy - Building video ../data/5s_clips_40000/000161.mp4.\n",
      "MoviePy - Writing audio in %s\n"
     ]
    },
    {
     "name": "stderr",
     "output_type": "stream",
     "text": [
      "t:  43%|████▎     | 54/125 [00:00<00:00, 537.04it/s, now=None]    "
     ]
    },
    {
     "name": "stdout",
     "output_type": "stream",
     "text": [
      "MoviePy - Done.\n",
      "Moviepy - Writing video ../data/5s_clips_40000/000161.mp4\n",
      "\n"
     ]
    },
    {
     "name": "stderr",
     "output_type": "stream",
     "text": [
      "                                                              \r"
     ]
    },
    {
     "name": "stdout",
     "output_type": "stream",
     "text": [
      "Moviepy - Done !\n",
      "Moviepy - video ready ../data/5s_clips_40000/000161.mp4\n",
      "-BcwR0CSZ4w succeed.\n",
      "-BcwR0CSZ4w deleted.\n",
      "----- finished ------\n",
      "----- executing ------\n",
      "['-BqpAyCLh7U', 450, 460]\n"
     ]
    },
    {
     "name": "stderr",
     "output_type": "stream",
     "text": [
      "chunk:  29%|██▉       | 32/111 [00:00<00:00, 285.84it/s, now=None]"
     ]
    },
    {
     "name": "stdout",
     "output_type": "stream",
     "text": [
      "Moviepy - Building video ../data/5s_clips_40000/000162.mp4.\n",
      "MoviePy - Writing audio in %s\n"
     ]
    },
    {
     "name": "stderr",
     "output_type": "stream",
     "text": [
      "t:  12%|█▏        | 14/120 [00:00<00:00, 127.87it/s, now=None]    "
     ]
    },
    {
     "name": "stdout",
     "output_type": "stream",
     "text": [
      "MoviePy - Done.\n",
      "Moviepy - Writing video ../data/5s_clips_40000/000162.mp4\n",
      "\n"
     ]
    },
    {
     "name": "stderr",
     "output_type": "stream",
     "text": [
      "chunk:  36%|███▌      | 40/111 [00:00<00:00, 392.66it/s, now=None]"
     ]
    },
    {
     "name": "stdout",
     "output_type": "stream",
     "text": [
      "Moviepy - Done !\n",
      "Moviepy - video ready ../data/5s_clips_40000/000162.mp4\n",
      "Moviepy - Building video ../data/5s_clips_40000/000163.mp4.\n",
      "MoviePy - Writing audio in %s\n"
     ]
    },
    {
     "name": "stderr",
     "output_type": "stream",
     "text": [
      "t:   8%|▊         | 10/120 [00:00<00:01, 98.03it/s, now=None]      "
     ]
    },
    {
     "name": "stdout",
     "output_type": "stream",
     "text": [
      "MoviePy - Done.\n",
      "Moviepy - Writing video ../data/5s_clips_40000/000163.mp4\n",
      "\n"
     ]
    },
    {
     "name": "stderr",
     "output_type": "stream",
     "text": [
      "                                                               \r"
     ]
    },
    {
     "name": "stdout",
     "output_type": "stream",
     "text": [
      "Moviepy - Done !\n",
      "Moviepy - video ready ../data/5s_clips_40000/000163.mp4\n",
      "-BqpAyCLh7U succeed.\n",
      "-BqpAyCLh7U deleted.\n",
      "----- finished ------\n",
      "----- executing ------\n",
      "['-BwM5Va6XFg', 70, 80]\n"
     ]
    },
    {
     "name": "stderr",
     "output_type": "stream",
     "text": [
      "chunk:  29%|██▉       | 32/111 [00:00<00:00, 194.24it/s, now=None]"
     ]
    },
    {
     "name": "stdout",
     "output_type": "stream",
     "text": [
      "Moviepy - Building video ../data/5s_clips_40000/000164.mp4.\n",
      "MoviePy - Writing audio in %s\n"
     ]
    },
    {
     "name": "stderr",
     "output_type": "stream",
     "text": [
      "t:   8%|▊         | 12/150 [00:00<00:01, 118.89it/s, now=None]     "
     ]
    },
    {
     "name": "stdout",
     "output_type": "stream",
     "text": [
      "MoviePy - Done.\n",
      "Moviepy - Writing video ../data/5s_clips_40000/000164.mp4\n",
      "\n"
     ]
    },
    {
     "name": "stderr",
     "output_type": "stream",
     "text": [
      "chunk:  36%|███▌      | 40/111 [00:00<00:00, 390.77it/s, now=None]"
     ]
    },
    {
     "name": "stdout",
     "output_type": "stream",
     "text": [
      "Moviepy - Done !\n",
      "Moviepy - video ready ../data/5s_clips_40000/000164.mp4\n",
      "Moviepy - Building video ../data/5s_clips_40000/000165.mp4.\n",
      "MoviePy - Writing audio in %s\n"
     ]
    },
    {
     "name": "stderr",
     "output_type": "stream",
     "text": [
      "t:   9%|▊         | 13/150 [00:00<00:01, 128.43it/s, now=None]     "
     ]
    },
    {
     "name": "stdout",
     "output_type": "stream",
     "text": [
      "MoviePy - Done.\n",
      "Moviepy - Writing video ../data/5s_clips_40000/000165.mp4\n",
      "\n"
     ]
    },
    {
     "name": "stderr",
     "output_type": "stream",
     "text": [
      "                                                              \r"
     ]
    },
    {
     "name": "stdout",
     "output_type": "stream",
     "text": [
      "Moviepy - Done !\n",
      "Moviepy - video ready ../data/5s_clips_40000/000165.mp4\n",
      "-BwM5Va6XFg succeed.\n",
      "-BwM5Va6XFg deleted.\n",
      "----- finished ------\n",
      "----- executing ------\n",
      "['-BxQ9nkrId4', 30, 40]\n"
     ]
    },
    {
     "name": "stderr",
     "output_type": "stream",
     "text": [
      "chunk:  29%|██▉       | 32/111 [00:00<00:00, 273.87it/s, now=None]"
     ]
    },
    {
     "name": "stdout",
     "output_type": "stream",
     "text": [
      "Moviepy - Building video ../data/5s_clips_40000/000166.mp4.\n",
      "MoviePy - Writing audio in %s\n"
     ]
    },
    {
     "name": "stderr",
     "output_type": "stream",
     "text": [
      "chunk:   0%|          | 0/111 [00:00<?, ?it/s, now=None]           "
     ]
    },
    {
     "name": "stdout",
     "output_type": "stream",
     "text": [
      "MoviePy - Done.\n",
      "Moviepy - Writing video ../data/5s_clips_40000/000166.mp4\n",
      "\n",
      "Moviepy - Done !\n",
      "Moviepy - video ready ../data/5s_clips_40000/000166.mp4\n",
      "Moviepy - Building video ../data/5s_clips_40000/000167.mp4.\n",
      "MoviePy - Writing audio in %s\n"
     ]
    },
    {
     "name": "stderr",
     "output_type": "stream",
     "text": [
      "                                                                   \r"
     ]
    },
    {
     "name": "stdout",
     "output_type": "stream",
     "text": [
      "MoviePy - Done.\n",
      "Moviepy - Writing video ../data/5s_clips_40000/000167.mp4\n",
      "\n",
      "Moviepy - Done !\n",
      "Moviepy - video ready ../data/5s_clips_40000/000167.mp4\n",
      "-BxQ9nkrId4 succeed.\n",
      "-BxQ9nkrId4 deleted.\n",
      "----- finished ------\n",
      "----- executing ------\n",
      "['-By_0iIghuE', 30, 40]\n"
     ]
    },
    {
     "name": "stderr",
     "output_type": "stream",
     "text": [
      "chunk:  31%|███       | 34/111 [00:00<00:00, 337.01it/s, now=None]"
     ]
    },
    {
     "name": "stdout",
     "output_type": "stream",
     "text": [
      "Moviepy - Building video ../data/5s_clips_40000/000168.mp4.\n",
      "MoviePy - Writing audio in %s\n"
     ]
    },
    {
     "name": "stderr",
     "output_type": "stream",
     "text": [
      "t:  38%|███▊      | 46/120 [00:00<00:00, 455.99it/s, now=None]    "
     ]
    },
    {
     "name": "stdout",
     "output_type": "stream",
     "text": [
      "MoviePy - Done.\n",
      "Moviepy - Writing video ../data/5s_clips_40000/000168.mp4\n",
      "\n"
     ]
    },
    {
     "name": "stderr",
     "output_type": "stream",
     "text": [
      "chunk:  43%|████▎     | 48/111 [00:00<00:00, 473.97it/s, now=None]"
     ]
    },
    {
     "name": "stdout",
     "output_type": "stream",
     "text": [
      "Moviepy - Done !\n",
      "Moviepy - video ready ../data/5s_clips_40000/000168.mp4\n",
      "Moviepy - Building video ../data/5s_clips_40000/000169.mp4.\n",
      "MoviePy - Writing audio in %s\n"
     ]
    },
    {
     "name": "stderr",
     "output_type": "stream",
     "text": [
      "t:  39%|███▉      | 47/120 [00:00<00:00, 467.40it/s, now=None]    "
     ]
    },
    {
     "name": "stdout",
     "output_type": "stream",
     "text": [
      "MoviePy - Done.\n",
      "Moviepy - Writing video ../data/5s_clips_40000/000169.mp4\n",
      "\n"
     ]
    },
    {
     "name": "stderr",
     "output_type": "stream",
     "text": [
      "                                                              \r"
     ]
    },
    {
     "name": "stdout",
     "output_type": "stream",
     "text": [
      "Moviepy - Done !\n",
      "Moviepy - video ready ../data/5s_clips_40000/000169.mp4\n",
      "-By_0iIghuE succeed.\n",
      "-By_0iIghuE deleted.\n",
      "----- finished ------\n",
      "----- executing ------\n",
      "['-C5dEU4zpJg', 30, 40]\n"
     ]
    },
    {
     "name": "stderr",
     "output_type": "stream",
     "text": [
      "chunk:  29%|██▉       | 32/111 [00:00<00:00, 273.07it/s, now=None]"
     ]
    },
    {
     "name": "stdout",
     "output_type": "stream",
     "text": [
      "Moviepy - Building video ../data/5s_clips_40000/000170.mp4.\n",
      "MoviePy - Writing audio in %s\n"
     ]
    },
    {
     "name": "stderr",
     "output_type": "stream",
     "text": [
      "                                                                   "
     ]
    },
    {
     "name": "stdout",
     "output_type": "stream",
     "text": [
      "MoviePy - Done.\n",
      "Moviepy - Writing video ../data/5s_clips_40000/000170.mp4\n",
      "\n",
      "Moviepy - Done !\n",
      "Moviepy - video ready ../data/5s_clips_40000/000170.mp4\n"
     ]
    },
    {
     "name": "stderr",
     "output_type": "stream",
     "text": [
      "chunk:  34%|███▍      | 38/111 [00:00<00:00, 366.30it/s, now=None]"
     ]
    },
    {
     "name": "stdout",
     "output_type": "stream",
     "text": [
      "Moviepy - Building video ../data/5s_clips_40000/000171.mp4.\n",
      "MoviePy - Writing audio in %s\n"
     ]
    },
    {
     "name": "stderr",
     "output_type": "stream",
     "text": [
      "t:  52%|█████▏    | 78/150 [00:00<00:00, 775.11it/s, now=None]     "
     ]
    },
    {
     "name": "stdout",
     "output_type": "stream",
     "text": [
      "MoviePy - Done.\n",
      "Moviepy - Writing video ../data/5s_clips_40000/000171.mp4\n",
      "\n"
     ]
    },
    {
     "name": "stderr",
     "output_type": "stream",
     "text": [
      "                                                              \r"
     ]
    },
    {
     "name": "stdout",
     "output_type": "stream",
     "text": [
      "Moviepy - Done !\n",
      "Moviepy - video ready ../data/5s_clips_40000/000171.mp4\n",
      "-C5dEU4zpJg succeed.\n",
      "-C5dEU4zpJg deleted.\n",
      "----- finished ------\n",
      "----- executing ------\n",
      "['-CHMeZVAe2s', 30, 40]\n"
     ]
    },
    {
     "name": "stderr",
     "output_type": "stream",
     "text": [
      "chunk:  32%|███▏      | 36/111 [00:00<00:00, 352.70it/s, now=None]"
     ]
    },
    {
     "name": "stdout",
     "output_type": "stream",
     "text": [
      "Moviepy - Building video ../data/5s_clips_40000/000172.mp4.\n",
      "MoviePy - Writing audio in %s\n"
     ]
    },
    {
     "name": "stderr",
     "output_type": "stream",
     "text": [
      "                                                                  \r"
     ]
    },
    {
     "name": "stdout",
     "output_type": "stream",
     "text": [
      "MoviePy - Done.\n",
      "Moviepy - Writing video ../data/5s_clips_40000/000172.mp4\n",
      "\n",
      "Moviepy - Done !\n",
      "Moviepy - video ready ../data/5s_clips_40000/000172.mp4\n",
      "Moviepy - Building video ../data/5s_clips_40000/000173.mp4.\n",
      "MoviePy - Writing audio in %s\n"
     ]
    },
    {
     "name": "stderr",
     "output_type": "stream",
     "text": [
      "                                                                   "
     ]
    },
    {
     "name": "stdout",
     "output_type": "stream",
     "text": [
      "MoviePy - Done.\n",
      "Moviepy - Writing video ../data/5s_clips_40000/000173.mp4\n",
      "\n"
     ]
    },
    {
     "name": "stderr",
     "output_type": "stream",
     "text": [
      "\r"
     ]
    },
    {
     "name": "stdout",
     "output_type": "stream",
     "text": [
      "Moviepy - Done !\n",
      "Moviepy - video ready ../data/5s_clips_40000/000173.mp4\n",
      "-CHMeZVAe2s succeed.\n",
      "-CHMeZVAe2s deleted.\n",
      "----- finished ------\n",
      "----- executing ------\n",
      "['-CIxoobEubQ', 250, 260]\n"
     ]
    },
    {
     "name": "stderr",
     "output_type": "stream",
     "text": [
      "chunk:  29%|██▉       | 32/111 [00:00<00:00, 248.04it/s, now=None]"
     ]
    },
    {
     "name": "stdout",
     "output_type": "stream",
     "text": [
      "Moviepy - Building video ../data/5s_clips_40000/000174.mp4.\n",
      "MoviePy - Writing audio in %s\n"
     ]
    },
    {
     "name": "stderr",
     "output_type": "stream",
     "text": [
      "t:  25%|██▍       | 37/150 [00:00<00:00, 363.44it/s, now=None]     "
     ]
    },
    {
     "name": "stdout",
     "output_type": "stream",
     "text": [
      "MoviePy - Done.\n",
      "Moviepy - Writing video ../data/5s_clips_40000/000174.mp4\n",
      "\n"
     ]
    },
    {
     "name": "stderr",
     "output_type": "stream",
     "text": [
      "chunk:  38%|███▊      | 42/111 [00:00<00:00, 413.86it/s, now=None]"
     ]
    },
    {
     "name": "stdout",
     "output_type": "stream",
     "text": [
      "Moviepy - Done !\n",
      "Moviepy - video ready ../data/5s_clips_40000/000174.mp4\n",
      "Moviepy - Building video ../data/5s_clips_40000/000175.mp4.\n",
      "MoviePy - Writing audio in %s\n"
     ]
    },
    {
     "name": "stderr",
     "output_type": "stream",
     "text": [
      "t:  26%|██▌       | 39/150 [00:00<00:00, 377.08it/s, now=None]    "
     ]
    },
    {
     "name": "stdout",
     "output_type": "stream",
     "text": [
      "MoviePy - Done.\n",
      "Moviepy - Writing video ../data/5s_clips_40000/000175.mp4\n",
      "\n"
     ]
    },
    {
     "name": "stderr",
     "output_type": "stream",
     "text": [
      "                                                               \r"
     ]
    },
    {
     "name": "stdout",
     "output_type": "stream",
     "text": [
      "Moviepy - Done !\n",
      "Moviepy - video ready ../data/5s_clips_40000/000175.mp4\n",
      "-CIxoobEubQ succeed.\n",
      "-CIxoobEubQ deleted.\n",
      "----- finished ------\n",
      "----- executing ------\n",
      "['-CUp_Tmg2Y0', 30, 40]\n"
     ]
    },
    {
     "name": "stderr",
     "output_type": "stream",
     "text": [
      "chunk:  34%|███▍      | 38/111 [00:00<00:00, 369.48it/s, now=None]"
     ]
    },
    {
     "name": "stdout",
     "output_type": "stream",
     "text": [
      "Moviepy - Building video ../data/5s_clips_40000/000176.mp4.\n",
      "MoviePy - Writing audio in %s\n"
     ]
    },
    {
     "name": "stderr",
     "output_type": "stream",
     "text": [
      "t:  30%|███       | 38/125 [00:00<00:00, 377.32it/s, now=None]    "
     ]
    },
    {
     "name": "stdout",
     "output_type": "stream",
     "text": [
      "MoviePy - Done.\n",
      "Moviepy - Writing video ../data/5s_clips_40000/000176.mp4\n",
      "\n"
     ]
    },
    {
     "name": "stderr",
     "output_type": "stream",
     "text": [
      "chunk:  52%|█████▏    | 58/111 [00:00<00:00, 567.56it/s, now=None]"
     ]
    },
    {
     "name": "stdout",
     "output_type": "stream",
     "text": [
      "Moviepy - Done !\n",
      "Moviepy - video ready ../data/5s_clips_40000/000176.mp4\n",
      "Moviepy - Building video ../data/5s_clips_40000/000177.mp4.\n",
      "MoviePy - Writing audio in %s\n"
     ]
    },
    {
     "name": "stderr",
     "output_type": "stream",
     "text": [
      "t:  35%|███▌      | 44/125 [00:00<00:00, 437.53it/s, now=None]    "
     ]
    },
    {
     "name": "stdout",
     "output_type": "stream",
     "text": [
      "MoviePy - Done.\n",
      "Moviepy - Writing video ../data/5s_clips_40000/000177.mp4\n",
      "\n"
     ]
    },
    {
     "name": "stderr",
     "output_type": "stream",
     "text": [
      "                                                              \r"
     ]
    },
    {
     "name": "stdout",
     "output_type": "stream",
     "text": [
      "Moviepy - Done !\n",
      "Moviepy - video ready ../data/5s_clips_40000/000177.mp4\n",
      "-CUp_Tmg2Y0 succeed.\n",
      "-CUp_Tmg2Y0 deleted.\n",
      "----- finished ------\n",
      "----- executing ------\n",
      "['-CgdUiJaNdU', 170, 180]\n"
     ]
    },
    {
     "name": "stderr",
     "output_type": "stream",
     "text": [
      "chunk:  29%|██▉       | 32/111 [00:00<00:00, 285.50it/s, now=None]"
     ]
    },
    {
     "name": "stdout",
     "output_type": "stream",
     "text": [
      "Moviepy - Building video ../data/5s_clips_40000/000178.mp4.\n",
      "MoviePy - Writing audio in %s\n"
     ]
    },
    {
     "name": "stderr",
     "output_type": "stream",
     "text": [
      "t:   9%|▉         | 14/150 [00:00<00:01, 134.44it/s, now=None]    "
     ]
    },
    {
     "name": "stdout",
     "output_type": "stream",
     "text": [
      "MoviePy - Done.\n",
      "Moviepy - Writing video ../data/5s_clips_40000/000178.mp4\n",
      "\n"
     ]
    },
    {
     "name": "stderr",
     "output_type": "stream",
     "text": [
      "chunk:  38%|███▊      | 42/111 [00:00<00:00, 409.34it/s, now=None]"
     ]
    },
    {
     "name": "stdout",
     "output_type": "stream",
     "text": [
      "Moviepy - Done !\n",
      "Moviepy - video ready ../data/5s_clips_40000/000178.mp4\n",
      "Moviepy - Building video ../data/5s_clips_40000/000179.mp4.\n",
      "MoviePy - Writing audio in %s\n"
     ]
    },
    {
     "name": "stderr",
     "output_type": "stream",
     "text": [
      "t:   9%|▊         | 13/150 [00:00<00:01, 128.98it/s, now=None]    "
     ]
    },
    {
     "name": "stdout",
     "output_type": "stream",
     "text": [
      "MoviePy - Done.\n",
      "Moviepy - Writing video ../data/5s_clips_40000/000179.mp4\n",
      "\n"
     ]
    },
    {
     "name": "stderr",
     "output_type": "stream",
     "text": [
      "                                                               \r"
     ]
    },
    {
     "name": "stdout",
     "output_type": "stream",
     "text": [
      "Moviepy - Done !\n",
      "Moviepy - video ready ../data/5s_clips_40000/000179.mp4\n",
      "-CgdUiJaNdU succeed.\n",
      "-CgdUiJaNdU deleted.\n",
      "----- finished ------\n",
      "----- executing ------\n",
      "['-CniGkDLq-Y', 30, 40]\n"
     ]
    },
    {
     "name": "stderr",
     "output_type": "stream",
     "text": [
      "chunk:  31%|███       | 34/111 [00:00<00:00, 338.80it/s, now=None]"
     ]
    },
    {
     "name": "stdout",
     "output_type": "stream",
     "text": [
      "Moviepy - Building video ../data/5s_clips_40000/000180.mp4.\n",
      "MoviePy - Writing audio in %s\n"
     ]
    },
    {
     "name": "stderr",
     "output_type": "stream",
     "text": [
      "t:  44%|████▍     | 66/150 [00:00<00:00, 653.60it/s, now=None]    "
     ]
    },
    {
     "name": "stdout",
     "output_type": "stream",
     "text": [
      "MoviePy - Done.\n",
      "Moviepy - Writing video ../data/5s_clips_40000/000180.mp4\n",
      "\n"
     ]
    },
    {
     "name": "stderr",
     "output_type": "stream",
     "text": [
      "chunk:  49%|████▊     | 54/111 [00:00<00:00, 527.07it/s, now=None]"
     ]
    },
    {
     "name": "stdout",
     "output_type": "stream",
     "text": [
      "Moviepy - Done !\n",
      "Moviepy - video ready ../data/5s_clips_40000/000180.mp4\n",
      "Moviepy - Building video ../data/5s_clips_40000/000181.mp4.\n",
      "MoviePy - Writing audio in %s\n"
     ]
    },
    {
     "name": "stderr",
     "output_type": "stream",
     "text": [
      "t:  53%|█████▎    | 80/150 [00:00<00:00, 796.61it/s, now=None]    "
     ]
    },
    {
     "name": "stdout",
     "output_type": "stream",
     "text": [
      "MoviePy - Done.\n",
      "Moviepy - Writing video ../data/5s_clips_40000/000181.mp4\n",
      "\n"
     ]
    },
    {
     "name": "stderr",
     "output_type": "stream",
     "text": [
      "                                                              \r"
     ]
    },
    {
     "name": "stdout",
     "output_type": "stream",
     "text": [
      "Moviepy - Done !\n",
      "Moviepy - video ready ../data/5s_clips_40000/000181.mp4\n",
      "-CniGkDLq-Y succeed.\n",
      "-CniGkDLq-Y deleted.\n",
      "----- finished ------\n",
      "----- executing ------\n",
      "['-DBcp6YGi6k', 30, 40]\n"
     ]
    },
    {
     "name": "stderr",
     "output_type": "stream",
     "text": [
      "chunk:  31%|███       | 34/111 [00:00<00:00, 332.09it/s, now=None]"
     ]
    },
    {
     "name": "stdout",
     "output_type": "stream",
     "text": [
      "Moviepy - Building video ../data/5s_clips_40000/000182.mp4.\n",
      "MoviePy - Writing audio in %s\n"
     ]
    },
    {
     "name": "stderr",
     "output_type": "stream",
     "text": [
      "t:  29%|██▉       | 44/150 [00:00<00:00, 429.16it/s, now=None]    "
     ]
    },
    {
     "name": "stdout",
     "output_type": "stream",
     "text": [
      "MoviePy - Done.\n",
      "Moviepy - Writing video ../data/5s_clips_40000/000182.mp4\n",
      "\n"
     ]
    },
    {
     "name": "stderr",
     "output_type": "stream",
     "text": [
      "chunk:  44%|████▍     | 49/111 [00:00<00:00, 480.29it/s, now=None]"
     ]
    },
    {
     "name": "stdout",
     "output_type": "stream",
     "text": [
      "Moviepy - Done !\n",
      "Moviepy - video ready ../data/5s_clips_40000/000182.mp4\n",
      "Moviepy - Building video ../data/5s_clips_40000/000183.mp4.\n",
      "MoviePy - Writing audio in %s\n"
     ]
    },
    {
     "name": "stderr",
     "output_type": "stream",
     "text": [
      "t:  35%|███▍      | 52/150 [00:00<00:00, 505.77it/s, now=None]    "
     ]
    },
    {
     "name": "stdout",
     "output_type": "stream",
     "text": [
      "MoviePy - Done.\n",
      "Moviepy - Writing video ../data/5s_clips_40000/000183.mp4\n",
      "\n"
     ]
    },
    {
     "name": "stderr",
     "output_type": "stream",
     "text": [
      "                                                               \r"
     ]
    },
    {
     "name": "stdout",
     "output_type": "stream",
     "text": [
      "Moviepy - Done !\n",
      "Moviepy - video ready ../data/5s_clips_40000/000183.mp4\n",
      "-DBcp6YGi6k succeed.\n",
      "-DBcp6YGi6k deleted.\n",
      "----- finished ------\n",
      "----- executing ------\n",
      "['-DLL8LaKq-c', 19, 29]\n"
     ]
    },
    {
     "name": "stderr",
     "output_type": "stream",
     "text": [
      "chunk:  29%|██▉       | 32/111 [00:00<00:00, 262.60it/s, now=None]"
     ]
    },
    {
     "name": "stdout",
     "output_type": "stream",
     "text": [
      "Moviepy - Building video ../data/5s_clips_40000/000184.mp4.\n",
      "MoviePy - Writing audio in %s\n"
     ]
    },
    {
     "name": "stderr",
     "output_type": "stream",
     "text": [
      "t:  34%|███▍      | 51/150 [00:00<00:00, 494.58it/s, now=None]    "
     ]
    },
    {
     "name": "stdout",
     "output_type": "stream",
     "text": [
      "MoviePy - Done.\n",
      "Moviepy - Writing video ../data/5s_clips_40000/000184.mp4\n",
      "\n"
     ]
    },
    {
     "name": "stderr",
     "output_type": "stream",
     "text": [
      "chunk:  47%|████▋     | 52/111 [00:00<00:00, 500.87it/s, now=None]"
     ]
    },
    {
     "name": "stdout",
     "output_type": "stream",
     "text": [
      "Moviepy - Done !\n",
      "Moviepy - video ready ../data/5s_clips_40000/000184.mp4\n",
      "Moviepy - Building video ../data/5s_clips_40000/000185.mp4.\n",
      "MoviePy - Writing audio in %s\n"
     ]
    },
    {
     "name": "stderr",
     "output_type": "stream",
     "text": [
      "                                                                  \r"
     ]
    },
    {
     "name": "stdout",
     "output_type": "stream",
     "text": [
      "-DLL8LaKq-c failed.\n",
      "-DLL8LaKq-c deleted.\n",
      "----- finished ------\n",
      "----- executing ------\n",
      "['-DNkAalo7og', 30, 40]\n"
     ]
    },
    {
     "name": "stderr",
     "output_type": "stream",
     "text": [
      "chunk:  29%|██▉       | 32/111 [00:00<00:00, 312.87it/s, now=None]"
     ]
    },
    {
     "name": "stdout",
     "output_type": "stream",
     "text": [
      "Moviepy - Building video ../data/5s_clips_40000/000184.mp4.\n",
      "MoviePy - Writing audio in %s\n"
     ]
    },
    {
     "name": "stderr",
     "output_type": "stream",
     "text": [
      "chunk:   0%|          | 0/111 [00:00<?, ?it/s, now=None]          "
     ]
    },
    {
     "name": "stdout",
     "output_type": "stream",
     "text": [
      "MoviePy - Done.\n",
      "Moviepy - Writing video ../data/5s_clips_40000/000184.mp4\n",
      "\n",
      "Moviepy - Done !\n",
      "Moviepy - video ready ../data/5s_clips_40000/000184.mp4\n",
      "Moviepy - Building video ../data/5s_clips_40000/000185.mp4.\n",
      "MoviePy - Writing audio in %s\n"
     ]
    },
    {
     "name": "stderr",
     "output_type": "stream",
     "text": [
      "                                                                   \r"
     ]
    },
    {
     "name": "stdout",
     "output_type": "stream",
     "text": [
      "MoviePy - Done.\n",
      "Moviepy - Writing video ../data/5s_clips_40000/000185.mp4\n",
      "\n",
      "Moviepy - Done !\n",
      "Moviepy - video ready ../data/5s_clips_40000/000185.mp4\n",
      "-DNkAalo7og succeed.\n",
      "-DNkAalo7og deleted.\n",
      "----- finished ------\n",
      "----- executing ------\n",
      "['-DWRAxaH_RY', 300, 310]\n"
     ]
    },
    {
     "name": "stderr",
     "output_type": "stream",
     "text": [
      "\r",
      "chunk:   0%|          | 0/111 [00:00<?, ?it/s, now=None]"
     ]
    },
    {
     "name": "stdout",
     "output_type": "stream",
     "text": [
      "Moviepy - Building video ../data/5s_clips_40000/000186.mp4.\n",
      "MoviePy - Writing audio in %s\n"
     ]
    },
    {
     "name": "stderr",
     "output_type": "stream",
     "text": [
      "t:   7%|▋         | 11/150 [00:00<00:01, 103.20it/s, now=None]    "
     ]
    },
    {
     "name": "stdout",
     "output_type": "stream",
     "text": [
      "MoviePy - Done.\n",
      "Moviepy - Writing video ../data/5s_clips_40000/000186.mp4\n",
      "\n"
     ]
    },
    {
     "name": "stderr",
     "output_type": "stream",
     "text": [
      "chunk:  33%|███▎      | 37/111 [00:00<00:00, 369.47it/s, now=None]"
     ]
    },
    {
     "name": "stdout",
     "output_type": "stream",
     "text": [
      "Moviepy - Done !\n",
      "Moviepy - video ready ../data/5s_clips_40000/000186.mp4\n",
      "Moviepy - Building video ../data/5s_clips_40000/000187.mp4.\n",
      "MoviePy - Writing audio in %s\n"
     ]
    },
    {
     "name": "stderr",
     "output_type": "stream",
     "text": [
      "t:  10%|█         | 15/150 [00:00<00:00, 144.79it/s, now=None]     "
     ]
    },
    {
     "name": "stdout",
     "output_type": "stream",
     "text": [
      "MoviePy - Done.\n",
      "Moviepy - Writing video ../data/5s_clips_40000/000187.mp4\n",
      "\n"
     ]
    },
    {
     "name": "stderr",
     "output_type": "stream",
     "text": [
      "                                                              \r"
     ]
    },
    {
     "name": "stdout",
     "output_type": "stream",
     "text": [
      "Moviepy - Done !\n",
      "Moviepy - video ready ../data/5s_clips_40000/000187.mp4\n",
      "-DWRAxaH_RY succeed.\n",
      "-DWRAxaH_RY deleted.\n",
      "----- finished ------\n",
      "----- executing ------\n",
      "['-DYZX74qgFQ', 30, 40]\n"
     ]
    },
    {
     "name": "stderr",
     "output_type": "stream",
     "text": [
      "chunk:  29%|██▉       | 32/111 [00:00<00:00, 252.89it/s, now=None]"
     ]
    },
    {
     "name": "stdout",
     "output_type": "stream",
     "text": [
      "Moviepy - Building video ../data/5s_clips_40000/000188.mp4.\n",
      "MoviePy - Writing audio in %s\n"
     ]
    },
    {
     "name": "stderr",
     "output_type": "stream",
     "text": [
      "chunk:   0%|          | 0/111 [00:00<?, ?it/s, now=None]           "
     ]
    },
    {
     "name": "stdout",
     "output_type": "stream",
     "text": [
      "MoviePy - Done.\n",
      "Moviepy - Writing video ../data/5s_clips_40000/000188.mp4\n",
      "\n",
      "Moviepy - Done !\n",
      "Moviepy - video ready ../data/5s_clips_40000/000188.mp4\n",
      "Moviepy - Building video ../data/5s_clips_40000/000189.mp4.\n",
      "MoviePy - Writing audio in %s\n"
     ]
    },
    {
     "name": "stderr",
     "output_type": "stream",
     "text": [
      "                                                                   \r"
     ]
    },
    {
     "name": "stdout",
     "output_type": "stream",
     "text": [
      "MoviePy - Done.\n",
      "Moviepy - Writing video ../data/5s_clips_40000/000189.mp4\n",
      "\n",
      "Moviepy - Done !\n",
      "Moviepy - video ready ../data/5s_clips_40000/000189.mp4\n",
      "-DYZX74qgFQ succeed.\n",
      "-DYZX74qgFQ deleted.\n",
      "----- finished ------\n",
      "----- executing ------\n",
      "['-DZMYxyB6L8', 40, 50]\n"
     ]
    },
    {
     "name": "stderr",
     "output_type": "stream",
     "text": [
      "chunk:  29%|██▉       | 32/111 [00:00<00:00, 229.80it/s, now=None]"
     ]
    },
    {
     "name": "stdout",
     "output_type": "stream",
     "text": [
      "Moviepy - Building video ../data/5s_clips_40000/000190.mp4.\n",
      "MoviePy - Writing audio in %s\n"
     ]
    },
    {
     "name": "stderr",
     "output_type": "stream",
     "text": [
      "t:  11%|█         | 14/126 [00:00<00:00, 127.35it/s, now=None]    "
     ]
    },
    {
     "name": "stdout",
     "output_type": "stream",
     "text": [
      "MoviePy - Done.\n",
      "Moviepy - Writing video ../data/5s_clips_40000/000190.mp4\n",
      "\n"
     ]
    },
    {
     "name": "stderr",
     "output_type": "stream",
     "text": [
      "chunk:  29%|██▉       | 32/111 [00:00<00:00, 295.46it/s, now=None]"
     ]
    },
    {
     "name": "stdout",
     "output_type": "stream",
     "text": [
      "Moviepy - Done !\n",
      "Moviepy - video ready ../data/5s_clips_40000/000190.mp4\n",
      "Moviepy - Building video ../data/5s_clips_40000/000191.mp4.\n",
      "MoviePy - Writing audio in %s\n"
     ]
    },
    {
     "name": "stderr",
     "output_type": "stream",
     "text": [
      "t:  11%|█         | 14/126 [00:00<00:00, 130.06it/s, now=None]    "
     ]
    },
    {
     "name": "stdout",
     "output_type": "stream",
     "text": [
      "MoviePy - Done.\n",
      "Moviepy - Writing video ../data/5s_clips_40000/000191.mp4\n",
      "\n"
     ]
    },
    {
     "name": "stderr",
     "output_type": "stream",
     "text": [
      "                                                              \r"
     ]
    },
    {
     "name": "stdout",
     "output_type": "stream",
     "text": [
      "Moviepy - Done !\n",
      "Moviepy - video ready ../data/5s_clips_40000/000191.mp4\n",
      "-DZMYxyB6L8 succeed.\n",
      "-DZMYxyB6L8 deleted.\n",
      "----- finished ------\n",
      "----- executing ------\n",
      "['-D_ljLTbCK0', 220, 230]\n"
     ]
    },
    {
     "name": "stderr",
     "output_type": "stream",
     "text": [
      "chunk:  29%|██▉       | 32/111 [00:00<00:00, 220.34it/s, now=None]"
     ]
    },
    {
     "name": "stdout",
     "output_type": "stream",
     "text": [
      "Moviepy - Building video ../data/5s_clips_40000/000192.mp4.\n",
      "MoviePy - Writing audio in %s\n"
     ]
    },
    {
     "name": "stderr",
     "output_type": "stream",
     "text": [
      "t:   9%|▊         | 13/150 [00:00<00:01, 125.51it/s, now=None]     "
     ]
    },
    {
     "name": "stdout",
     "output_type": "stream",
     "text": [
      "MoviePy - Done.\n",
      "Moviepy - Writing video ../data/5s_clips_40000/000192.mp4\n",
      "\n"
     ]
    },
    {
     "name": "stderr",
     "output_type": "stream",
     "text": [
      "chunk:  34%|███▍      | 38/111 [00:00<00:00, 365.58it/s, now=None]"
     ]
    },
    {
     "name": "stdout",
     "output_type": "stream",
     "text": [
      "Moviepy - Done !\n",
      "Moviepy - video ready ../data/5s_clips_40000/000192.mp4\n",
      "Moviepy - Building video ../data/5s_clips_40000/000193.mp4.\n",
      "MoviePy - Writing audio in %s\n"
     ]
    },
    {
     "name": "stderr",
     "output_type": "stream",
     "text": [
      "t:   9%|▊         | 13/150 [00:00<00:01, 127.69it/s, now=None]     "
     ]
    },
    {
     "name": "stdout",
     "output_type": "stream",
     "text": [
      "MoviePy - Done.\n",
      "Moviepy - Writing video ../data/5s_clips_40000/000193.mp4\n",
      "\n"
     ]
    },
    {
     "name": "stderr",
     "output_type": "stream",
     "text": [
      "                                                              \r"
     ]
    },
    {
     "name": "stdout",
     "output_type": "stream",
     "text": [
      "Moviepy - Done !\n",
      "Moviepy - video ready ../data/5s_clips_40000/000193.mp4\n",
      "-D_ljLTbCK0 succeed.\n",
      "-D_ljLTbCK0 deleted.\n",
      "----- finished ------\n",
      "----- executing ------\n",
      "['-DcMk015qSA', 290, 300]\n"
     ]
    },
    {
     "name": "stderr",
     "output_type": "stream",
     "text": [
      "chunk:  29%|██▉       | 32/111 [00:00<00:00, 219.21it/s, now=None]"
     ]
    },
    {
     "name": "stdout",
     "output_type": "stream",
     "text": [
      "Moviepy - Building video ../data/5s_clips_40000/000194.mp4.\n",
      "MoviePy - Writing audio in %s\n"
     ]
    },
    {
     "name": "stderr",
     "output_type": "stream",
     "text": [
      "t:  30%|██▉       | 43/145 [00:00<00:00, 424.38it/s, now=None]    "
     ]
    },
    {
     "name": "stdout",
     "output_type": "stream",
     "text": [
      "MoviePy - Done.\n",
      "Moviepy - Writing video ../data/5s_clips_40000/000194.mp4\n",
      "\n"
     ]
    },
    {
     "name": "stderr",
     "output_type": "stream",
     "text": [
      "chunk:  32%|███▏      | 36/111 [00:00<00:00, 338.40it/s, now=None]"
     ]
    },
    {
     "name": "stdout",
     "output_type": "stream",
     "text": [
      "Moviepy - Done !\n",
      "Moviepy - video ready ../data/5s_clips_40000/000194.mp4\n",
      "Moviepy - Building video ../data/5s_clips_40000/000195.mp4.\n",
      "MoviePy - Writing audio in %s\n"
     ]
    },
    {
     "name": "stderr",
     "output_type": "stream",
     "text": [
      "t:  33%|███▎      | 48/145 [00:00<00:00, 479.80it/s, now=None]    "
     ]
    },
    {
     "name": "stdout",
     "output_type": "stream",
     "text": [
      "MoviePy - Done.\n",
      "Moviepy - Writing video ../data/5s_clips_40000/000195.mp4\n",
      "\n"
     ]
    },
    {
     "name": "stderr",
     "output_type": "stream",
     "text": [
      "                                                               \r"
     ]
    },
    {
     "name": "stdout",
     "output_type": "stream",
     "text": [
      "Moviepy - Done !\n",
      "Moviepy - video ready ../data/5s_clips_40000/000195.mp4\n",
      "-DcMk015qSA succeed.\n",
      "-DcMk015qSA deleted.\n",
      "----- finished ------\n",
      "----- executing ------\n",
      "['-DeAdhYKbGE', 290, 300]\n"
     ]
    },
    {
     "name": "stderr",
     "output_type": "stream",
     "text": [
      "chunk:  29%|██▉       | 32/111 [00:00<00:00, 240.54it/s, now=None]"
     ]
    },
    {
     "name": "stdout",
     "output_type": "stream",
     "text": [
      "Moviepy - Building video ../data/5s_clips_40000/000196.mp4.\n",
      "MoviePy - Writing audio in %s\n"
     ]
    },
    {
     "name": "stderr",
     "output_type": "stream",
     "text": [
      "t:  10%|█         | 13/125 [00:00<00:00, 128.05it/s, now=None]    "
     ]
    },
    {
     "name": "stdout",
     "output_type": "stream",
     "text": [
      "MoviePy - Done.\n",
      "Moviepy - Writing video ../data/5s_clips_40000/000196.mp4\n",
      "\n"
     ]
    },
    {
     "name": "stderr",
     "output_type": "stream",
     "text": [
      "chunk:  31%|███       | 34/111 [00:00<00:00, 325.85it/s, now=None]"
     ]
    },
    {
     "name": "stdout",
     "output_type": "stream",
     "text": [
      "Moviepy - Done !\n",
      "Moviepy - video ready ../data/5s_clips_40000/000196.mp4\n",
      "Moviepy - Building video ../data/5s_clips_40000/000197.mp4.\n",
      "MoviePy - Writing audio in %s\n"
     ]
    },
    {
     "name": "stderr",
     "output_type": "stream",
     "text": [
      "t:  12%|█▏        | 15/125 [00:00<00:00, 132.60it/s, now=None]    "
     ]
    },
    {
     "name": "stdout",
     "output_type": "stream",
     "text": [
      "MoviePy - Done.\n",
      "Moviepy - Writing video ../data/5s_clips_40000/000197.mp4\n",
      "\n"
     ]
    },
    {
     "name": "stderr",
     "output_type": "stream",
     "text": [
      "                                                              \r"
     ]
    },
    {
     "name": "stdout",
     "output_type": "stream",
     "text": [
      "Moviepy - Done !\n",
      "Moviepy - video ready ../data/5s_clips_40000/000197.mp4\n",
      "-DeAdhYKbGE succeed.\n",
      "-DeAdhYKbGE deleted.\n",
      "----- finished ------\n",
      "----- executing ------\n",
      "['-Dj2PfPmynQ', 30, 40]\n"
     ]
    },
    {
     "name": "stderr",
     "output_type": "stream",
     "text": [
      "chunk:  29%|██▉       | 32/111 [00:00<00:00, 285.05it/s, now=None]"
     ]
    },
    {
     "name": "stdout",
     "output_type": "stream",
     "text": [
      "Moviepy - Building video ../data/5s_clips_40000/000198.mp4.\n",
      "MoviePy - Writing audio in %s\n"
     ]
    },
    {
     "name": "stderr",
     "output_type": "stream",
     "text": [
      "t:  29%|██▊       | 43/150 [00:00<00:00, 422.69it/s, now=None]    "
     ]
    },
    {
     "name": "stdout",
     "output_type": "stream",
     "text": [
      "MoviePy - Done.\n",
      "Moviepy - Writing video ../data/5s_clips_40000/000198.mp4\n",
      "\n"
     ]
    },
    {
     "name": "stderr",
     "output_type": "stream",
     "text": [
      "chunk:  44%|████▍     | 49/111 [00:00<00:00, 488.76it/s, now=None]"
     ]
    },
    {
     "name": "stdout",
     "output_type": "stream",
     "text": [
      "Moviepy - Done !\n",
      "Moviepy - video ready ../data/5s_clips_40000/000198.mp4\n",
      "Moviepy - Building video ../data/5s_clips_40000/000199.mp4.\n",
      "MoviePy - Writing audio in %s\n"
     ]
    },
    {
     "name": "stderr",
     "output_type": "stream",
     "text": [
      "t:  29%|██▉       | 44/150 [00:00<00:00, 438.15it/s, now=None]    "
     ]
    },
    {
     "name": "stdout",
     "output_type": "stream",
     "text": [
      "MoviePy - Done.\n",
      "Moviepy - Writing video ../data/5s_clips_40000/000199.mp4\n",
      "\n"
     ]
    },
    {
     "name": "stderr",
     "output_type": "stream",
     "text": [
      "                                                               \r"
     ]
    },
    {
     "name": "stdout",
     "output_type": "stream",
     "text": [
      "Moviepy - Done !\n",
      "Moviepy - video ready ../data/5s_clips_40000/000199.mp4\n",
      "-Dj2PfPmynQ succeed.\n",
      "-Dj2PfPmynQ deleted.\n",
      "----- finished ------\n",
      "----- executing ------\n",
      "['-Dl-VzBPd9E', 270, 280]\n"
     ]
    },
    {
     "name": "stderr",
     "output_type": "stream",
     "text": [
      "chunk:  29%|██▉       | 32/111 [00:00<00:00, 195.56it/s, now=None]"
     ]
    },
    {
     "name": "stdout",
     "output_type": "stream",
     "text": [
      "Moviepy - Building video ../data/5s_clips_40000/000200.mp4.\n",
      "MoviePy - Writing audio in %s\n"
     ]
    },
    {
     "name": "stderr",
     "output_type": "stream",
     "text": [
      "t:  45%|████▍     | 56/125 [00:00<00:00, 556.42it/s, now=None]    "
     ]
    },
    {
     "name": "stdout",
     "output_type": "stream",
     "text": [
      "MoviePy - Done.\n",
      "Moviepy - Writing video ../data/5s_clips_40000/000200.mp4\n",
      "\n"
     ]
    },
    {
     "name": "stderr",
     "output_type": "stream",
     "text": [
      "chunk:  31%|███       | 34/111 [00:00<00:00, 318.04it/s, now=None]"
     ]
    },
    {
     "name": "stdout",
     "output_type": "stream",
     "text": [
      "Moviepy - Done !\n",
      "Moviepy - video ready ../data/5s_clips_40000/000200.mp4\n",
      "Moviepy - Building video ../data/5s_clips_40000/000201.mp4.\n",
      "MoviePy - Writing audio in %s\n"
     ]
    },
    {
     "name": "stderr",
     "output_type": "stream",
     "text": [
      "t:  42%|████▏     | 53/125 [00:00<00:00, 526.63it/s, now=None]    "
     ]
    },
    {
     "name": "stdout",
     "output_type": "stream",
     "text": [
      "MoviePy - Done.\n",
      "Moviepy - Writing video ../data/5s_clips_40000/000201.mp4\n",
      "\n"
     ]
    },
    {
     "name": "stderr",
     "output_type": "stream",
     "text": [
      "                                                               \r"
     ]
    },
    {
     "name": "stdout",
     "output_type": "stream",
     "text": [
      "Moviepy - Done !\n",
      "Moviepy - video ready ../data/5s_clips_40000/000201.mp4\n",
      "-Dl-VzBPd9E succeed.\n",
      "-Dl-VzBPd9E deleted.\n",
      "----- finished ------\n",
      "----- executing ------\n",
      "['-Dtir74TiUM', 40, 50]\n"
     ]
    },
    {
     "name": "stderr",
     "output_type": "stream",
     "text": [
      "chunk:  29%|██▉       | 32/111 [00:00<00:00, 269.19it/s, now=None]"
     ]
    },
    {
     "name": "stdout",
     "output_type": "stream",
     "text": [
      "Moviepy - Building video ../data/5s_clips_40000/000202.mp4.\n",
      "MoviePy - Writing audio in %s\n"
     ]
    },
    {
     "name": "stderr",
     "output_type": "stream",
     "text": [
      "t:  38%|███▊      | 57/150 [00:00<00:00, 561.07it/s, now=None]     "
     ]
    },
    {
     "name": "stdout",
     "output_type": "stream",
     "text": [
      "MoviePy - Done.\n",
      "Moviepy - Writing video ../data/5s_clips_40000/000202.mp4\n",
      "\n"
     ]
    },
    {
     "name": "stderr",
     "output_type": "stream",
     "text": [
      "chunk:  38%|███▊      | 42/111 [00:00<00:00, 405.09it/s, now=None]"
     ]
    },
    {
     "name": "stdout",
     "output_type": "stream",
     "text": [
      "Moviepy - Done !\n",
      "Moviepy - video ready ../data/5s_clips_40000/000202.mp4\n",
      "Moviepy - Building video ../data/5s_clips_40000/000203.mp4.\n",
      "MoviePy - Writing audio in %s\n"
     ]
    },
    {
     "name": "stderr",
     "output_type": "stream",
     "text": [
      "t:  34%|███▍      | 51/150 [00:00<00:00, 509.16it/s, now=None]    "
     ]
    },
    {
     "name": "stdout",
     "output_type": "stream",
     "text": [
      "MoviePy - Done.\n",
      "Moviepy - Writing video ../data/5s_clips_40000/000203.mp4\n",
      "\n"
     ]
    },
    {
     "name": "stderr",
     "output_type": "stream",
     "text": [
      "                                                              \r"
     ]
    },
    {
     "name": "stdout",
     "output_type": "stream",
     "text": [
      "Moviepy - Done !\n",
      "Moviepy - video ready ../data/5s_clips_40000/000203.mp4\n",
      "-Dtir74TiUM succeed.\n",
      "-Dtir74TiUM deleted.\n",
      "----- finished ------\n",
      "----- executing ------\n",
      "['-DvxsHG1tuo', 410, 420]\n"
     ]
    },
    {
     "name": "stderr",
     "output_type": "stream",
     "text": [
      "chunk:  29%|██▉       | 32/111 [00:00<00:00, 208.35it/s, now=None]"
     ]
    },
    {
     "name": "stdout",
     "output_type": "stream",
     "text": [
      "Moviepy - Building video ../data/5s_clips_40000/000204.mp4.\n",
      "MoviePy - Writing audio in %s\n"
     ]
    },
    {
     "name": "stderr",
     "output_type": "stream",
     "text": [
      "t:   9%|▊         | 13/150 [00:00<00:01, 127.08it/s, now=None]    "
     ]
    },
    {
     "name": "stdout",
     "output_type": "stream",
     "text": [
      "MoviePy - Done.\n",
      "Moviepy - Writing video ../data/5s_clips_40000/000204.mp4\n",
      "\n"
     ]
    },
    {
     "name": "stderr",
     "output_type": "stream",
     "text": [
      "chunk:  43%|████▎     | 48/111 [00:00<00:00, 463.69it/s, now=None]"
     ]
    },
    {
     "name": "stdout",
     "output_type": "stream",
     "text": [
      "Moviepy - Done !\n",
      "Moviepy - video ready ../data/5s_clips_40000/000204.mp4\n",
      "Moviepy - Building video ../data/5s_clips_40000/000205.mp4.\n",
      "MoviePy - Writing audio in %s\n"
     ]
    },
    {
     "name": "stderr",
     "output_type": "stream",
     "text": [
      "t:   9%|▉         | 14/150 [00:00<00:01, 133.69it/s, now=None]    "
     ]
    },
    {
     "name": "stdout",
     "output_type": "stream",
     "text": [
      "MoviePy - Done.\n",
      "Moviepy - Writing video ../data/5s_clips_40000/000205.mp4\n",
      "\n"
     ]
    },
    {
     "name": "stderr",
     "output_type": "stream",
     "text": [
      "                                                              \r"
     ]
    },
    {
     "name": "stdout",
     "output_type": "stream",
     "text": [
      "Moviepy - Done !\n",
      "Moviepy - video ready ../data/5s_clips_40000/000205.mp4\n",
      "-DvxsHG1tuo succeed.\n",
      "-DvxsHG1tuo deleted.\n",
      "----- finished ------\n",
      "----- executing ------\n",
      "['-E013cWxoMo', 10, 20]\n"
     ]
    },
    {
     "name": "stderr",
     "output_type": "stream",
     "text": [
      "chunk:  44%|████▍     | 49/111 [00:00<00:00, 488.69it/s, now=None]"
     ]
    },
    {
     "name": "stdout",
     "output_type": "stream",
     "text": [
      "Moviepy - Building video ../data/5s_clips_40000/000206.mp4.\n",
      "MoviePy - Writing audio in %s\n"
     ]
    },
    {
     "name": "stderr",
     "output_type": "stream",
     "text": [
      "t:  40%|████      | 50/125 [00:00<00:00, 494.44it/s, now=None]    "
     ]
    },
    {
     "name": "stdout",
     "output_type": "stream",
     "text": [
      "MoviePy - Done.\n",
      "Moviepy - Writing video ../data/5s_clips_40000/000206.mp4\n",
      "\n"
     ]
    },
    {
     "name": "stderr",
     "output_type": "stream",
     "text": [
      "chunk:  38%|███▊      | 42/111 [00:00<00:00, 415.52it/s, now=None]"
     ]
    },
    {
     "name": "stdout",
     "output_type": "stream",
     "text": [
      "Moviepy - Done !\n",
      "Moviepy - video ready ../data/5s_clips_40000/000206.mp4\n",
      "Moviepy - Building video ../data/5s_clips_40000/000207.mp4.\n",
      "MoviePy - Writing audio in %s\n"
     ]
    },
    {
     "name": "stderr",
     "output_type": "stream",
     "text": [
      "t:  41%|████      | 51/125 [00:00<00:00, 501.32it/s, now=None]    "
     ]
    },
    {
     "name": "stdout",
     "output_type": "stream",
     "text": [
      "MoviePy - Done.\n",
      "Moviepy - Writing video ../data/5s_clips_40000/000207.mp4\n",
      "\n"
     ]
    },
    {
     "name": "stderr",
     "output_type": "stream",
     "text": [
      "                                                              \r"
     ]
    },
    {
     "name": "stdout",
     "output_type": "stream",
     "text": [
      "Moviepy - Done !\n",
      "Moviepy - video ready ../data/5s_clips_40000/000207.mp4\n",
      "-E013cWxoMo succeed.\n",
      "-E013cWxoMo deleted.\n",
      "----- finished ------\n",
      "----- executing ------\n",
      "['-ECK_BisOLM', 20, 30]\n"
     ]
    },
    {
     "name": "stderr",
     "output_type": "stream",
     "text": [
      "chunk:  29%|██▉       | 32/111 [00:00<00:00, 300.43it/s, now=None]"
     ]
    },
    {
     "name": "stdout",
     "output_type": "stream",
     "text": [
      "Moviepy - Building video ../data/5s_clips_40000/000208.mp4.\n",
      "MoviePy - Writing audio in %s\n"
     ]
    },
    {
     "name": "stderr",
     "output_type": "stream",
     "text": [
      "t:  37%|███▋      | 55/150 [00:00<00:00, 541.10it/s, now=None]    "
     ]
    },
    {
     "name": "stdout",
     "output_type": "stream",
     "text": [
      "MoviePy - Done.\n",
      "Moviepy - Writing video ../data/5s_clips_40000/000208.mp4\n",
      "\n"
     ]
    },
    {
     "name": "stderr",
     "output_type": "stream",
     "text": [
      "chunk:  46%|████▌     | 51/111 [00:00<00:00, 500.56it/s, now=None]"
     ]
    },
    {
     "name": "stdout",
     "output_type": "stream",
     "text": [
      "Moviepy - Done !\n",
      "Moviepy - video ready ../data/5s_clips_40000/000208.mp4\n",
      "Moviepy - Building video ../data/5s_clips_40000/000209.mp4.\n",
      "MoviePy - Writing audio in %s\n"
     ]
    },
    {
     "name": "stderr",
     "output_type": "stream",
     "text": [
      "t:  39%|███▉      | 59/150 [00:00<00:00, 580.30it/s, now=None]    "
     ]
    },
    {
     "name": "stdout",
     "output_type": "stream",
     "text": [
      "MoviePy - Done.\n",
      "Moviepy - Writing video ../data/5s_clips_40000/000209.mp4\n",
      "\n"
     ]
    },
    {
     "name": "stderr",
     "output_type": "stream",
     "text": [
      "                                                               \r"
     ]
    },
    {
     "name": "stdout",
     "output_type": "stream",
     "text": [
      "Moviepy - Done !\n",
      "Moviepy - video ready ../data/5s_clips_40000/000209.mp4\n",
      "-ECK_BisOLM succeed.\n",
      "-ECK_BisOLM deleted.\n",
      "----- finished ------\n",
      "----- executing ------\n",
      "['-EDGR1davAc', 40, 50]\n"
     ]
    },
    {
     "name": "stderr",
     "output_type": "stream",
     "text": [
      "chunk:  29%|██▉       | 32/111 [00:00<00:00, 288.47it/s, now=None]"
     ]
    },
    {
     "name": "stdout",
     "output_type": "stream",
     "text": [
      "Moviepy - Building video ../data/5s_clips_40000/000210.mp4.\n",
      "MoviePy - Writing audio in %s\n"
     ]
    },
    {
     "name": "stderr",
     "output_type": "stream",
     "text": [
      "t:  32%|███▏      | 48/150 [00:00<00:00, 474.72it/s, now=None]    "
     ]
    },
    {
     "name": "stdout",
     "output_type": "stream",
     "text": [
      "MoviePy - Done.\n",
      "Moviepy - Writing video ../data/5s_clips_40000/000210.mp4\n",
      "\n"
     ]
    },
    {
     "name": "stderr",
     "output_type": "stream",
     "text": [
      "chunk:  39%|███▊      | 43/111 [00:00<00:00, 414.60it/s, now=None]"
     ]
    },
    {
     "name": "stdout",
     "output_type": "stream",
     "text": [
      "Moviepy - Done !\n",
      "Moviepy - video ready ../data/5s_clips_40000/000210.mp4\n",
      "Moviepy - Building video ../data/5s_clips_40000/000211.mp4.\n",
      "MoviePy - Writing audio in %s\n"
     ]
    },
    {
     "name": "stderr",
     "output_type": "stream",
     "text": [
      "t:  35%|███▍      | 52/150 [00:00<00:00, 513.03it/s, now=None]    "
     ]
    },
    {
     "name": "stdout",
     "output_type": "stream",
     "text": [
      "MoviePy - Done.\n",
      "Moviepy - Writing video ../data/5s_clips_40000/000211.mp4\n",
      "\n"
     ]
    },
    {
     "name": "stderr",
     "output_type": "stream",
     "text": [
      "                                                               \r"
     ]
    },
    {
     "name": "stdout",
     "output_type": "stream",
     "text": [
      "Moviepy - Done !\n",
      "Moviepy - video ready ../data/5s_clips_40000/000211.mp4\n",
      "-EDGR1davAc succeed.\n",
      "-EDGR1davAc deleted.\n",
      "----- finished ------\n",
      "----- executing ------\n",
      "['-EDhb2m8qhk', 30, 40]\n"
     ]
    },
    {
     "name": "stderr",
     "output_type": "stream",
     "text": [
      "chunk:  29%|██▉       | 32/111 [00:00<00:00, 189.57it/s, now=None]"
     ]
    },
    {
     "name": "stdout",
     "output_type": "stream",
     "text": [
      "Moviepy - Building video ../data/5s_clips_40000/000212.mp4.\n",
      "MoviePy - Writing audio in %s\n"
     ]
    },
    {
     "name": "stderr",
     "output_type": "stream",
     "text": [
      "                                                                  \r"
     ]
    },
    {
     "name": "stdout",
     "output_type": "stream",
     "text": [
      "MoviePy - Done.\n",
      "Moviepy - Writing video ../data/5s_clips_40000/000212.mp4\n",
      "\n",
      "Moviepy - Done !\n",
      "Moviepy - video ready ../data/5s_clips_40000/000212.mp4\n",
      "Moviepy - Building video ../data/5s_clips_40000/000213.mp4.\n",
      "MoviePy - Writing audio in %s\n"
     ]
    },
    {
     "name": "stderr",
     "output_type": "stream",
     "text": [
      "                                                                  \r"
     ]
    },
    {
     "name": "stdout",
     "output_type": "stream",
     "text": [
      "MoviePy - Done.\n",
      "Moviepy - Writing video ../data/5s_clips_40000/000213.mp4\n",
      "\n",
      "Moviepy - Done !\n",
      "Moviepy - video ready ../data/5s_clips_40000/000213.mp4\n",
      "-EDhb2m8qhk succeed.\n",
      "-EDhb2m8qhk deleted.\n",
      "----- finished ------\n",
      "----- executing ------\n",
      "['-EFS2mihxs0', 240, 250]\n"
     ]
    },
    {
     "name": "stderr",
     "output_type": "stream",
     "text": [
      "chunk:  31%|███       | 34/111 [00:00<00:00, 332.19it/s, now=None]"
     ]
    },
    {
     "name": "stdout",
     "output_type": "stream",
     "text": [
      "Moviepy - Building video ../data/5s_clips_40000/000214.mp4.\n",
      "MoviePy - Writing audio in %s\n"
     ]
    },
    {
     "name": "stderr",
     "output_type": "stream",
     "text": [
      "t:  31%|███       | 46/150 [00:00<00:00, 459.85it/s, now=None]    "
     ]
    },
    {
     "name": "stdout",
     "output_type": "stream",
     "text": [
      "MoviePy - Done.\n",
      "Moviepy - Writing video ../data/5s_clips_40000/000214.mp4\n",
      "\n"
     ]
    },
    {
     "name": "stderr",
     "output_type": "stream",
     "text": [
      "chunk:  38%|███▊      | 42/111 [00:00<00:00, 405.39it/s, now=None]"
     ]
    },
    {
     "name": "stdout",
     "output_type": "stream",
     "text": [
      "Moviepy - Done !\n",
      "Moviepy - video ready ../data/5s_clips_40000/000214.mp4\n",
      "Moviepy - Building video ../data/5s_clips_40000/000215.mp4.\n",
      "MoviePy - Writing audio in %s\n"
     ]
    },
    {
     "name": "stderr",
     "output_type": "stream",
     "text": [
      "t:  29%|██▉       | 44/150 [00:00<00:00, 434.53it/s, now=None]    "
     ]
    },
    {
     "name": "stdout",
     "output_type": "stream",
     "text": [
      "MoviePy - Done.\n",
      "Moviepy - Writing video ../data/5s_clips_40000/000215.mp4\n",
      "\n"
     ]
    },
    {
     "name": "stderr",
     "output_type": "stream",
     "text": [
      "                                                               \r"
     ]
    },
    {
     "name": "stdout",
     "output_type": "stream",
     "text": [
      "Moviepy - Done !\n",
      "Moviepy - video ready ../data/5s_clips_40000/000215.mp4\n",
      "-EFS2mihxs0 succeed.\n",
      "-EFS2mihxs0 deleted.\n",
      "----- finished ------\n",
      "----- executing ------\n",
      "['-ETHxO8vrAg', 30, 40]\n"
     ]
    },
    {
     "name": "stderr",
     "output_type": "stream",
     "text": [
      "chunk:  31%|███       | 34/111 [00:00<00:00, 338.64it/s, now=None]"
     ]
    },
    {
     "name": "stdout",
     "output_type": "stream",
     "text": [
      "Moviepy - Building video ../data/5s_clips_40000/000216.mp4.\n",
      "MoviePy - Writing audio in %s\n"
     ]
    },
    {
     "name": "stderr",
     "output_type": "stream",
     "text": [
      "                                                                  "
     ]
    },
    {
     "name": "stdout",
     "output_type": "stream",
     "text": [
      "MoviePy - Done.\n",
      "Moviepy - Writing video ../data/5s_clips_40000/000216.mp4\n",
      "\n",
      "Moviepy - Done !\n",
      "Moviepy - video ready ../data/5s_clips_40000/000216.mp4\n",
      "Moviepy - Building video ../data/5s_clips_40000/000217.mp4.\n",
      "MoviePy - Writing audio in %s\n"
     ]
    },
    {
     "name": "stderr",
     "output_type": "stream",
     "text": [
      "                                                                   "
     ]
    },
    {
     "name": "stdout",
     "output_type": "stream",
     "text": [
      "MoviePy - Done.\n",
      "Moviepy - Writing video ../data/5s_clips_40000/000217.mp4\n",
      "\n",
      "Moviepy - Done !\n",
      "Moviepy - video ready ../data/5s_clips_40000/000217.mp4\n",
      "-ETHxO8vrAg succeed.\n",
      "-ETHxO8vrAg deleted.\n",
      "----- finished ------\n",
      "----- executing ------\n",
      "['-ETSfElMyNc', 220, 230]\n"
     ]
    },
    {
     "name": "stderr",
     "output_type": "stream",
     "text": [
      "chunk:  29%|██▉       | 32/111 [00:00<00:00, 308.25it/s, now=None]"
     ]
    },
    {
     "name": "stdout",
     "output_type": "stream",
     "text": [
      "Moviepy - Building video ../data/5s_clips_40000/000218.mp4.\n",
      "MoviePy - Writing audio in %s\n"
     ]
    },
    {
     "name": "stderr",
     "output_type": "stream",
     "text": [
      "t:  44%|████▍     | 66/150 [00:00<00:00, 654.87it/s, now=None]    "
     ]
    },
    {
     "name": "stdout",
     "output_type": "stream",
     "text": [
      "MoviePy - Done.\n",
      "Moviepy - Writing video ../data/5s_clips_40000/000218.mp4\n",
      "\n"
     ]
    },
    {
     "name": "stderr",
     "output_type": "stream",
     "text": [
      "chunk:  36%|███▌      | 40/111 [00:00<00:00, 375.92it/s, now=None]"
     ]
    },
    {
     "name": "stdout",
     "output_type": "stream",
     "text": [
      "Moviepy - Done !\n",
      "Moviepy - video ready ../data/5s_clips_40000/000218.mp4\n",
      "Moviepy - Building video ../data/5s_clips_40000/000219.mp4.\n",
      "MoviePy - Writing audio in %s\n"
     ]
    },
    {
     "name": "stderr",
     "output_type": "stream",
     "text": [
      "t:  41%|████▏     | 62/150 [00:00<00:00, 611.83it/s, now=None]     "
     ]
    },
    {
     "name": "stdout",
     "output_type": "stream",
     "text": [
      "MoviePy - Done.\n",
      "Moviepy - Writing video ../data/5s_clips_40000/000219.mp4\n",
      "\n"
     ]
    },
    {
     "name": "stderr",
     "output_type": "stream",
     "text": [
      "                                                               \r"
     ]
    },
    {
     "name": "stdout",
     "output_type": "stream",
     "text": [
      "Moviepy - Done !\n",
      "Moviepy - video ready ../data/5s_clips_40000/000219.mp4\n",
      "-ETSfElMyNc succeed.\n",
      "-ETSfElMyNc deleted.\n",
      "----- finished ------\n",
      "----- executing ------\n",
      "['-En5nC5Tka4', 30, 40]\n"
     ]
    },
    {
     "name": "stderr",
     "output_type": "stream",
     "text": [
      "chunk:  29%|██▉       | 32/111 [00:00<00:00, 268.78it/s, now=None]"
     ]
    },
    {
     "name": "stdout",
     "output_type": "stream",
     "text": [
      "Moviepy - Building video ../data/5s_clips_40000/000220.mp4.\n",
      "MoviePy - Writing audio in %s\n"
     ]
    },
    {
     "name": "stderr",
     "output_type": "stream",
     "text": [
      "t:  10%|▉         | 12/125 [00:00<00:00, 118.22it/s, now=None]    "
     ]
    },
    {
     "name": "stdout",
     "output_type": "stream",
     "text": [
      "MoviePy - Done.\n",
      "Moviepy - Writing video ../data/5s_clips_40000/000220.mp4\n",
      "\n"
     ]
    },
    {
     "name": "stderr",
     "output_type": "stream",
     "text": [
      "chunk:  43%|████▎     | 48/111 [00:00<00:00, 462.06it/s, now=None]"
     ]
    },
    {
     "name": "stdout",
     "output_type": "stream",
     "text": [
      "Moviepy - Done !\n",
      "Moviepy - video ready ../data/5s_clips_40000/000220.mp4\n",
      "Moviepy - Building video ../data/5s_clips_40000/000221.mp4.\n",
      "MoviePy - Writing audio in %s\n"
     ]
    },
    {
     "name": "stderr",
     "output_type": "stream",
     "text": [
      "t:  10%|█         | 13/125 [00:00<00:00, 125.81it/s, now=None]    "
     ]
    },
    {
     "name": "stdout",
     "output_type": "stream",
     "text": [
      "MoviePy - Done.\n",
      "Moviepy - Writing video ../data/5s_clips_40000/000221.mp4\n",
      "\n"
     ]
    },
    {
     "name": "stderr",
     "output_type": "stream",
     "text": [
      "                                                              \r"
     ]
    },
    {
     "name": "stdout",
     "output_type": "stream",
     "text": [
      "Moviepy - Done !\n",
      "Moviepy - video ready ../data/5s_clips_40000/000221.mp4\n",
      "-En5nC5Tka4 succeed.\n",
      "-En5nC5Tka4 deleted.\n",
      "----- finished ------\n",
      "----- executing ------\n",
      "['-F8ZP9sXcKM', 5, 15]\n"
     ]
    },
    {
     "name": "stderr",
     "output_type": "stream",
     "text": [
      "chunk:  38%|███▊      | 42/111 [00:00<00:00, 400.96it/s, now=None]"
     ]
    },
    {
     "name": "stdout",
     "output_type": "stream",
     "text": [
      "Moviepy - Building video ../data/5s_clips_40000/000222.mp4.\n",
      "MoviePy - Writing audio in %s\n"
     ]
    },
    {
     "name": "stderr",
     "output_type": "stream",
     "text": [
      "chunk:   0%|          | 0/111 [00:00<?, ?it/s, now=None]          "
     ]
    },
    {
     "name": "stdout",
     "output_type": "stream",
     "text": [
      "MoviePy - Done.\n",
      "Moviepy - Writing video ../data/5s_clips_40000/000222.mp4\n",
      "\n",
      "Moviepy - Done !\n",
      "Moviepy - video ready ../data/5s_clips_40000/000222.mp4\n",
      "Moviepy - Building video ../data/5s_clips_40000/000223.mp4.\n",
      "MoviePy - Writing audio in %s\n"
     ]
    },
    {
     "name": "stderr",
     "output_type": "stream",
     "text": [
      "                                                                  \r"
     ]
    },
    {
     "name": "stdout",
     "output_type": "stream",
     "text": [
      "-F8ZP9sXcKM failed.\n",
      "-F8ZP9sXcKM deleted.\n",
      "----- finished ------\n",
      "----- executing ------\n",
      "['-FEPOSP7ay0', 260, 270]\n"
     ]
    },
    {
     "name": "stderr",
     "output_type": "stream",
     "text": [
      "chunk:  29%|██▉       | 32/111 [00:00<00:00, 237.01it/s, now=None]"
     ]
    },
    {
     "name": "stdout",
     "output_type": "stream",
     "text": [
      "Moviepy - Building video ../data/5s_clips_40000/000222.mp4.\n",
      "MoviePy - Writing audio in %s\n"
     ]
    },
    {
     "name": "stderr",
     "output_type": "stream",
     "text": [
      "t:   8%|▊         | 12/150 [00:00<00:01, 118.88it/s, now=None]    "
     ]
    },
    {
     "name": "stdout",
     "output_type": "stream",
     "text": [
      "MoviePy - Done.\n",
      "Moviepy - Writing video ../data/5s_clips_40000/000222.mp4\n",
      "\n"
     ]
    },
    {
     "name": "stderr",
     "output_type": "stream",
     "text": [
      "chunk:  31%|███       | 34/111 [00:00<00:00, 318.26it/s, now=None]"
     ]
    },
    {
     "name": "stdout",
     "output_type": "stream",
     "text": [
      "Moviepy - Done !\n",
      "Moviepy - video ready ../data/5s_clips_40000/000222.mp4\n",
      "Moviepy - Building video ../data/5s_clips_40000/000223.mp4.\n",
      "MoviePy - Writing audio in %s\n"
     ]
    },
    {
     "name": "stderr",
     "output_type": "stream",
     "text": [
      "t:   9%|▉         | 14/150 [00:00<00:01, 121.29it/s, now=None]    "
     ]
    },
    {
     "name": "stdout",
     "output_type": "stream",
     "text": [
      "MoviePy - Done.\n",
      "Moviepy - Writing video ../data/5s_clips_40000/000223.mp4\n",
      "\n"
     ]
    },
    {
     "name": "stderr",
     "output_type": "stream",
     "text": [
      "                                                              \r"
     ]
    },
    {
     "name": "stdout",
     "output_type": "stream",
     "text": [
      "Moviepy - Done !\n",
      "Moviepy - video ready ../data/5s_clips_40000/000223.mp4\n",
      "-FEPOSP7ay0 succeed.\n",
      "-FEPOSP7ay0 deleted.\n",
      "----- finished ------\n",
      "----- executing ------\n",
      "['-FFx68qSAuY', 190, 200]\n"
     ]
    },
    {
     "name": "stderr",
     "output_type": "stream",
     "text": [
      "chunk:  29%|██▉       | 32/111 [00:00<00:00, 258.19it/s, now=None]"
     ]
    },
    {
     "name": "stdout",
     "output_type": "stream",
     "text": [
      "Moviepy - Building video ../data/5s_clips_40000/000224.mp4.\n",
      "MoviePy - Writing audio in %s\n"
     ]
    },
    {
     "name": "stderr",
     "output_type": "stream",
     "text": [
      "                                                                  "
     ]
    },
    {
     "name": "stdout",
     "output_type": "stream",
     "text": [
      "MoviePy - Done.\n",
      "Moviepy - Writing video ../data/5s_clips_40000/000224.mp4\n",
      "\n"
     ]
    },
    {
     "name": "stderr",
     "output_type": "stream",
     "text": [
      "chunk:  31%|███       | 34/111 [00:00<00:00, 314.07it/s, now=None]"
     ]
    },
    {
     "name": "stdout",
     "output_type": "stream",
     "text": [
      "Moviepy - Done !\n",
      "Moviepy - video ready ../data/5s_clips_40000/000224.mp4\n",
      "Moviepy - Building video ../data/5s_clips_40000/000225.mp4.\n",
      "MoviePy - Writing audio in %s\n"
     ]
    },
    {
     "name": "stderr",
     "output_type": "stream",
     "text": [
      "                                                                  "
     ]
    },
    {
     "name": "stdout",
     "output_type": "stream",
     "text": [
      "MoviePy - Done.\n",
      "Moviepy - Writing video ../data/5s_clips_40000/000225.mp4\n",
      "\n"
     ]
    },
    {
     "name": "stderr",
     "output_type": "stream",
     "text": [
      "\r"
     ]
    },
    {
     "name": "stdout",
     "output_type": "stream",
     "text": [
      "Moviepy - Done !\n",
      "Moviepy - video ready ../data/5s_clips_40000/000225.mp4\n",
      "-FFx68qSAuY succeed.\n",
      "-FFx68qSAuY deleted.\n",
      "----- finished ------\n",
      "----- executing ------\n",
      "['-FT5MbWPCzg', 540, 550]\n"
     ]
    },
    {
     "name": "stderr",
     "output_type": "stream",
     "text": [
      "chunk:  29%|██▉       | 32/111 [00:00<00:00, 216.03it/s, now=None]"
     ]
    },
    {
     "name": "stdout",
     "output_type": "stream",
     "text": [
      "Moviepy - Building video ../data/5s_clips_40000/000226.mp4.\n",
      "MoviePy - Writing audio in %s\n"
     ]
    },
    {
     "name": "stderr",
     "output_type": "stream",
     "text": [
      "t:   7%|▋         | 11/150 [00:00<00:01, 96.53it/s, now=None]     "
     ]
    },
    {
     "name": "stdout",
     "output_type": "stream",
     "text": [
      "MoviePy - Done.\n",
      "Moviepy - Writing video ../data/5s_clips_40000/000226.mp4\n",
      "\n"
     ]
    },
    {
     "name": "stderr",
     "output_type": "stream",
     "text": [
      "chunk:  29%|██▉       | 32/111 [00:00<00:00, 270.48it/s, now=None]"
     ]
    },
    {
     "name": "stdout",
     "output_type": "stream",
     "text": [
      "Moviepy - Done !\n",
      "Moviepy - video ready ../data/5s_clips_40000/000226.mp4\n",
      "Moviepy - Building video ../data/5s_clips_40000/000227.mp4.\n",
      "MoviePy - Writing audio in %s\n"
     ]
    },
    {
     "name": "stderr",
     "output_type": "stream",
     "text": [
      "t:   6%|▌         | 9/150 [00:00<00:01, 78.43it/s, now=None]       "
     ]
    },
    {
     "name": "stdout",
     "output_type": "stream",
     "text": [
      "MoviePy - Done.\n",
      "Moviepy - Writing video ../data/5s_clips_40000/000227.mp4\n",
      "\n"
     ]
    },
    {
     "name": "stderr",
     "output_type": "stream",
     "text": [
      "                                                              \r"
     ]
    },
    {
     "name": "stdout",
     "output_type": "stream",
     "text": [
      "Moviepy - Done !\n",
      "Moviepy - video ready ../data/5s_clips_40000/000227.mp4\n",
      "-FT5MbWPCzg succeed.\n",
      "-FT5MbWPCzg deleted.\n",
      "----- finished ------\n",
      "----- executing ------\n",
      "['-FVBrg2qeIA', 90, 100]\n"
     ]
    },
    {
     "name": "stderr",
     "output_type": "stream",
     "text": [
      "chunk:  29%|██▉       | 32/111 [00:00<00:00, 315.85it/s, now=None]"
     ]
    },
    {
     "name": "stdout",
     "output_type": "stream",
     "text": [
      "Moviepy - Building video ../data/5s_clips_40000/000228.mp4.\n",
      "MoviePy - Writing audio in %s\n"
     ]
    },
    {
     "name": "stderr",
     "output_type": "stream",
     "text": [
      "t:  30%|███       | 38/125 [00:00<00:00, 376.26it/s, now=None]    "
     ]
    },
    {
     "name": "stdout",
     "output_type": "stream",
     "text": [
      "MoviePy - Done.\n",
      "Moviepy - Writing video ../data/5s_clips_40000/000228.mp4\n",
      "\n"
     ]
    },
    {
     "name": "stderr",
     "output_type": "stream",
     "text": [
      "chunk:  47%|████▋     | 52/111 [00:00<00:00, 517.89it/s, now=None]"
     ]
    },
    {
     "name": "stdout",
     "output_type": "stream",
     "text": [
      "Moviepy - Done !\n",
      "Moviepy - video ready ../data/5s_clips_40000/000228.mp4\n",
      "Moviepy - Building video ../data/5s_clips_40000/000229.mp4.\n",
      "MoviePy - Writing audio in %s\n"
     ]
    },
    {
     "name": "stderr",
     "output_type": "stream",
     "text": [
      "t:  28%|██▊       | 35/125 [00:00<00:00, 343.76it/s, now=None]     "
     ]
    },
    {
     "name": "stdout",
     "output_type": "stream",
     "text": [
      "MoviePy - Done.\n",
      "Moviepy - Writing video ../data/5s_clips_40000/000229.mp4\n",
      "\n"
     ]
    },
    {
     "name": "stderr",
     "output_type": "stream",
     "text": [
      "                                                               \r"
     ]
    },
    {
     "name": "stdout",
     "output_type": "stream",
     "text": [
      "Moviepy - Done !\n",
      "Moviepy - video ready ../data/5s_clips_40000/000229.mp4\n",
      "-FVBrg2qeIA succeed.\n",
      "-FVBrg2qeIA deleted.\n",
      "----- finished ------\n",
      "----- executing ------\n",
      "['-FYyJ2sAWk4', 200, 210]\n"
     ]
    },
    {
     "name": "stderr",
     "output_type": "stream",
     "text": [
      "chunk:  29%|██▉       | 32/111 [00:00<00:00, 319.39it/s, now=None]"
     ]
    },
    {
     "name": "stdout",
     "output_type": "stream",
     "text": [
      "Moviepy - Building video ../data/5s_clips_40000/000230.mp4.\n",
      "MoviePy - Writing audio in %s\n"
     ]
    },
    {
     "name": "stderr",
     "output_type": "stream",
     "text": [
      "                                                                  "
     ]
    },
    {
     "name": "stdout",
     "output_type": "stream",
     "text": [
      "MoviePy - Done.\n",
      "Moviepy - Writing video ../data/5s_clips_40000/000230.mp4\n",
      "\n"
     ]
    },
    {
     "name": "stderr",
     "output_type": "stream",
     "text": [
      "chunk:  45%|████▌     | 50/111 [00:00<00:00, 483.33it/s, now=None]"
     ]
    },
    {
     "name": "stdout",
     "output_type": "stream",
     "text": [
      "Moviepy - Done !\n",
      "Moviepy - video ready ../data/5s_clips_40000/000230.mp4\n",
      "Moviepy - Building video ../data/5s_clips_40000/000231.mp4.\n",
      "MoviePy - Writing audio in %s\n"
     ]
    },
    {
     "name": "stderr",
     "output_type": "stream",
     "text": [
      "t:  53%|█████▎    | 79/150 [00:00<00:00, 782.32it/s, now=None]    "
     ]
    },
    {
     "name": "stdout",
     "output_type": "stream",
     "text": [
      "MoviePy - Done.\n",
      "Moviepy - Writing video ../data/5s_clips_40000/000231.mp4\n",
      "\n"
     ]
    },
    {
     "name": "stderr",
     "output_type": "stream",
     "text": [
      "                                                              \r"
     ]
    },
    {
     "name": "stdout",
     "output_type": "stream",
     "text": [
      "Moviepy - Done !\n",
      "Moviepy - video ready ../data/5s_clips_40000/000231.mp4\n",
      "-FYyJ2sAWk4 succeed.\n",
      "-FYyJ2sAWk4 deleted.\n",
      "----- finished ------\n",
      "----- executing ------\n",
      "['-Fby-7z_JpE', 0, 8]\n"
     ]
    },
    {
     "name": "stderr",
     "output_type": "stream",
     "text": [
      "chunk:  29%|██▉       | 32/111 [00:00<00:00, 281.38it/s, now=None]"
     ]
    },
    {
     "name": "stdout",
     "output_type": "stream",
     "text": [
      "Moviepy - Building video ../data/5s_clips_40000/000232.mp4.\n",
      "MoviePy - Writing audio in %s\n"
     ]
    },
    {
     "name": "stderr",
     "output_type": "stream",
     "text": [
      "t:  10%|█         | 15/149 [00:00<00:00, 144.55it/s, now=None]     "
     ]
    },
    {
     "name": "stdout",
     "output_type": "stream",
     "text": [
      "MoviePy - Done.\n",
      "Moviepy - Writing video ../data/5s_clips_40000/000232.mp4\n",
      "\n"
     ]
    },
    {
     "name": "stderr",
     "output_type": "stream",
     "text": [
      "                                                              \r"
     ]
    },
    {
     "name": "stdout",
     "output_type": "stream",
     "text": [
      "Moviepy - Done !\n",
      "Moviepy - video ready ../data/5s_clips_40000/000232.mp4\n",
      "-Fby-7z_JpE succeed.\n",
      "-Fby-7z_JpE deleted.\n",
      "----- finished ------\n",
      "----- executing ------\n",
      "['-FlvaZQOr2I', 90, 100]\n"
     ]
    },
    {
     "name": "stderr",
     "output_type": "stream",
     "text": [
      "chunk:  29%|██▉       | 32/111 [00:00<00:00, 240.59it/s, now=None]"
     ]
    },
    {
     "name": "stdout",
     "output_type": "stream",
     "text": [
      "Moviepy - Building video ../data/5s_clips_40000/000233.mp4.\n",
      "MoviePy - Writing audio in %s\n"
     ]
    },
    {
     "name": "stderr",
     "output_type": "stream",
     "text": [
      "t:  15%|█▍        | 11/75 [00:00<00:00, 104.03it/s, now=None]      "
     ]
    },
    {
     "name": "stdout",
     "output_type": "stream",
     "text": [
      "MoviePy - Done.\n",
      "Moviepy - Writing video ../data/5s_clips_40000/000233.mp4\n",
      "\n"
     ]
    },
    {
     "name": "stderr",
     "output_type": "stream",
     "text": [
      "chunk:  46%|████▌     | 51/111 [00:00<00:00, 507.48it/s, now=None]"
     ]
    },
    {
     "name": "stdout",
     "output_type": "stream",
     "text": [
      "Moviepy - Done !\n",
      "Moviepy - video ready ../data/5s_clips_40000/000233.mp4\n",
      "Moviepy - Building video ../data/5s_clips_40000/000234.mp4.\n",
      "MoviePy - Writing audio in %s\n"
     ]
    },
    {
     "name": "stderr",
     "output_type": "stream",
     "text": [
      "t:  19%|█▊        | 14/75 [00:00<00:00, 132.23it/s, now=None]     "
     ]
    },
    {
     "name": "stdout",
     "output_type": "stream",
     "text": [
      "MoviePy - Done.\n",
      "Moviepy - Writing video ../data/5s_clips_40000/000234.mp4\n",
      "\n"
     ]
    },
    {
     "name": "stderr",
     "output_type": "stream",
     "text": [
      "                                                             \r"
     ]
    },
    {
     "name": "stdout",
     "output_type": "stream",
     "text": [
      "Moviepy - Done !\n",
      "Moviepy - video ready ../data/5s_clips_40000/000234.mp4\n",
      "-FlvaZQOr2I succeed.\n",
      "-FlvaZQOr2I deleted.\n",
      "----- finished ------\n",
      "----- executing ------\n",
      "['-Fn3Ze8xVOE', 210, 220]\n"
     ]
    },
    {
     "name": "stderr",
     "output_type": "stream",
     "text": [
      "chunk:  29%|██▉       | 32/111 [00:00<00:00, 215.89it/s, now=None]"
     ]
    },
    {
     "name": "stdout",
     "output_type": "stream",
     "text": [
      "Moviepy - Building video ../data/5s_clips_40000/000235.mp4.\n",
      "MoviePy - Writing audio in %s\n"
     ]
    },
    {
     "name": "stderr",
     "output_type": "stream",
     "text": [
      "t:  29%|██▊       | 43/150 [00:00<00:00, 428.34it/s, now=None]     "
     ]
    },
    {
     "name": "stdout",
     "output_type": "stream",
     "text": [
      "MoviePy - Done.\n",
      "Moviepy - Writing video ../data/5s_clips_40000/000235.mp4\n",
      "\n"
     ]
    },
    {
     "name": "stderr",
     "output_type": "stream",
     "text": [
      "chunk:  32%|███▏      | 36/111 [00:00<00:00, 345.72it/s, now=None]"
     ]
    },
    {
     "name": "stdout",
     "output_type": "stream",
     "text": [
      "Moviepy - Done !\n",
      "Moviepy - video ready ../data/5s_clips_40000/000235.mp4\n",
      "Moviepy - Building video ../data/5s_clips_40000/000236.mp4.\n",
      "MoviePy - Writing audio in %s\n"
     ]
    },
    {
     "name": "stderr",
     "output_type": "stream",
     "text": [
      "t:  33%|███▎      | 50/150 [00:00<00:00, 490.54it/s, now=None]     "
     ]
    },
    {
     "name": "stdout",
     "output_type": "stream",
     "text": [
      "MoviePy - Done.\n",
      "Moviepy - Writing video ../data/5s_clips_40000/000236.mp4\n",
      "\n"
     ]
    },
    {
     "name": "stderr",
     "output_type": "stream",
     "text": [
      "                                                               \r"
     ]
    },
    {
     "name": "stdout",
     "output_type": "stream",
     "text": [
      "Moviepy - Done !\n",
      "Moviepy - video ready ../data/5s_clips_40000/000236.mp4\n",
      "-Fn3Ze8xVOE succeed.\n",
      "-Fn3Ze8xVOE deleted.\n",
      "----- finished ------\n",
      "----- executing ------\n",
      "['-G3Ph35cTy0', 30, 40]\n"
     ]
    },
    {
     "name": "stderr",
     "output_type": "stream",
     "text": [
      "chunk:  29%|██▉       | 32/111 [00:00<00:00, 257.94it/s, now=None]"
     ]
    },
    {
     "name": "stdout",
     "output_type": "stream",
     "text": [
      "Moviepy - Building video ../data/5s_clips_40000/000237.mp4.\n",
      "MoviePy - Writing audio in %s\n"
     ]
    },
    {
     "name": "stderr",
     "output_type": "stream",
     "text": [
      "t:  23%|██▎       | 35/150 [00:00<00:00, 346.57it/s, now=None]    "
     ]
    },
    {
     "name": "stdout",
     "output_type": "stream",
     "text": [
      "MoviePy - Done.\n",
      "Moviepy - Writing video ../data/5s_clips_40000/000237.mp4\n",
      "\n"
     ]
    },
    {
     "name": "stderr",
     "output_type": "stream",
     "text": [
      "chunk:  47%|████▋     | 52/111 [00:00<00:00, 514.40it/s, now=None]"
     ]
    },
    {
     "name": "stdout",
     "output_type": "stream",
     "text": [
      "Moviepy - Done !\n",
      "Moviepy - video ready ../data/5s_clips_40000/000237.mp4\n",
      "Moviepy - Building video ../data/5s_clips_40000/000238.mp4.\n",
      "MoviePy - Writing audio in %s\n"
     ]
    },
    {
     "name": "stderr",
     "output_type": "stream",
     "text": [
      "t:  27%|██▋       | 41/150 [00:00<00:00, 405.08it/s, now=None]     "
     ]
    },
    {
     "name": "stdout",
     "output_type": "stream",
     "text": [
      "MoviePy - Done.\n",
      "Moviepy - Writing video ../data/5s_clips_40000/000238.mp4\n",
      "\n"
     ]
    },
    {
     "name": "stderr",
     "output_type": "stream",
     "text": [
      "                                                               \r"
     ]
    },
    {
     "name": "stdout",
     "output_type": "stream",
     "text": [
      "Moviepy - Done !\n",
      "Moviepy - video ready ../data/5s_clips_40000/000238.mp4\n",
      "-G3Ph35cTy0 succeed.\n",
      "-G3Ph35cTy0 deleted.\n",
      "----- finished ------\n",
      "----- executing ------\n",
      "['-GDC7PuqdOM', 30, 40]\n"
     ]
    },
    {
     "name": "stderr",
     "output_type": "stream",
     "text": [
      "chunk:  29%|██▉       | 32/111 [00:00<00:00, 295.95it/s, now=None]"
     ]
    },
    {
     "name": "stdout",
     "output_type": "stream",
     "text": [
      "Moviepy - Building video ../data/5s_clips_40000/000239.mp4.\n",
      "MoviePy - Writing audio in %s\n"
     ]
    },
    {
     "name": "stderr",
     "output_type": "stream",
     "text": [
      "t:  44%|████▍     | 55/124 [00:00<00:00, 546.13it/s, now=None]    "
     ]
    },
    {
     "name": "stdout",
     "output_type": "stream",
     "text": [
      "MoviePy - Done.\n",
      "Moviepy - Writing video ../data/5s_clips_40000/000239.mp4\n",
      "\n"
     ]
    },
    {
     "name": "stderr",
     "output_type": "stream",
     "text": [
      "chunk:  41%|████      | 45/111 [00:00<00:00, 449.80it/s, now=None]"
     ]
    },
    {
     "name": "stdout",
     "output_type": "stream",
     "text": [
      "Moviepy - Done !\n",
      "Moviepy - video ready ../data/5s_clips_40000/000239.mp4\n",
      "Moviepy - Building video ../data/5s_clips_40000/000240.mp4.\n",
      "MoviePy - Writing audio in %s\n"
     ]
    },
    {
     "name": "stderr",
     "output_type": "stream",
     "text": [
      "t:  38%|███▊      | 47/124 [00:00<00:00, 469.28it/s, now=None]    "
     ]
    },
    {
     "name": "stdout",
     "output_type": "stream",
     "text": [
      "MoviePy - Done.\n",
      "Moviepy - Writing video ../data/5s_clips_40000/000240.mp4\n",
      "\n"
     ]
    },
    {
     "name": "stderr",
     "output_type": "stream",
     "text": [
      "                                                              \r"
     ]
    },
    {
     "name": "stdout",
     "output_type": "stream",
     "text": [
      "Moviepy - Done !\n",
      "Moviepy - video ready ../data/5s_clips_40000/000240.mp4\n",
      "-GDC7PuqdOM succeed.\n",
      "-GDC7PuqdOM deleted.\n",
      "----- finished ------\n",
      "----- executing ------\n",
      "['-GI5PbO6j50', 30, 40]\n"
     ]
    },
    {
     "name": "stderr",
     "output_type": "stream",
     "text": [
      "chunk:  29%|██▉       | 32/111 [00:00<00:00, 245.83it/s, now=None]"
     ]
    },
    {
     "name": "stdout",
     "output_type": "stream",
     "text": [
      "Moviepy - Building video ../data/5s_clips_40000/000241.mp4.\n",
      "MoviePy - Writing audio in %s\n"
     ]
    },
    {
     "name": "stderr",
     "output_type": "stream",
     "text": [
      "t:  42%|████▏     | 52/125 [00:00<00:00, 516.60it/s, now=None]     "
     ]
    },
    {
     "name": "stdout",
     "output_type": "stream",
     "text": [
      "MoviePy - Done.\n",
      "Moviepy - Writing video ../data/5s_clips_40000/000241.mp4\n",
      "\n"
     ]
    },
    {
     "name": "stderr",
     "output_type": "stream",
     "text": [
      "chunk:  31%|███       | 34/111 [00:00<00:00, 326.97it/s, now=None]"
     ]
    },
    {
     "name": "stdout",
     "output_type": "stream",
     "text": [
      "Moviepy - Done !\n",
      "Moviepy - video ready ../data/5s_clips_40000/000241.mp4\n",
      "Moviepy - Building video ../data/5s_clips_40000/000242.mp4.\n",
      "MoviePy - Writing audio in %s\n"
     ]
    },
    {
     "name": "stderr",
     "output_type": "stream",
     "text": [
      "                                                                  \r"
     ]
    },
    {
     "name": "stdout",
     "output_type": "stream",
     "text": [
      "MoviePy - Done.\n",
      "Moviepy - Writing video ../data/5s_clips_40000/000242.mp4\n",
      "\n",
      "Moviepy - Done !\n",
      "Moviepy - video ready ../data/5s_clips_40000/000242.mp4\n",
      "-GI5PbO6j50 succeed.\n",
      "-GI5PbO6j50 deleted.\n",
      "----- finished ------\n",
      "----- executing ------\n",
      "['-GREE8GdRrc', 30, 40]\n"
     ]
    },
    {
     "name": "stderr",
     "output_type": "stream",
     "text": [
      "chunk:  29%|██▉       | 32/111 [00:00<00:00, 255.36it/s, now=None]"
     ]
    },
    {
     "name": "stdout",
     "output_type": "stream",
     "text": [
      "Moviepy - Building video ../data/5s_clips_40000/000243.mp4.\n",
      "MoviePy - Writing audio in %s\n"
     ]
    },
    {
     "name": "stderr",
     "output_type": "stream",
     "text": [
      "t:  45%|████▍     | 67/150 [00:00<00:00, 666.34it/s, now=None]    "
     ]
    },
    {
     "name": "stdout",
     "output_type": "stream",
     "text": [
      "MoviePy - Done.\n",
      "Moviepy - Writing video ../data/5s_clips_40000/000243.mp4\n",
      "\n"
     ]
    },
    {
     "name": "stderr",
     "output_type": "stream",
     "text": [
      "chunk:  34%|███▍      | 38/111 [00:00<00:00, 368.99it/s, now=None]"
     ]
    },
    {
     "name": "stdout",
     "output_type": "stream",
     "text": [
      "Moviepy - Done !\n",
      "Moviepy - video ready ../data/5s_clips_40000/000243.mp4\n",
      "Moviepy - Building video ../data/5s_clips_40000/000244.mp4.\n",
      "MoviePy - Writing audio in %s\n"
     ]
    },
    {
     "name": "stderr",
     "output_type": "stream",
     "text": [
      "t:  39%|███▉      | 59/150 [00:00<00:00, 576.93it/s, now=None]     "
     ]
    },
    {
     "name": "stdout",
     "output_type": "stream",
     "text": [
      "MoviePy - Done.\n",
      "Moviepy - Writing video ../data/5s_clips_40000/000244.mp4\n",
      "\n"
     ]
    },
    {
     "name": "stderr",
     "output_type": "stream",
     "text": [
      "                                                               \r"
     ]
    },
    {
     "name": "stdout",
     "output_type": "stream",
     "text": [
      "Moviepy - Done !\n",
      "Moviepy - video ready ../data/5s_clips_40000/000244.mp4\n",
      "-GREE8GdRrc succeed.\n",
      "-GREE8GdRrc deleted.\n",
      "----- finished ------\n",
      "----- executing ------\n",
      "['-G_hnfp4a0M', 30, 40]\n"
     ]
    },
    {
     "name": "stderr",
     "output_type": "stream",
     "text": [
      "chunk:  31%|███       | 34/111 [00:00<00:00, 338.33it/s, now=None]"
     ]
    },
    {
     "name": "stdout",
     "output_type": "stream",
     "text": [
      "Moviepy - Building video ../data/5s_clips_40000/000245.mp4.\n",
      "MoviePy - Writing audio in %s\n"
     ]
    },
    {
     "name": "stderr",
     "output_type": "stream",
     "text": [
      "t:  31%|███▏      | 47/150 [00:00<00:00, 459.89it/s, now=None]    "
     ]
    },
    {
     "name": "stdout",
     "output_type": "stream",
     "text": [
      "MoviePy - Done.\n",
      "Moviepy - Writing video ../data/5s_clips_40000/000245.mp4\n",
      "\n"
     ]
    },
    {
     "name": "stderr",
     "output_type": "stream",
     "text": [
      "chunk:  50%|████▉     | 55/111 [00:00<00:00, 548.36it/s, now=None]"
     ]
    },
    {
     "name": "stdout",
     "output_type": "stream",
     "text": [
      "Moviepy - Done !\n",
      "Moviepy - video ready ../data/5s_clips_40000/000245.mp4\n",
      "Moviepy - Building video ../data/5s_clips_40000/000246.mp4.\n",
      "MoviePy - Writing audio in %s\n"
     ]
    },
    {
     "name": "stderr",
     "output_type": "stream",
     "text": [
      "t:  37%|███▋      | 55/150 [00:00<00:00, 544.95it/s, now=None]     "
     ]
    },
    {
     "name": "stdout",
     "output_type": "stream",
     "text": [
      "MoviePy - Done.\n",
      "Moviepy - Writing video ../data/5s_clips_40000/000246.mp4\n",
      "\n"
     ]
    },
    {
     "name": "stderr",
     "output_type": "stream",
     "text": [
      "                                                               \r"
     ]
    },
    {
     "name": "stdout",
     "output_type": "stream",
     "text": [
      "Moviepy - Done !\n",
      "Moviepy - video ready ../data/5s_clips_40000/000246.mp4\n",
      "-G_hnfp4a0M succeed.\n",
      "-G_hnfp4a0M deleted.\n",
      "----- finished ------\n",
      "----- executing ------\n",
      "['-GaHBgRGi4s', 10, 20]\n"
     ]
    },
    {
     "name": "stderr",
     "output_type": "stream",
     "text": [
      "chunk:  34%|███▍      | 38/111 [00:00<00:00, 375.13it/s, now=None]"
     ]
    },
    {
     "name": "stdout",
     "output_type": "stream",
     "text": [
      "Moviepy - Building video ../data/5s_clips_40000/000247.mp4.\n",
      "MoviePy - Writing audio in %s\n"
     ]
    },
    {
     "name": "stderr",
     "output_type": "stream",
     "text": [
      "t:  30%|██▉       | 37/125 [00:00<00:00, 358.26it/s, now=None]    "
     ]
    },
    {
     "name": "stdout",
     "output_type": "stream",
     "text": [
      "MoviePy - Done.\n",
      "Moviepy - Writing video ../data/5s_clips_40000/000247.mp4\n",
      "\n"
     ]
    },
    {
     "name": "stderr",
     "output_type": "stream",
     "text": [
      "chunk:  35%|███▌      | 39/111 [00:00<00:00, 388.59it/s, now=None]"
     ]
    },
    {
     "name": "stdout",
     "output_type": "stream",
     "text": [
      "Moviepy - Done !\n",
      "Moviepy - video ready ../data/5s_clips_40000/000247.mp4\n",
      "Moviepy - Building video ../data/5s_clips_40000/000248.mp4.\n",
      "MoviePy - Writing audio in %s\n"
     ]
    },
    {
     "name": "stderr",
     "output_type": "stream",
     "text": [
      "t:  29%|██▉       | 36/125 [00:00<00:00, 358.49it/s, now=None]    "
     ]
    },
    {
     "name": "stdout",
     "output_type": "stream",
     "text": [
      "MoviePy - Done.\n",
      "Moviepy - Writing video ../data/5s_clips_40000/000248.mp4\n",
      "\n"
     ]
    },
    {
     "name": "stderr",
     "output_type": "stream",
     "text": [
      "                                                               \r"
     ]
    },
    {
     "name": "stdout",
     "output_type": "stream",
     "text": [
      "Moviepy - Done !\n",
      "Moviepy - video ready ../data/5s_clips_40000/000248.mp4\n",
      "-GaHBgRGi4s succeed.\n",
      "-GaHBgRGi4s deleted.\n",
      "----- finished ------\n",
      "----- executing ------\n",
      "['-GbQWmFzVdY', 60, 70]\n"
     ]
    },
    {
     "name": "stderr",
     "output_type": "stream",
     "text": [
      "chunk:  29%|██▉       | 32/111 [00:00<00:00, 268.12it/s, now=None]"
     ]
    },
    {
     "name": "stdout",
     "output_type": "stream",
     "text": [
      "Moviepy - Building video ../data/5s_clips_40000/000249.mp4.\n",
      "MoviePy - Writing audio in %s\n"
     ]
    },
    {
     "name": "stderr",
     "output_type": "stream",
     "text": [
      "t:  10%|▉         | 12/125 [00:00<00:00, 116.40it/s, now=None]    "
     ]
    },
    {
     "name": "stdout",
     "output_type": "stream",
     "text": [
      "MoviePy - Done.\n",
      "Moviepy - Writing video ../data/5s_clips_40000/000249.mp4\n",
      "\n"
     ]
    },
    {
     "name": "stderr",
     "output_type": "stream",
     "text": [
      "chunk:  39%|███▊      | 43/111 [00:00<00:00, 403.75it/s, now=None]"
     ]
    },
    {
     "name": "stdout",
     "output_type": "stream",
     "text": [
      "Moviepy - Done !\n",
      "Moviepy - video ready ../data/5s_clips_40000/000249.mp4\n",
      "Moviepy - Building video ../data/5s_clips_40000/000250.mp4.\n",
      "MoviePy - Writing audio in %s\n"
     ]
    },
    {
     "name": "stderr",
     "output_type": "stream",
     "text": [
      "t:   8%|▊         | 10/125 [00:00<00:01, 93.48it/s, now=None]     "
     ]
    },
    {
     "name": "stdout",
     "output_type": "stream",
     "text": [
      "MoviePy - Done.\n",
      "Moviepy - Writing video ../data/5s_clips_40000/000250.mp4\n",
      "\n"
     ]
    },
    {
     "name": "stderr",
     "output_type": "stream",
     "text": [
      "                                                              \r"
     ]
    },
    {
     "name": "stdout",
     "output_type": "stream",
     "text": [
      "Moviepy - Done !\n",
      "Moviepy - video ready ../data/5s_clips_40000/000250.mp4\n",
      "-GbQWmFzVdY succeed.\n",
      "-GbQWmFzVdY deleted.\n",
      "----- finished ------\n",
      "----- executing ------\n",
      "['-GiRtQZlnbw', 280, 290]\n"
     ]
    },
    {
     "name": "stderr",
     "output_type": "stream",
     "text": [
      "chunk:  38%|███▊      | 42/111 [00:00<00:00, 414.98it/s, now=None]"
     ]
    },
    {
     "name": "stdout",
     "output_type": "stream",
     "text": [
      "Moviepy - Building video ../data/5s_clips_40000/000251.mp4.\n",
      "MoviePy - Writing audio in %s\n"
     ]
    },
    {
     "name": "stderr",
     "output_type": "stream",
     "text": [
      "t:   9%|▉         | 14/150 [00:00<00:01, 127.99it/s, now=None]    "
     ]
    },
    {
     "name": "stdout",
     "output_type": "stream",
     "text": [
      "MoviePy - Done.\n",
      "Moviepy - Writing video ../data/5s_clips_40000/000251.mp4\n",
      "\n"
     ]
    },
    {
     "name": "stderr",
     "output_type": "stream",
     "text": [
      "chunk:  77%|███████▋  | 85/111 [00:00<00:00, 795.51it/s, now=None]"
     ]
    },
    {
     "name": "stdout",
     "output_type": "stream",
     "text": [
      "Moviepy - Done !\n",
      "Moviepy - video ready ../data/5s_clips_40000/000251.mp4\n",
      "Moviepy - Building video ../data/5s_clips_40000/000252.mp4.\n",
      "MoviePy - Writing audio in %s\n"
     ]
    },
    {
     "name": "stderr",
     "output_type": "stream",
     "text": [
      "t:  10%|█         | 15/150 [00:00<00:01, 132.55it/s, now=None]    "
     ]
    },
    {
     "name": "stdout",
     "output_type": "stream",
     "text": [
      "MoviePy - Done.\n",
      "Moviepy - Writing video ../data/5s_clips_40000/000252.mp4\n",
      "\n"
     ]
    },
    {
     "name": "stderr",
     "output_type": "stream",
     "text": [
      "                                                               \r"
     ]
    },
    {
     "name": "stdout",
     "output_type": "stream",
     "text": [
      "Moviepy - Done !\n",
      "Moviepy - video ready ../data/5s_clips_40000/000252.mp4\n",
      "-GiRtQZlnbw succeed.\n",
      "-GiRtQZlnbw deleted.\n",
      "----- finished ------\n",
      "----- executing ------\n",
      "['-GlZ819IHfE', 30, 40]\n"
     ]
    },
    {
     "name": "stderr",
     "output_type": "stream",
     "text": [
      "chunk:  29%|██▉       | 32/111 [00:00<00:00, 268.85it/s, now=None]"
     ]
    },
    {
     "name": "stdout",
     "output_type": "stream",
     "text": [
      "Moviepy - Building video ../data/5s_clips_40000/000253.mp4.\n",
      "MoviePy - Writing audio in %s\n"
     ]
    },
    {
     "name": "stderr",
     "output_type": "stream",
     "text": [
      "                                                                   "
     ]
    },
    {
     "name": "stdout",
     "output_type": "stream",
     "text": [
      "MoviePy - Done.\n",
      "Moviepy - Writing video ../data/5s_clips_40000/000253.mp4\n",
      "\n"
     ]
    },
    {
     "name": "stderr",
     "output_type": "stream",
     "text": [
      "chunk:  31%|███       | 34/111 [00:00<00:00, 339.21it/s, now=None]"
     ]
    },
    {
     "name": "stdout",
     "output_type": "stream",
     "text": [
      "Moviepy - Done !\n",
      "Moviepy - video ready ../data/5s_clips_40000/000253.mp4\n",
      "Moviepy - Building video ../data/5s_clips_40000/000254.mp4.\n",
      "MoviePy - Writing audio in %s\n"
     ]
    },
    {
     "name": "stderr",
     "output_type": "stream",
     "text": [
      "t:  43%|████▎     | 64/150 [00:00<00:00, 630.81it/s, now=None]    "
     ]
    },
    {
     "name": "stdout",
     "output_type": "stream",
     "text": [
      "MoviePy - Done.\n",
      "Moviepy - Writing video ../data/5s_clips_40000/000254.mp4\n",
      "\n"
     ]
    },
    {
     "name": "stderr",
     "output_type": "stream",
     "text": [
      "                                                               \r"
     ]
    },
    {
     "name": "stdout",
     "output_type": "stream",
     "text": [
      "Moviepy - Done !\n",
      "Moviepy - video ready ../data/5s_clips_40000/000254.mp4\n",
      "-GlZ819IHfE succeed.\n",
      "-GlZ819IHfE deleted.\n",
      "----- finished ------\n",
      "----- executing ------\n",
      "['-H5WnRXsnoM', 130, 140]\n",
      "-H5WnRXsnoM failed.\n",
      "----- finished ------\n",
      "----- executing ------\n",
      "['-H5kC4WsuI8', 30, 40]\n"
     ]
    },
    {
     "name": "stderr",
     "output_type": "stream",
     "text": [
      "chunk:  29%|██▉       | 32/111 [00:00<00:00, 305.14it/s, now=None]"
     ]
    },
    {
     "name": "stdout",
     "output_type": "stream",
     "text": [
      "Moviepy - Building video ../data/5s_clips_40000/000255.mp4.\n",
      "MoviePy - Writing audio in %s\n"
     ]
    },
    {
     "name": "stderr",
     "output_type": "stream",
     "text": [
      "t:  25%|██▍       | 37/150 [00:00<00:00, 362.24it/s, now=None]    "
     ]
    },
    {
     "name": "stdout",
     "output_type": "stream",
     "text": [
      "MoviePy - Done.\n",
      "Moviepy - Writing video ../data/5s_clips_40000/000255.mp4\n",
      "\n"
     ]
    },
    {
     "name": "stderr",
     "output_type": "stream",
     "text": [
      "chunk:  47%|████▋     | 52/111 [00:00<00:00, 517.20it/s, now=None]"
     ]
    },
    {
     "name": "stdout",
     "output_type": "stream",
     "text": [
      "Moviepy - Done !\n",
      "Moviepy - video ready ../data/5s_clips_40000/000255.mp4\n",
      "Moviepy - Building video ../data/5s_clips_40000/000256.mp4.\n",
      "MoviePy - Writing audio in %s\n"
     ]
    },
    {
     "name": "stderr",
     "output_type": "stream",
     "text": [
      "t:  25%|██▍       | 37/150 [00:00<00:00, 362.08it/s, now=None]     "
     ]
    },
    {
     "name": "stdout",
     "output_type": "stream",
     "text": [
      "MoviePy - Done.\n",
      "Moviepy - Writing video ../data/5s_clips_40000/000256.mp4\n",
      "\n"
     ]
    },
    {
     "name": "stderr",
     "output_type": "stream",
     "text": [
      "                                                               \r"
     ]
    },
    {
     "name": "stdout",
     "output_type": "stream",
     "text": [
      "Moviepy - Done !\n",
      "Moviepy - video ready ../data/5s_clips_40000/000256.mp4\n",
      "-H5kC4WsuI8 succeed.\n",
      "-H5kC4WsuI8 deleted.\n",
      "----- finished ------\n",
      "----- executing ------\n",
      "['-H7l8OjHID4', 10, 20]\n"
     ]
    },
    {
     "name": "stderr",
     "output_type": "stream",
     "text": [
      "chunk:  29%|██▉       | 32/111 [00:00<00:00, 256.20it/s, now=None]"
     ]
    },
    {
     "name": "stdout",
     "output_type": "stream",
     "text": [
      "Moviepy - Building video ../data/5s_clips_40000/000257.mp4.\n",
      "MoviePy - Writing audio in %s\n"
     ]
    },
    {
     "name": "stderr",
     "output_type": "stream",
     "text": [
      "t:  38%|███▊      | 48/125 [00:00<00:00, 470.12it/s, now=None]    "
     ]
    },
    {
     "name": "stdout",
     "output_type": "stream",
     "text": [
      "MoviePy - Done.\n",
      "Moviepy - Writing video ../data/5s_clips_40000/000257.mp4\n",
      "\n"
     ]
    },
    {
     "name": "stderr",
     "output_type": "stream",
     "text": [
      "chunk:  38%|███▊      | 42/111 [00:00<00:00, 403.90it/s, now=None]"
     ]
    },
    {
     "name": "stdout",
     "output_type": "stream",
     "text": [
      "Moviepy - Done !\n",
      "Moviepy - video ready ../data/5s_clips_40000/000257.mp4\n",
      "Moviepy - Building video ../data/5s_clips_40000/000258.mp4.\n",
      "MoviePy - Writing audio in %s\n"
     ]
    },
    {
     "name": "stderr",
     "output_type": "stream",
     "text": [
      "t:  42%|████▏     | 53/125 [00:00<00:00, 521.06it/s, now=None]    "
     ]
    },
    {
     "name": "stdout",
     "output_type": "stream",
     "text": [
      "MoviePy - Done.\n",
      "Moviepy - Writing video ../data/5s_clips_40000/000258.mp4\n",
      "\n"
     ]
    },
    {
     "name": "stderr",
     "output_type": "stream",
     "text": [
      "                                                               \r"
     ]
    },
    {
     "name": "stdout",
     "output_type": "stream",
     "text": [
      "Moviepy - Done !\n",
      "Moviepy - video ready ../data/5s_clips_40000/000258.mp4\n",
      "-H7l8OjHID4 succeed.\n",
      "-H7l8OjHID4 deleted.\n",
      "----- finished ------\n",
      "----- executing ------\n",
      "['-HLoD4GWMtw', 4, 14]\n"
     ]
    },
    {
     "name": "stderr",
     "output_type": "stream",
     "text": [
      "chunk:  47%|████▋     | 52/111 [00:00<00:00, 518.96it/s, now=None]"
     ]
    },
    {
     "name": "stdout",
     "output_type": "stream",
     "text": [
      "Moviepy - Building video ../data/5s_clips_40000/000259.mp4.\n",
      "MoviePy - Writing audio in %s\n"
     ]
    },
    {
     "name": "stderr",
     "output_type": "stream",
     "text": [
      "                                                                   \r"
     ]
    },
    {
     "name": "stdout",
     "output_type": "stream",
     "text": [
      "MoviePy - Done.\n",
      "Moviepy - Writing video ../data/5s_clips_40000/000259.mp4\n",
      "\n",
      "Moviepy - Done !\n",
      "Moviepy - video ready ../data/5s_clips_40000/000259.mp4\n",
      "Moviepy - Building video ../data/5s_clips_40000/000260.mp4.\n",
      "MoviePy - Writing audio in %s\n"
     ]
    },
    {
     "name": "stderr",
     "output_type": "stream",
     "text": [
      "                                                                  \r"
     ]
    },
    {
     "name": "stdout",
     "output_type": "stream",
     "text": [
      "-HLoD4GWMtw failed.\n",
      "-HLoD4GWMtw deleted.\n",
      "----- finished ------\n",
      "----- executing ------\n",
      "['-HN5kqCKpEA', 30, 40]\n"
     ]
    },
    {
     "name": "stderr",
     "output_type": "stream",
     "text": [
      "chunk:  29%|██▉       | 32/111 [00:00<00:00, 250.93it/s, now=None]"
     ]
    },
    {
     "name": "stdout",
     "output_type": "stream",
     "text": [
      "Moviepy - Building video ../data/5s_clips_40000/000259.mp4.\n",
      "MoviePy - Writing audio in %s\n"
     ]
    },
    {
     "name": "stderr",
     "output_type": "stream",
     "text": [
      "t:  25%|██▌       | 38/150 [00:00<00:00, 378.72it/s, now=None]    "
     ]
    },
    {
     "name": "stdout",
     "output_type": "stream",
     "text": [
      "MoviePy - Done.\n",
      "Moviepy - Writing video ../data/5s_clips_40000/000259.mp4\n",
      "\n"
     ]
    },
    {
     "name": "stderr",
     "output_type": "stream",
     "text": [
      "chunk:  32%|███▏      | 36/111 [00:00<00:00, 344.02it/s, now=None]"
     ]
    },
    {
     "name": "stdout",
     "output_type": "stream",
     "text": [
      "Moviepy - Done !\n",
      "Moviepy - video ready ../data/5s_clips_40000/000259.mp4\n",
      "Moviepy - Building video ../data/5s_clips_40000/000260.mp4.\n",
      "MoviePy - Writing audio in %s\n"
     ]
    },
    {
     "name": "stderr",
     "output_type": "stream",
     "text": [
      "t:  23%|██▎       | 34/150 [00:00<00:00, 332.86it/s, now=None]     "
     ]
    },
    {
     "name": "stdout",
     "output_type": "stream",
     "text": [
      "MoviePy - Done.\n",
      "Moviepy - Writing video ../data/5s_clips_40000/000260.mp4\n",
      "\n"
     ]
    },
    {
     "name": "stderr",
     "output_type": "stream",
     "text": [
      "                                                               \r"
     ]
    },
    {
     "name": "stdout",
     "output_type": "stream",
     "text": [
      "Moviepy - Done !\n",
      "Moviepy - video ready ../data/5s_clips_40000/000260.mp4\n",
      "-HN5kqCKpEA succeed.\n",
      "-HN5kqCKpEA deleted.\n",
      "----- finished ------\n",
      "----- executing ------\n",
      "['-Hav5URxl74', 30, 40]\n"
     ]
    },
    {
     "name": "stderr",
     "output_type": "stream",
     "text": [
      "chunk:  34%|███▍      | 38/111 [00:00<00:00, 367.07it/s, now=None]"
     ]
    },
    {
     "name": "stdout",
     "output_type": "stream",
     "text": [
      "Moviepy - Building video ../data/5s_clips_40000/000261.mp4.\n",
      "MoviePy - Writing audio in %s\n"
     ]
    },
    {
     "name": "stderr",
     "output_type": "stream",
     "text": [
      "t:  36%|███▌      | 54/150 [00:00<00:00, 535.11it/s, now=None]    "
     ]
    },
    {
     "name": "stdout",
     "output_type": "stream",
     "text": [
      "MoviePy - Done.\n",
      "Moviepy - Writing video ../data/5s_clips_40000/000261.mp4\n",
      "\n"
     ]
    },
    {
     "name": "stderr",
     "output_type": "stream",
     "text": [
      "chunk:  46%|████▌     | 51/111 [00:00<00:00, 498.02it/s, now=None]"
     ]
    },
    {
     "name": "stdout",
     "output_type": "stream",
     "text": [
      "Moviepy - Done !\n",
      "Moviepy - video ready ../data/5s_clips_40000/000261.mp4\n",
      "Moviepy - Building video ../data/5s_clips_40000/000262.mp4.\n",
      "MoviePy - Writing audio in %s\n"
     ]
    },
    {
     "name": "stderr",
     "output_type": "stream",
     "text": [
      "t:  34%|███▍      | 51/150 [00:00<00:00, 503.28it/s, now=None]     "
     ]
    },
    {
     "name": "stdout",
     "output_type": "stream",
     "text": [
      "MoviePy - Done.\n",
      "Moviepy - Writing video ../data/5s_clips_40000/000262.mp4\n",
      "\n"
     ]
    },
    {
     "name": "stderr",
     "output_type": "stream",
     "text": [
      "                                                               \r"
     ]
    },
    {
     "name": "stdout",
     "output_type": "stream",
     "text": [
      "Moviepy - Done !\n",
      "Moviepy - video ready ../data/5s_clips_40000/000262.mp4\n",
      "-Hav5URxl74 succeed.\n",
      "-Hav5URxl74 deleted.\n",
      "----- finished ------\n",
      "----- executing ------\n",
      "['-HlS6jz-f0I', 170, 180]\n"
     ]
    },
    {
     "name": "stderr",
     "output_type": "stream",
     "text": [
      "chunk:  29%|██▉       | 32/111 [00:00<00:00, 187.63it/s, now=None]"
     ]
    },
    {
     "name": "stdout",
     "output_type": "stream",
     "text": [
      "Moviepy - Building video ../data/5s_clips_40000/000263.mp4.\n",
      "MoviePy - Writing audio in %s\n"
     ]
    },
    {
     "name": "stderr",
     "output_type": "stream",
     "text": [
      "t:  43%|████▎     | 65/150 [00:00<00:00, 649.21it/s, now=None]    "
     ]
    },
    {
     "name": "stdout",
     "output_type": "stream",
     "text": [
      "MoviePy - Done.\n",
      "Moviepy - Writing video ../data/5s_clips_40000/000263.mp4\n",
      "\n"
     ]
    },
    {
     "name": "stderr",
     "output_type": "stream",
     "text": [
      "chunk:  31%|███       | 34/111 [00:00<00:00, 333.44it/s, now=None]"
     ]
    },
    {
     "name": "stdout",
     "output_type": "stream",
     "text": [
      "Moviepy - Done !\n",
      "Moviepy - video ready ../data/5s_clips_40000/000263.mp4\n",
      "Moviepy - Building video ../data/5s_clips_40000/000264.mp4.\n",
      "MoviePy - Writing audio in %s\n"
     ]
    },
    {
     "name": "stderr",
     "output_type": "stream",
     "text": [
      "                                                                   \r"
     ]
    },
    {
     "name": "stdout",
     "output_type": "stream",
     "text": [
      "MoviePy - Done.\n",
      "Moviepy - Writing video ../data/5s_clips_40000/000264.mp4\n",
      "\n",
      "Moviepy - Done !\n",
      "Moviepy - video ready ../data/5s_clips_40000/000264.mp4\n",
      "-HlS6jz-f0I succeed.\n",
      "-HlS6jz-f0I deleted.\n",
      "----- finished ------\n",
      "----- executing ------\n",
      "['-HnNrGtKXp4', 30, 40]\n"
     ]
    },
    {
     "name": "stderr",
     "output_type": "stream",
     "text": [
      "\r",
      "chunk:   0%|          | 0/111 [00:00<?, ?it/s, now=None]"
     ]
    },
    {
     "name": "stdout",
     "output_type": "stream",
     "text": [
      "Moviepy - Building video ../data/5s_clips_40000/000265.mp4.\n",
      "MoviePy - Writing audio in %s\n"
     ]
    },
    {
     "name": "stderr",
     "output_type": "stream",
     "text": [
      "t:  33%|███▎      | 50/150 [00:00<00:00, 491.97it/s, now=None]     "
     ]
    },
    {
     "name": "stdout",
     "output_type": "stream",
     "text": [
      "MoviePy - Done.\n",
      "Moviepy - Writing video ../data/5s_clips_40000/000265.mp4\n",
      "\n"
     ]
    },
    {
     "name": "stderr",
     "output_type": "stream",
     "text": [
      "chunk:  31%|███       | 34/111 [00:00<00:00, 323.95it/s, now=None]"
     ]
    },
    {
     "name": "stdout",
     "output_type": "stream",
     "text": [
      "Moviepy - Done !\n",
      "Moviepy - video ready ../data/5s_clips_40000/000265.mp4\n",
      "Moviepy - Building video ../data/5s_clips_40000/000266.mp4.\n",
      "MoviePy - Writing audio in %s\n"
     ]
    },
    {
     "name": "stderr",
     "output_type": "stream",
     "text": [
      "t:  31%|███▏      | 47/150 [00:00<00:00, 468.06it/s, now=None]     "
     ]
    },
    {
     "name": "stdout",
     "output_type": "stream",
     "text": [
      "MoviePy - Done.\n",
      "Moviepy - Writing video ../data/5s_clips_40000/000266.mp4\n",
      "\n"
     ]
    },
    {
     "name": "stderr",
     "output_type": "stream",
     "text": [
      "                                                               \r"
     ]
    },
    {
     "name": "stdout",
     "output_type": "stream",
     "text": [
      "Moviepy - Done !\n",
      "Moviepy - video ready ../data/5s_clips_40000/000266.mp4\n",
      "-HnNrGtKXp4 succeed.\n",
      "-HnNrGtKXp4 deleted.\n",
      "----- finished ------\n",
      "----- executing ------\n",
      "['-HvtS74RG8w', 240, 250]\n"
     ]
    },
    {
     "name": "stderr",
     "output_type": "stream",
     "text": [
      "chunk:  29%|██▉       | 32/111 [00:00<00:00, 297.09it/s, now=None]"
     ]
    },
    {
     "name": "stdout",
     "output_type": "stream",
     "text": [
      "Moviepy - Building video ../data/5s_clips_40000/000267.mp4.\n",
      "MoviePy - Writing audio in %s\n"
     ]
    },
    {
     "name": "stderr",
     "output_type": "stream",
     "text": [
      "t:  27%|██▋       | 40/150 [00:00<00:00, 387.61it/s, now=None]    "
     ]
    },
    {
     "name": "stdout",
     "output_type": "stream",
     "text": [
      "MoviePy - Done.\n",
      "Moviepy - Writing video ../data/5s_clips_40000/000267.mp4\n",
      "\n"
     ]
    },
    {
     "name": "stderr",
     "output_type": "stream",
     "text": [
      "chunk:  45%|████▌     | 50/111 [00:00<00:00, 483.41it/s, now=None]"
     ]
    },
    {
     "name": "stdout",
     "output_type": "stream",
     "text": [
      "Moviepy - Done !\n",
      "Moviepy - video ready ../data/5s_clips_40000/000267.mp4\n",
      "Moviepy - Building video ../data/5s_clips_40000/000268.mp4.\n",
      "MoviePy - Writing audio in %s\n"
     ]
    },
    {
     "name": "stderr",
     "output_type": "stream",
     "text": [
      "t:  29%|██▊       | 43/150 [00:00<00:00, 423.53it/s, now=None]    "
     ]
    },
    {
     "name": "stdout",
     "output_type": "stream",
     "text": [
      "MoviePy - Done.\n",
      "Moviepy - Writing video ../data/5s_clips_40000/000268.mp4\n",
      "\n"
     ]
    },
    {
     "name": "stderr",
     "output_type": "stream",
     "text": [
      "                                                               \r"
     ]
    },
    {
     "name": "stdout",
     "output_type": "stream",
     "text": [
      "Moviepy - Done !\n",
      "Moviepy - video ready ../data/5s_clips_40000/000268.mp4\n",
      "-HvtS74RG8w succeed.\n",
      "-HvtS74RG8w deleted.\n",
      "----- finished ------\n",
      "----- executing ------\n",
      "['-IKwiAsgpAI', 500, 510]\n"
     ]
    },
    {
     "name": "stderr",
     "output_type": "stream",
     "text": [
      "chunk:  29%|██▉       | 32/111 [00:00<00:00, 289.21it/s, now=None]"
     ]
    },
    {
     "name": "stdout",
     "output_type": "stream",
     "text": [
      "Moviepy - Building video ../data/5s_clips_40000/000269.mp4.\n",
      "MoviePy - Writing audio in %s\n"
     ]
    },
    {
     "name": "stderr",
     "output_type": "stream",
     "text": [
      "t:  25%|██▍       | 37/150 [00:00<00:00, 366.83it/s, now=None]    "
     ]
    },
    {
     "name": "stdout",
     "output_type": "stream",
     "text": [
      "MoviePy - Done.\n",
      "Moviepy - Writing video ../data/5s_clips_40000/000269.mp4\n",
      "\n"
     ]
    },
    {
     "name": "stderr",
     "output_type": "stream",
     "text": [
      "chunk:  47%|████▋     | 52/111 [00:00<00:00, 518.14it/s, now=None]"
     ]
    },
    {
     "name": "stdout",
     "output_type": "stream",
     "text": [
      "Moviepy - Done !\n",
      "Moviepy - video ready ../data/5s_clips_40000/000269.mp4\n",
      "Moviepy - Building video ../data/5s_clips_40000/000270.mp4.\n",
      "MoviePy - Writing audio in %s\n"
     ]
    },
    {
     "name": "stderr",
     "output_type": "stream",
     "text": [
      "t:  25%|██▍       | 37/150 [00:00<00:00, 362.70it/s, now=None]     "
     ]
    },
    {
     "name": "stdout",
     "output_type": "stream",
     "text": [
      "MoviePy - Done.\n",
      "Moviepy - Writing video ../data/5s_clips_40000/000270.mp4\n",
      "\n"
     ]
    },
    {
     "name": "stderr",
     "output_type": "stream",
     "text": [
      "                                                               \r"
     ]
    },
    {
     "name": "stdout",
     "output_type": "stream",
     "text": [
      "Moviepy - Done !\n",
      "Moviepy - video ready ../data/5s_clips_40000/000270.mp4\n",
      "-IKwiAsgpAI succeed.\n",
      "-IKwiAsgpAI deleted.\n",
      "----- finished ------\n",
      "----- executing ------\n",
      "['-IWlQN6cfe4', 30, 40]\n"
     ]
    },
    {
     "name": "stderr",
     "output_type": "stream",
     "text": [
      "chunk:  29%|██▉       | 32/111 [00:00<00:00, 266.31it/s, now=None]"
     ]
    },
    {
     "name": "stdout",
     "output_type": "stream",
     "text": [
      "Moviepy - Building video ../data/5s_clips_40000/000271.mp4.\n",
      "MoviePy - Writing audio in %s\n"
     ]
    },
    {
     "name": "stderr",
     "output_type": "stream",
     "text": [
      "t:   9%|▊         | 13/150 [00:00<00:01, 121.73it/s, now=None]    "
     ]
    },
    {
     "name": "stdout",
     "output_type": "stream",
     "text": [
      "MoviePy - Done.\n",
      "Moviepy - Writing video ../data/5s_clips_40000/000271.mp4\n",
      "\n"
     ]
    },
    {
     "name": "stderr",
     "output_type": "stream",
     "text": [
      "chunk:  41%|████▏     | 46/111 [00:00<00:00, 457.64it/s, now=None]"
     ]
    },
    {
     "name": "stdout",
     "output_type": "stream",
     "text": [
      "Moviepy - Done !\n",
      "Moviepy - video ready ../data/5s_clips_40000/000271.mp4\n",
      "Moviepy - Building video ../data/5s_clips_40000/000272.mp4.\n",
      "MoviePy - Writing audio in %s\n"
     ]
    },
    {
     "name": "stderr",
     "output_type": "stream",
     "text": [
      "t:   9%|▊         | 13/150 [00:00<00:01, 119.35it/s, now=None]    "
     ]
    },
    {
     "name": "stdout",
     "output_type": "stream",
     "text": [
      "MoviePy - Done.\n",
      "Moviepy - Writing video ../data/5s_clips_40000/000272.mp4\n",
      "\n"
     ]
    },
    {
     "name": "stderr",
     "output_type": "stream",
     "text": [
      "                                                              \r"
     ]
    },
    {
     "name": "stdout",
     "output_type": "stream",
     "text": [
      "Moviepy - Done !\n",
      "Moviepy - video ready ../data/5s_clips_40000/000272.mp4\n",
      "-IWlQN6cfe4 succeed.\n",
      "-IWlQN6cfe4 deleted.\n",
      "----- finished ------\n",
      "----- executing ------\n",
      "['-IZsyroG6yo', 420, 430]\n"
     ]
    },
    {
     "name": "stderr",
     "output_type": "stream",
     "text": [
      "chunk:  29%|██▉       | 32/111 [00:00<00:00, 207.93it/s, now=None]"
     ]
    },
    {
     "name": "stdout",
     "output_type": "stream",
     "text": [
      "Moviepy - Building video ../data/5s_clips_40000/000273.mp4.\n",
      "MoviePy - Writing audio in %s\n"
     ]
    },
    {
     "name": "stderr",
     "output_type": "stream",
     "text": [
      "t:  20%|██        | 30/150 [00:00<00:00, 299.62it/s, now=None]     "
     ]
    },
    {
     "name": "stdout",
     "output_type": "stream",
     "text": [
      "MoviePy - Done.\n",
      "Moviepy - Writing video ../data/5s_clips_40000/000273.mp4\n",
      "\n"
     ]
    },
    {
     "name": "stderr",
     "output_type": "stream",
     "text": [
      "chunk:  29%|██▉       | 32/111 [00:00<00:00, 315.16it/s, now=None]"
     ]
    },
    {
     "name": "stdout",
     "output_type": "stream",
     "text": [
      "Moviepy - Done !\n",
      "Moviepy - video ready ../data/5s_clips_40000/000273.mp4\n",
      "Moviepy - Building video ../data/5s_clips_40000/000274.mp4.\n",
      "MoviePy - Writing audio in %s\n"
     ]
    },
    {
     "name": "stderr",
     "output_type": "stream",
     "text": [
      "t:  22%|██▏       | 33/150 [00:00<00:00, 323.35it/s, now=None]    "
     ]
    },
    {
     "name": "stdout",
     "output_type": "stream",
     "text": [
      "MoviePy - Done.\n",
      "Moviepy - Writing video ../data/5s_clips_40000/000274.mp4\n",
      "\n"
     ]
    },
    {
     "name": "stderr",
     "output_type": "stream",
     "text": [
      "                                                               \r"
     ]
    },
    {
     "name": "stdout",
     "output_type": "stream",
     "text": [
      "Moviepy - Done !\n",
      "Moviepy - video ready ../data/5s_clips_40000/000274.mp4\n",
      "-IZsyroG6yo succeed.\n",
      "-IZsyroG6yo deleted.\n",
      "----- finished ------\n",
      "----- executing ------\n",
      "['-ItCGHv_9Gs', 3, 13]\n"
     ]
    },
    {
     "name": "stderr",
     "output_type": "stream",
     "text": [
      "chunk:  29%|██▉       | 32/111 [00:00<00:00, 289.16it/s, now=None]"
     ]
    },
    {
     "name": "stdout",
     "output_type": "stream",
     "text": [
      "Moviepy - Building video ../data/5s_clips_40000/000275.mp4.\n",
      "MoviePy - Writing audio in %s\n"
     ]
    },
    {
     "name": "stderr",
     "output_type": "stream",
     "text": [
      "t:  41%|████      | 61/150 [00:00<00:00, 600.71it/s, now=None]    "
     ]
    },
    {
     "name": "stdout",
     "output_type": "stream",
     "text": [
      "MoviePy - Done.\n",
      "Moviepy - Writing video ../data/5s_clips_40000/000275.mp4\n",
      "\n"
     ]
    },
    {
     "name": "stderr",
     "output_type": "stream",
     "text": [
      "chunk:  31%|███       | 34/111 [00:00<00:00, 328.92it/s, now=None]"
     ]
    },
    {
     "name": "stdout",
     "output_type": "stream",
     "text": [
      "Moviepy - Done !\n",
      "Moviepy - video ready ../data/5s_clips_40000/000275.mp4\n",
      "Moviepy - Building video ../data/5s_clips_40000/000276.mp4.\n",
      "MoviePy - Writing audio in %s\n"
     ]
    },
    {
     "name": "stderr",
     "output_type": "stream",
     "text": [
      "t:  38%|███▊      | 57/150 [00:00<00:00, 568.51it/s, now=None]    "
     ]
    },
    {
     "name": "stdout",
     "output_type": "stream",
     "text": [
      "MoviePy - Done.\n",
      "Moviepy - Writing video ../data/5s_clips_40000/000276.mp4\n",
      "\n"
     ]
    },
    {
     "name": "stderr",
     "output_type": "stream",
     "text": [
      "                                                               \r"
     ]
    },
    {
     "name": "stdout",
     "output_type": "stream",
     "text": [
      "Moviepy - Done !\n",
      "Moviepy - video ready ../data/5s_clips_40000/000276.mp4\n",
      "-ItCGHv_9Gs succeed.\n",
      "-ItCGHv_9Gs deleted.\n",
      "----- finished ------\n",
      "----- executing ------\n",
      "['-J0H5ah1G7A', 30, 40]\n"
     ]
    },
    {
     "name": "stderr",
     "output_type": "stream",
     "text": [
      "chunk:  31%|███       | 34/111 [00:00<00:00, 331.24it/s, now=None]"
     ]
    },
    {
     "name": "stdout",
     "output_type": "stream",
     "text": [
      "Moviepy - Building video ../data/5s_clips_40000/000277.mp4.\n",
      "MoviePy - Writing audio in %s\n"
     ]
    },
    {
     "name": "stderr",
     "output_type": "stream",
     "text": [
      "chunk:   0%|          | 0/111 [00:00<?, ?it/s, now=None]          "
     ]
    },
    {
     "name": "stdout",
     "output_type": "stream",
     "text": [
      "MoviePy - Done.\n",
      "Moviepy - Writing video ../data/5s_clips_40000/000277.mp4\n",
      "\n",
      "Moviepy - Done !\n",
      "Moviepy - video ready ../data/5s_clips_40000/000277.mp4\n",
      "Moviepy - Building video ../data/5s_clips_40000/000278.mp4.\n",
      "MoviePy - Writing audio in %s\n"
     ]
    },
    {
     "name": "stderr",
     "output_type": "stream",
     "text": [
      "                                                                   \r"
     ]
    },
    {
     "name": "stdout",
     "output_type": "stream",
     "text": [
      "MoviePy - Done.\n",
      "Moviepy - Writing video ../data/5s_clips_40000/000278.mp4\n",
      "\n",
      "Moviepy - Done !\n",
      "Moviepy - video ready ../data/5s_clips_40000/000278.mp4\n",
      "-J0H5ah1G7A succeed.\n",
      "-J0H5ah1G7A deleted.\n",
      "----- finished ------\n",
      "----- executing ------\n",
      "['-JBvPwxaVVg', 110, 120]\n",
      "-JBvPwxaVVg failed.\n",
      "-JBvPwxaVVg deleted.\n",
      "----- finished ------\n",
      "----- executing ------\n",
      "['-JKLmqDk9p8', 490, 500]\n"
     ]
    },
    {
     "name": "stderr",
     "output_type": "stream",
     "text": [
      "chunk:  29%|██▉       | 32/111 [00:00<00:00, 259.06it/s, now=None]"
     ]
    },
    {
     "name": "stdout",
     "output_type": "stream",
     "text": [
      "Moviepy - Building video ../data/5s_clips_40000/000279.mp4.\n",
      "MoviePy - Writing audio in %s\n"
     ]
    },
    {
     "name": "stderr",
     "output_type": "stream",
     "text": [
      "t:  28%|██▊       | 42/150 [00:00<00:00, 416.04it/s, now=None]     "
     ]
    },
    {
     "name": "stdout",
     "output_type": "stream",
     "text": [
      "MoviePy - Done.\n",
      "Moviepy - Writing video ../data/5s_clips_40000/000279.mp4\n",
      "\n"
     ]
    },
    {
     "name": "stderr",
     "output_type": "stream",
     "text": [
      "chunk:  34%|███▍      | 38/111 [00:00<00:00, 362.55it/s, now=None]"
     ]
    },
    {
     "name": "stdout",
     "output_type": "stream",
     "text": [
      "Moviepy - Done !\n",
      "Moviepy - video ready ../data/5s_clips_40000/000279.mp4\n",
      "Moviepy - Building video ../data/5s_clips_40000/000280.mp4.\n",
      "MoviePy - Writing audio in %s\n"
     ]
    },
    {
     "name": "stderr",
     "output_type": "stream",
     "text": [
      "t:  25%|██▍       | 37/150 [00:00<00:00, 369.76it/s, now=None]    "
     ]
    },
    {
     "name": "stdout",
     "output_type": "stream",
     "text": [
      "MoviePy - Done.\n",
      "Moviepy - Writing video ../data/5s_clips_40000/000280.mp4\n",
      "\n"
     ]
    },
    {
     "name": "stderr",
     "output_type": "stream",
     "text": [
      "                                                               \r"
     ]
    },
    {
     "name": "stdout",
     "output_type": "stream",
     "text": [
      "Moviepy - Done !\n",
      "Moviepy - video ready ../data/5s_clips_40000/000280.mp4\n",
      "-JKLmqDk9p8 succeed.\n",
      "-JKLmqDk9p8 deleted.\n",
      "----- finished ------\n",
      "----- executing ------\n",
      "['-JOKwS64mRU', 150, 160]\n"
     ]
    },
    {
     "name": "stderr",
     "output_type": "stream",
     "text": [
      "chunk:  29%|██▉       | 32/111 [00:00<00:00, 270.07it/s, now=None]"
     ]
    },
    {
     "name": "stdout",
     "output_type": "stream",
     "text": [
      "Moviepy - Building video ../data/5s_clips_40000/000281.mp4.\n",
      "MoviePy - Writing audio in %s\n"
     ]
    },
    {
     "name": "stderr",
     "output_type": "stream",
     "text": [
      "t:  11%|█         | 14/125 [00:00<00:00, 124.02it/s, now=None]    "
     ]
    },
    {
     "name": "stdout",
     "output_type": "stream",
     "text": [
      "MoviePy - Done.\n",
      "Moviepy - Writing video ../data/5s_clips_40000/000281.mp4\n",
      "\n"
     ]
    },
    {
     "name": "stderr",
     "output_type": "stream",
     "text": [
      "chunk:  41%|████▏     | 46/111 [00:00<00:00, 447.00it/s, now=None]"
     ]
    },
    {
     "name": "stdout",
     "output_type": "stream",
     "text": [
      "Moviepy - Done !\n",
      "Moviepy - video ready ../data/5s_clips_40000/000281.mp4\n",
      "Moviepy - Building video ../data/5s_clips_40000/000282.mp4.\n",
      "MoviePy - Writing audio in %s\n"
     ]
    },
    {
     "name": "stderr",
     "output_type": "stream",
     "text": [
      "t:  10%|█         | 13/125 [00:00<00:00, 129.87it/s, now=None]    "
     ]
    },
    {
     "name": "stdout",
     "output_type": "stream",
     "text": [
      "MoviePy - Done.\n",
      "Moviepy - Writing video ../data/5s_clips_40000/000282.mp4\n",
      "\n"
     ]
    },
    {
     "name": "stderr",
     "output_type": "stream",
     "text": [
      "                                                               \r"
     ]
    },
    {
     "name": "stdout",
     "output_type": "stream",
     "text": [
      "Moviepy - Done !\n",
      "Moviepy - video ready ../data/5s_clips_40000/000282.mp4\n",
      "-JOKwS64mRU succeed.\n",
      "-JOKwS64mRU deleted.\n",
      "----- finished ------\n",
      "----- executing ------\n",
      "['-JVWfFPBl84', 330, 340]\n"
     ]
    },
    {
     "name": "stderr",
     "output_type": "stream",
     "text": [
      "chunk:  29%|██▉       | 32/111 [00:00<00:00, 315.66it/s, now=None]"
     ]
    },
    {
     "name": "stdout",
     "output_type": "stream",
     "text": [
      "Moviepy - Building video ../data/5s_clips_40000/000283.mp4.\n",
      "MoviePy - Writing audio in %s\n"
     ]
    },
    {
     "name": "stderr",
     "output_type": "stream",
     "text": [
      "t:  57%|█████▋    | 85/150 [00:00<00:00, 844.39it/s, now=None]    "
     ]
    },
    {
     "name": "stdout",
     "output_type": "stream",
     "text": [
      "MoviePy - Done.\n",
      "Moviepy - Writing video ../data/5s_clips_40000/000283.mp4\n",
      "\n"
     ]
    },
    {
     "name": "stderr",
     "output_type": "stream",
     "text": [
      "chunk:  44%|████▍     | 49/111 [00:00<00:00, 485.97it/s, now=None]"
     ]
    },
    {
     "name": "stdout",
     "output_type": "stream",
     "text": [
      "Moviepy - Done !\n",
      "Moviepy - video ready ../data/5s_clips_40000/000283.mp4\n",
      "Moviepy - Building video ../data/5s_clips_40000/000284.mp4.\n",
      "MoviePy - Writing audio in %s\n"
     ]
    },
    {
     "name": "stderr",
     "output_type": "stream",
     "text": [
      "                                                                  "
     ]
    },
    {
     "name": "stdout",
     "output_type": "stream",
     "text": [
      "MoviePy - Done.\n",
      "Moviepy - Writing video ../data/5s_clips_40000/000284.mp4\n",
      "\n"
     ]
    },
    {
     "name": "stderr",
     "output_type": "stream",
     "text": [
      "\r"
     ]
    },
    {
     "name": "stdout",
     "output_type": "stream",
     "text": [
      "Moviepy - Done !\n",
      "Moviepy - video ready ../data/5s_clips_40000/000284.mp4\n",
      "-JVWfFPBl84 succeed.\n",
      "-JVWfFPBl84 deleted.\n",
      "----- finished ------\n",
      "----- executing ------\n",
      "['-Jam3cjbeFQ', 30, 40]\n"
     ]
    },
    {
     "name": "stderr",
     "output_type": "stream",
     "text": [
      "chunk:  29%|██▉       | 32/111 [00:00<00:00, 293.40it/s, now=None]"
     ]
    },
    {
     "name": "stdout",
     "output_type": "stream",
     "text": [
      "Moviepy - Building video ../data/5s_clips_40000/000285.mp4.\n",
      "MoviePy - Writing audio in %s\n"
     ]
    },
    {
     "name": "stderr",
     "output_type": "stream",
     "text": [
      "                                                                  "
     ]
    },
    {
     "name": "stdout",
     "output_type": "stream",
     "text": [
      "MoviePy - Done.\n",
      "Moviepy - Writing video ../data/5s_clips_40000/000285.mp4\n",
      "\n"
     ]
    },
    {
     "name": "stderr",
     "output_type": "stream",
     "text": [
      "chunk:  43%|████▎     | 48/111 [00:00<00:00, 474.65it/s, now=None]"
     ]
    },
    {
     "name": "stdout",
     "output_type": "stream",
     "text": [
      "Moviepy - Done !\n",
      "Moviepy - video ready ../data/5s_clips_40000/000285.mp4\n",
      "Moviepy - Building video ../data/5s_clips_40000/000286.mp4.\n",
      "MoviePy - Writing audio in %s\n"
     ]
    },
    {
     "name": "stderr",
     "output_type": "stream",
     "text": [
      "                                                                  "
     ]
    },
    {
     "name": "stdout",
     "output_type": "stream",
     "text": [
      "MoviePy - Done.\n",
      "Moviepy - Writing video ../data/5s_clips_40000/000286.mp4\n",
      "\n"
     ]
    },
    {
     "name": "stderr",
     "output_type": "stream",
     "text": [
      "\r"
     ]
    },
    {
     "name": "stdout",
     "output_type": "stream",
     "text": [
      "Moviepy - Done !\n",
      "Moviepy - video ready ../data/5s_clips_40000/000286.mp4\n",
      "-Jam3cjbeFQ succeed.\n",
      "-Jam3cjbeFQ deleted.\n",
      "----- finished ------\n",
      "----- executing ------\n",
      "['-JbPonixXS4', 0, 10]\n"
     ]
    },
    {
     "name": "stderr",
     "output_type": "stream",
     "text": [
      "chunk:  45%|████▌     | 50/111 [00:00<00:00, 489.50it/s, now=None]"
     ]
    },
    {
     "name": "stdout",
     "output_type": "stream",
     "text": [
      "Moviepy - Building video ../data/5s_clips_40000/000287.mp4.\n",
      "MoviePy - Writing audio in %s\n"
     ]
    },
    {
     "name": "stderr",
     "output_type": "stream",
     "text": [
      "t:  11%|█         | 13/120 [00:00<00:00, 117.68it/s, now=None]    "
     ]
    },
    {
     "name": "stdout",
     "output_type": "stream",
     "text": [
      "MoviePy - Done.\n",
      "Moviepy - Writing video ../data/5s_clips_40000/000287.mp4\n",
      "\n"
     ]
    },
    {
     "name": "stderr",
     "output_type": "stream",
     "text": [
      "chunk:  38%|███▊      | 42/111 [00:00<00:00, 401.65it/s, now=None]"
     ]
    },
    {
     "name": "stdout",
     "output_type": "stream",
     "text": [
      "Moviepy - Done !\n",
      "Moviepy - video ready ../data/5s_clips_40000/000287.mp4\n",
      "Moviepy - Building video ../data/5s_clips_40000/000288.mp4.\n",
      "MoviePy - Writing audio in %s\n"
     ]
    },
    {
     "name": "stderr",
     "output_type": "stream",
     "text": [
      "t:  10%|█         | 12/120 [00:00<00:00, 112.29it/s, now=None]    "
     ]
    },
    {
     "name": "stdout",
     "output_type": "stream",
     "text": [
      "MoviePy - Done.\n",
      "Moviepy - Writing video ../data/5s_clips_40000/000288.mp4\n",
      "\n"
     ]
    },
    {
     "name": "stderr",
     "output_type": "stream",
     "text": [
      "                                                              \r"
     ]
    },
    {
     "name": "stdout",
     "output_type": "stream",
     "text": [
      "Moviepy - Done !\n",
      "Moviepy - video ready ../data/5s_clips_40000/000288.mp4\n",
      "-JbPonixXS4 succeed.\n",
      "-JbPonixXS4 deleted.\n",
      "----- finished ------\n",
      "----- executing ------\n",
      "['-JfXNXGi-l8', 70, 80]\n",
      "-JfXNXGi-l8 failed.\n",
      "----- finished ------\n",
      "----- executing ------\n",
      "['-JfpacjZWyw', 30, 40]\n"
     ]
    },
    {
     "name": "stderr",
     "output_type": "stream",
     "text": [
      "chunk:  29%|██▉       | 32/111 [00:00<00:00, 285.30it/s, now=None]"
     ]
    },
    {
     "name": "stdout",
     "output_type": "stream",
     "text": [
      "Moviepy - Building video ../data/5s_clips_40000/000289.mp4.\n",
      "MoviePy - Writing audio in %s\n"
     ]
    },
    {
     "name": "stderr",
     "output_type": "stream",
     "text": [
      "chunk:   0%|          | 0/111 [00:00<?, ?it/s, now=None]          "
     ]
    },
    {
     "name": "stdout",
     "output_type": "stream",
     "text": [
      "MoviePy - Done.\n",
      "Moviepy - Writing video ../data/5s_clips_40000/000289.mp4\n",
      "\n",
      "Moviepy - Done !\n",
      "Moviepy - video ready ../data/5s_clips_40000/000289.mp4\n",
      "Moviepy - Building video ../data/5s_clips_40000/000290.mp4.\n",
      "MoviePy - Writing audio in %s\n"
     ]
    },
    {
     "name": "stderr",
     "output_type": "stream",
     "text": [
      "                                                                  \r"
     ]
    },
    {
     "name": "stdout",
     "output_type": "stream",
     "text": [
      "MoviePy - Done.\n",
      "Moviepy - Writing video ../data/5s_clips_40000/000290.mp4\n",
      "\n",
      "Moviepy - Done !\n",
      "Moviepy - video ready ../data/5s_clips_40000/000290.mp4\n",
      "-JfpacjZWyw succeed.\n",
      "-JfpacjZWyw deleted.\n",
      "----- finished ------\n",
      "----- executing ------\n",
      "['-Jie0k7xUIk', 10, 20]\n"
     ]
    },
    {
     "name": "stderr",
     "output_type": "stream",
     "text": [
      "chunk:  31%|███       | 34/111 [00:00<00:00, 325.89it/s, now=None]"
     ]
    },
    {
     "name": "stdout",
     "output_type": "stream",
     "text": [
      "Moviepy - Building video ../data/5s_clips_40000/000291.mp4.\n",
      "MoviePy - Writing audio in %s\n"
     ]
    },
    {
     "name": "stderr",
     "output_type": "stream",
     "text": [
      "                                                                   "
     ]
    },
    {
     "name": "stdout",
     "output_type": "stream",
     "text": [
      "MoviePy - Done.\n",
      "Moviepy - Writing video ../data/5s_clips_40000/000291.mp4\n",
      "\n",
      "Moviepy - Done !\n",
      "Moviepy - video ready ../data/5s_clips_40000/000291.mp4\n",
      "Moviepy - Building video ../data/5s_clips_40000/000292.mp4.\n",
      "MoviePy - Writing audio in %s\n"
     ]
    },
    {
     "name": "stderr",
     "output_type": "stream",
     "text": [
      "                                                                   "
     ]
    },
    {
     "name": "stdout",
     "output_type": "stream",
     "text": [
      "MoviePy - Done.\n",
      "Moviepy - Writing video ../data/5s_clips_40000/000292.mp4\n",
      "\n"
     ]
    },
    {
     "name": "stderr",
     "output_type": "stream",
     "text": [
      "\r"
     ]
    },
    {
     "name": "stdout",
     "output_type": "stream",
     "text": [
      "Moviepy - Done !\n",
      "Moviepy - video ready ../data/5s_clips_40000/000292.mp4\n",
      "-Jie0k7xUIk succeed.\n",
      "-Jie0k7xUIk deleted.\n",
      "----- finished ------\n",
      "----- executing ------\n",
      "['-JuVh6islEI', 30, 40]\n"
     ]
    },
    {
     "name": "stderr",
     "output_type": "stream",
     "text": [
      "chunk:  29%|██▉       | 32/111 [00:00<00:00, 259.08it/s, now=None]"
     ]
    },
    {
     "name": "stdout",
     "output_type": "stream",
     "text": [
      "Moviepy - Building video ../data/5s_clips_40000/000293.mp4.\n",
      "MoviePy - Writing audio in %s\n"
     ]
    },
    {
     "name": "stderr",
     "output_type": "stream",
     "text": [
      "t:  30%|███       | 38/125 [00:00<00:00, 370.64it/s, now=None]     "
     ]
    },
    {
     "name": "stdout",
     "output_type": "stream",
     "text": [
      "MoviePy - Done.\n",
      "Moviepy - Writing video ../data/5s_clips_40000/000293.mp4\n",
      "\n"
     ]
    },
    {
     "name": "stderr",
     "output_type": "stream",
     "text": [
      "chunk:  38%|███▊      | 42/111 [00:00<00:00, 415.86it/s, now=None]"
     ]
    },
    {
     "name": "stdout",
     "output_type": "stream",
     "text": [
      "Moviepy - Done !\n",
      "Moviepy - video ready ../data/5s_clips_40000/000293.mp4\n",
      "Moviepy - Building video ../data/5s_clips_40000/000294.mp4.\n",
      "MoviePy - Writing audio in %s\n"
     ]
    },
    {
     "name": "stderr",
     "output_type": "stream",
     "text": [
      "t:  34%|███▎      | 42/125 [00:00<00:00, 410.77it/s, now=None]    "
     ]
    },
    {
     "name": "stdout",
     "output_type": "stream",
     "text": [
      "MoviePy - Done.\n",
      "Moviepy - Writing video ../data/5s_clips_40000/000294.mp4\n",
      "\n"
     ]
    },
    {
     "name": "stderr",
     "output_type": "stream",
     "text": [
      "                                                               \r"
     ]
    },
    {
     "name": "stdout",
     "output_type": "stream",
     "text": [
      "Moviepy - Done !\n",
      "Moviepy - video ready ../data/5s_clips_40000/000294.mp4\n",
      "-JuVh6islEI succeed.\n",
      "-JuVh6islEI deleted.\n",
      "----- finished ------\n",
      "----- executing ------\n",
      "['-K-k1pxeRtQ', 30, 40]\n"
     ]
    },
    {
     "name": "stderr",
     "output_type": "stream",
     "text": [
      "chunk:  29%|██▉       | 32/111 [00:00<00:00, 196.78it/s, now=None]"
     ]
    },
    {
     "name": "stdout",
     "output_type": "stream",
     "text": [
      "Moviepy - Building video ../data/5s_clips_40000/000295.mp4.\n",
      "MoviePy - Writing audio in %s\n"
     ]
    },
    {
     "name": "stderr",
     "output_type": "stream",
     "text": [
      "t:   7%|▋         | 10/150 [00:00<00:01, 98.15it/s, now=None]     "
     ]
    },
    {
     "name": "stdout",
     "output_type": "stream",
     "text": [
      "MoviePy - Done.\n",
      "Moviepy - Writing video ../data/5s_clips_40000/000295.mp4\n",
      "\n"
     ]
    },
    {
     "name": "stderr",
     "output_type": "stream",
     "text": [
      "chunk:  29%|██▉       | 32/111 [00:00<00:00, 277.81it/s, now=None]"
     ]
    },
    {
     "name": "stdout",
     "output_type": "stream",
     "text": [
      "Moviepy - Done !\n",
      "Moviepy - video ready ../data/5s_clips_40000/000295.mp4\n",
      "Moviepy - Building video ../data/5s_clips_40000/000296.mp4.\n",
      "MoviePy - Writing audio in %s\n"
     ]
    },
    {
     "name": "stderr",
     "output_type": "stream",
     "text": [
      "t:   9%|▉         | 14/150 [00:00<00:01, 133.33it/s, now=None]    "
     ]
    },
    {
     "name": "stdout",
     "output_type": "stream",
     "text": [
      "MoviePy - Done.\n",
      "Moviepy - Writing video ../data/5s_clips_40000/000296.mp4\n",
      "\n"
     ]
    },
    {
     "name": "stderr",
     "output_type": "stream",
     "text": [
      "                                                              \r"
     ]
    },
    {
     "name": "stdout",
     "output_type": "stream",
     "text": [
      "Moviepy - Done !\n",
      "Moviepy - video ready ../data/5s_clips_40000/000296.mp4\n",
      "-K-k1pxeRtQ succeed.\n",
      "-K-k1pxeRtQ deleted.\n",
      "----- finished ------\n",
      "----- executing ------\n",
      "['-K4R9SXZZsk', 10, 20]\n"
     ]
    },
    {
     "name": "stderr",
     "output_type": "stream",
     "text": [
      "chunk:  34%|███▍      | 38/111 [00:00<00:00, 379.63it/s, now=None]"
     ]
    },
    {
     "name": "stdout",
     "output_type": "stream",
     "text": [
      "Moviepy - Building video ../data/5s_clips_40000/000297.mp4.\n",
      "MoviePy - Writing audio in %s\n"
     ]
    },
    {
     "name": "stderr",
     "output_type": "stream",
     "text": [
      "t:   5%|▍         | 7/150 [00:00<00:02, 69.98it/s, now=None]      "
     ]
    },
    {
     "name": "stdout",
     "output_type": "stream",
     "text": [
      "MoviePy - Done.\n",
      "Moviepy - Writing video ../data/5s_clips_40000/000297.mp4\n",
      "\n"
     ]
    },
    {
     "name": "stderr",
     "output_type": "stream",
     "text": [
      "chunk:  50%|█████     | 56/111 [00:00<00:00, 545.63it/s, now=None]"
     ]
    },
    {
     "name": "stdout",
     "output_type": "stream",
     "text": [
      "Moviepy - Done !\n",
      "Moviepy - video ready ../data/5s_clips_40000/000297.mp4\n",
      "Moviepy - Building video ../data/5s_clips_40000/000298.mp4.\n",
      "MoviePy - Writing audio in %s\n"
     ]
    },
    {
     "name": "stderr",
     "output_type": "stream",
     "text": [
      "t:   9%|▊         | 13/150 [00:00<00:01, 126.51it/s, now=None]    "
     ]
    },
    {
     "name": "stdout",
     "output_type": "stream",
     "text": [
      "MoviePy - Done.\n",
      "Moviepy - Writing video ../data/5s_clips_40000/000298.mp4\n",
      "\n"
     ]
    },
    {
     "name": "stderr",
     "output_type": "stream",
     "text": [
      "                                                              \r"
     ]
    },
    {
     "name": "stdout",
     "output_type": "stream",
     "text": [
      "Moviepy - Done !\n",
      "Moviepy - video ready ../data/5s_clips_40000/000298.mp4\n",
      "-K4R9SXZZsk succeed.\n",
      "-K4R9SXZZsk deleted.\n",
      "----- finished ------\n",
      "----- executing ------\n",
      "['-KElVp2r03E', 530, 540]\n"
     ]
    },
    {
     "name": "stderr",
     "output_type": "stream",
     "text": [
      "chunk:  29%|██▉       | 32/111 [00:00<00:00, 202.85it/s, now=None]"
     ]
    },
    {
     "name": "stdout",
     "output_type": "stream",
     "text": [
      "Moviepy - Building video ../data/5s_clips_40000/000299.mp4.\n",
      "MoviePy - Writing audio in %s\n"
     ]
    },
    {
     "name": "stderr",
     "output_type": "stream",
     "text": [
      "t:  11%|█         | 14/125 [00:00<00:00, 132.17it/s, now=None]    "
     ]
    },
    {
     "name": "stdout",
     "output_type": "stream",
     "text": [
      "MoviePy - Done.\n",
      "Moviepy - Writing video ../data/5s_clips_40000/000299.mp4\n",
      "\n"
     ]
    },
    {
     "name": "stderr",
     "output_type": "stream",
     "text": [
      "chunk:  39%|███▊      | 43/111 [00:00<00:00, 398.23it/s, now=None]"
     ]
    },
    {
     "name": "stdout",
     "output_type": "stream",
     "text": [
      "Moviepy - Done !\n",
      "Moviepy - video ready ../data/5s_clips_40000/000299.mp4\n",
      "Moviepy - Building video ../data/5s_clips_40000/000300.mp4.\n",
      "MoviePy - Writing audio in %s\n"
     ]
    },
    {
     "name": "stderr",
     "output_type": "stream",
     "text": [
      "t:  11%|█         | 14/125 [00:00<00:00, 134.35it/s, now=None]    "
     ]
    },
    {
     "name": "stdout",
     "output_type": "stream",
     "text": [
      "MoviePy - Done.\n",
      "Moviepy - Writing video ../data/5s_clips_40000/000300.mp4\n",
      "\n"
     ]
    },
    {
     "name": "stderr",
     "output_type": "stream",
     "text": [
      "                                                              \r"
     ]
    },
    {
     "name": "stdout",
     "output_type": "stream",
     "text": [
      "Moviepy - Done !\n",
      "Moviepy - video ready ../data/5s_clips_40000/000300.mp4\n",
      "-KElVp2r03E succeed.\n",
      "-KElVp2r03E deleted.\n",
      "----- finished ------\n",
      "----- executing ------\n",
      "['-KaRoM5LnHc', 30, 40]\n"
     ]
    },
    {
     "name": "stderr",
     "output_type": "stream",
     "text": [
      "chunk:  29%|██▉       | 32/111 [00:00<00:00, 193.04it/s, now=None]"
     ]
    },
    {
     "name": "stdout",
     "output_type": "stream",
     "text": [
      "Moviepy - Building video ../data/5s_clips_40000/000301.mp4.\n",
      "MoviePy - Writing audio in %s\n"
     ]
    },
    {
     "name": "stderr",
     "output_type": "stream",
     "text": [
      "t:   8%|▊         | 12/150 [00:00<00:01, 116.33it/s, now=None]     "
     ]
    },
    {
     "name": "stdout",
     "output_type": "stream",
     "text": [
      "MoviePy - Done.\n",
      "Moviepy - Writing video ../data/5s_clips_40000/000301.mp4\n",
      "\n"
     ]
    },
    {
     "name": "stderr",
     "output_type": "stream",
     "text": [
      "chunk:  36%|███▌      | 40/111 [00:00<00:00, 396.73it/s, now=None]"
     ]
    },
    {
     "name": "stdout",
     "output_type": "stream",
     "text": [
      "Moviepy - Done !\n",
      "Moviepy - video ready ../data/5s_clips_40000/000301.mp4\n",
      "Moviepy - Building video ../data/5s_clips_40000/000302.mp4.\n",
      "MoviePy - Writing audio in %s\n"
     ]
    },
    {
     "name": "stderr",
     "output_type": "stream",
     "text": [
      "t:  10%|█         | 15/150 [00:00<00:00, 145.74it/s, now=None]    "
     ]
    },
    {
     "name": "stdout",
     "output_type": "stream",
     "text": [
      "MoviePy - Done.\n",
      "Moviepy - Writing video ../data/5s_clips_40000/000302.mp4\n",
      "\n"
     ]
    },
    {
     "name": "stderr",
     "output_type": "stream",
     "text": [
      "                                                              \r"
     ]
    },
    {
     "name": "stdout",
     "output_type": "stream",
     "text": [
      "Moviepy - Done !\n",
      "Moviepy - video ready ../data/5s_clips_40000/000302.mp4\n",
      "-KaRoM5LnHc succeed.\n",
      "-KaRoM5LnHc deleted.\n",
      "----- finished ------\n",
      "----- executing ------\n",
      "['-KengzYsTkk', 60, 70]\n"
     ]
    },
    {
     "name": "stderr",
     "output_type": "stream",
     "text": [
      "chunk:  29%|██▉       | 32/111 [00:00<00:00, 228.99it/s, now=None]"
     ]
    },
    {
     "name": "stdout",
     "output_type": "stream",
     "text": [
      "Moviepy - Building video ../data/5s_clips_40000/000303.mp4.\n",
      "MoviePy - Writing audio in %s\n"
     ]
    },
    {
     "name": "stderr",
     "output_type": "stream",
     "text": [
      "t:  13%|█▎        | 16/120 [00:00<00:00, 147.66it/s, now=None]    "
     ]
    },
    {
     "name": "stdout",
     "output_type": "stream",
     "text": [
      "MoviePy - Done.\n",
      "Moviepy - Writing video ../data/5s_clips_40000/000303.mp4\n",
      "\n"
     ]
    },
    {
     "name": "stderr",
     "output_type": "stream",
     "text": [
      "chunk:  30%|██▉       | 33/111 [00:00<00:00, 307.24it/s, now=None]"
     ]
    },
    {
     "name": "stdout",
     "output_type": "stream",
     "text": [
      "Moviepy - Done !\n",
      "Moviepy - video ready ../data/5s_clips_40000/000303.mp4\n",
      "Moviepy - Building video ../data/5s_clips_40000/000304.mp4.\n",
      "MoviePy - Writing audio in %s\n"
     ]
    },
    {
     "name": "stderr",
     "output_type": "stream",
     "text": [
      "t:   9%|▉         | 11/120 [00:00<00:01, 103.00it/s, now=None]    "
     ]
    },
    {
     "name": "stdout",
     "output_type": "stream",
     "text": [
      "MoviePy - Done.\n",
      "Moviepy - Writing video ../data/5s_clips_40000/000304.mp4\n",
      "\n"
     ]
    },
    {
     "name": "stderr",
     "output_type": "stream",
     "text": [
      "                                                               \r"
     ]
    },
    {
     "name": "stdout",
     "output_type": "stream",
     "text": [
      "Moviepy - Done !\n",
      "Moviepy - video ready ../data/5s_clips_40000/000304.mp4\n",
      "-KengzYsTkk succeed.\n",
      "-KengzYsTkk deleted.\n",
      "----- finished ------\n",
      "----- executing ------\n",
      "['-KiAK66YwW8', 150, 160]\n"
     ]
    },
    {
     "name": "stderr",
     "output_type": "stream",
     "text": [
      "chunk:  30%|██▉       | 33/111 [00:00<00:00, 328.90it/s, now=None]"
     ]
    },
    {
     "name": "stdout",
     "output_type": "stream",
     "text": [
      "Moviepy - Building video ../data/5s_clips_40000/000305.mp4.\n",
      "MoviePy - Writing audio in %s\n"
     ]
    },
    {
     "name": "stderr",
     "output_type": "stream",
     "text": [
      "t:  40%|████      | 50/125 [00:00<00:00, 494.86it/s, now=None]    "
     ]
    },
    {
     "name": "stdout",
     "output_type": "stream",
     "text": [
      "MoviePy - Done.\n",
      "Moviepy - Writing video ../data/5s_clips_40000/000305.mp4\n",
      "\n"
     ]
    },
    {
     "name": "stderr",
     "output_type": "stream",
     "text": [
      "chunk:  45%|████▌     | 50/111 [00:00<00:00, 495.01it/s, now=None]"
     ]
    },
    {
     "name": "stdout",
     "output_type": "stream",
     "text": [
      "Moviepy - Done !\n",
      "Moviepy - video ready ../data/5s_clips_40000/000305.mp4\n",
      "Moviepy - Building video ../data/5s_clips_40000/000306.mp4.\n",
      "MoviePy - Writing audio in %s\n"
     ]
    },
    {
     "name": "stderr",
     "output_type": "stream",
     "text": [
      "t:  37%|███▋      | 46/125 [00:00<00:00, 452.29it/s, now=None]    "
     ]
    },
    {
     "name": "stdout",
     "output_type": "stream",
     "text": [
      "MoviePy - Done.\n",
      "Moviepy - Writing video ../data/5s_clips_40000/000306.mp4\n",
      "\n"
     ]
    },
    {
     "name": "stderr",
     "output_type": "stream",
     "text": [
      "                                                              \r"
     ]
    },
    {
     "name": "stdout",
     "output_type": "stream",
     "text": [
      "Moviepy - Done !\n",
      "Moviepy - video ready ../data/5s_clips_40000/000306.mp4\n",
      "-KiAK66YwW8 succeed.\n",
      "-KiAK66YwW8 deleted.\n",
      "----- finished ------\n",
      "----- executing ------\n",
      "['-L44JqysUy8', 190, 200]\n"
     ]
    },
    {
     "name": "stderr",
     "output_type": "stream",
     "text": [
      "chunk:  29%|██▉       | 32/111 [00:00<00:00, 238.75it/s, now=None]"
     ]
    },
    {
     "name": "stdout",
     "output_type": "stream",
     "text": [
      "Moviepy - Building video ../data/5s_clips_40000/000307.mp4.\n",
      "MoviePy - Writing audio in %s\n"
     ]
    },
    {
     "name": "stderr",
     "output_type": "stream",
     "text": [
      "t:  13%|█▎        | 16/125 [00:00<00:00, 153.55it/s, now=None]     "
     ]
    },
    {
     "name": "stdout",
     "output_type": "stream",
     "text": [
      "MoviePy - Done.\n",
      "Moviepy - Writing video ../data/5s_clips_40000/000307.mp4\n",
      "\n"
     ]
    },
    {
     "name": "stderr",
     "output_type": "stream",
     "text": [
      "chunk:  39%|███▊      | 43/111 [00:00<00:00, 403.18it/s, now=None]"
     ]
    },
    {
     "name": "stdout",
     "output_type": "stream",
     "text": [
      "Moviepy - Done !\n",
      "Moviepy - video ready ../data/5s_clips_40000/000307.mp4\n",
      "Moviepy - Building video ../data/5s_clips_40000/000308.mp4.\n",
      "MoviePy - Writing audio in %s\n"
     ]
    },
    {
     "name": "stderr",
     "output_type": "stream",
     "text": [
      "t:  12%|█▏        | 15/125 [00:00<00:00, 144.91it/s, now=None]    "
     ]
    },
    {
     "name": "stdout",
     "output_type": "stream",
     "text": [
      "MoviePy - Done.\n",
      "Moviepy - Writing video ../data/5s_clips_40000/000308.mp4\n",
      "\n"
     ]
    },
    {
     "name": "stderr",
     "output_type": "stream",
     "text": [
      "                                                               \r"
     ]
    },
    {
     "name": "stdout",
     "output_type": "stream",
     "text": [
      "Moviepy - Done !\n",
      "Moviepy - video ready ../data/5s_clips_40000/000308.mp4\n",
      "-L44JqysUy8 succeed.\n",
      "-L44JqysUy8 deleted.\n",
      "----- finished ------\n",
      "----- executing ------\n",
      "['-L68XDzhn2g', 80, 90]\n"
     ]
    },
    {
     "name": "stderr",
     "output_type": "stream",
     "text": [
      "chunk:  29%|██▉       | 32/111 [00:00<00:00, 247.14it/s, now=None]"
     ]
    },
    {
     "name": "stdout",
     "output_type": "stream",
     "text": [
      "Moviepy - Building video ../data/5s_clips_40000/000309.mp4.\n",
      "MoviePy - Writing audio in %s\n"
     ]
    },
    {
     "name": "stderr",
     "output_type": "stream",
     "text": [
      "t:   9%|▊         | 13/150 [00:00<00:01, 121.13it/s, now=None]     "
     ]
    },
    {
     "name": "stdout",
     "output_type": "stream",
     "text": [
      "MoviePy - Done.\n",
      "Moviepy - Writing video ../data/5s_clips_40000/000309.mp4\n",
      "\n"
     ]
    },
    {
     "name": "stderr",
     "output_type": "stream",
     "text": [
      "chunk:  31%|███       | 34/111 [00:00<00:00, 320.96it/s, now=None]"
     ]
    },
    {
     "name": "stdout",
     "output_type": "stream",
     "text": [
      "Moviepy - Done !\n",
      "Moviepy - video ready ../data/5s_clips_40000/000309.mp4\n",
      "Moviepy - Building video ../data/5s_clips_40000/000310.mp4.\n",
      "MoviePy - Writing audio in %s\n"
     ]
    },
    {
     "name": "stderr",
     "output_type": "stream",
     "text": [
      "t:   7%|▋         | 11/150 [00:00<00:01, 98.42it/s, now=None]     "
     ]
    },
    {
     "name": "stdout",
     "output_type": "stream",
     "text": [
      "MoviePy - Done.\n",
      "Moviepy - Writing video ../data/5s_clips_40000/000310.mp4\n",
      "\n"
     ]
    },
    {
     "name": "stderr",
     "output_type": "stream",
     "text": [
      "                                                              \r"
     ]
    },
    {
     "name": "stdout",
     "output_type": "stream",
     "text": [
      "Moviepy - Done !\n",
      "Moviepy - video ready ../data/5s_clips_40000/000310.mp4\n",
      "-L68XDzhn2g succeed.\n",
      "-L68XDzhn2g deleted.\n",
      "----- finished ------\n",
      "----- executing ------\n",
      "['-LB1RoVe8Xc', 270, 280]\n"
     ]
    },
    {
     "name": "stderr",
     "output_type": "stream",
     "text": [
      "chunk:  29%|██▉       | 32/111 [00:00<00:00, 239.50it/s, now=None]"
     ]
    },
    {
     "name": "stdout",
     "output_type": "stream",
     "text": [
      "Moviepy - Building video ../data/5s_clips_40000/000311.mp4.\n",
      "MoviePy - Writing audio in %s\n"
     ]
    },
    {
     "name": "stderr",
     "output_type": "stream",
     "text": [
      "t:  35%|███▌      | 44/125 [00:00<00:00, 439.05it/s, now=None]    "
     ]
    },
    {
     "name": "stdout",
     "output_type": "stream",
     "text": [
      "MoviePy - Done.\n",
      "Moviepy - Writing video ../data/5s_clips_40000/000311.mp4\n",
      "\n"
     ]
    },
    {
     "name": "stderr",
     "output_type": "stream",
     "text": [
      "chunk:  34%|███▍      | 38/111 [00:00<00:00, 374.08it/s, now=None]"
     ]
    },
    {
     "name": "stdout",
     "output_type": "stream",
     "text": [
      "Moviepy - Done !\n",
      "Moviepy - video ready ../data/5s_clips_40000/000311.mp4\n",
      "Moviepy - Building video ../data/5s_clips_40000/000312.mp4.\n",
      "MoviePy - Writing audio in %s\n"
     ]
    },
    {
     "name": "stderr",
     "output_type": "stream",
     "text": [
      "t:  44%|████▍     | 55/125 [00:00<00:00, 539.02it/s, now=None]    "
     ]
    },
    {
     "name": "stdout",
     "output_type": "stream",
     "text": [
      "MoviePy - Done.\n",
      "Moviepy - Writing video ../data/5s_clips_40000/000312.mp4\n",
      "\n"
     ]
    },
    {
     "name": "stderr",
     "output_type": "stream",
     "text": [
      "                                                               \r"
     ]
    },
    {
     "name": "stdout",
     "output_type": "stream",
     "text": [
      "Moviepy - Done !\n",
      "Moviepy - video ready ../data/5s_clips_40000/000312.mp4\n",
      "-LB1RoVe8Xc succeed.\n",
      "-LB1RoVe8Xc deleted.\n",
      "----- finished ------\n",
      "----- executing ------\n",
      "['-LBl0UeKNyU', 430, 440]\n"
     ]
    },
    {
     "name": "stderr",
     "output_type": "stream",
     "text": [
      "chunk:  29%|██▉       | 32/111 [00:00<00:00, 282.99it/s, now=None]"
     ]
    },
    {
     "name": "stdout",
     "output_type": "stream",
     "text": [
      "Moviepy - Building video ../data/5s_clips_40000/000313.mp4.\n",
      "MoviePy - Writing audio in %s\n"
     ]
    },
    {
     "name": "stderr",
     "output_type": "stream",
     "text": [
      "t:  29%|██▊       | 43/150 [00:00<00:00, 422.43it/s, now=None]    "
     ]
    },
    {
     "name": "stdout",
     "output_type": "stream",
     "text": [
      "MoviePy - Done.\n",
      "Moviepy - Writing video ../data/5s_clips_40000/000313.mp4\n",
      "\n"
     ]
    },
    {
     "name": "stderr",
     "output_type": "stream",
     "text": [
      "chunk:  39%|███▊      | 43/111 [00:00<00:00, 409.55it/s, now=None]"
     ]
    },
    {
     "name": "stdout",
     "output_type": "stream",
     "text": [
      "Moviepy - Done !\n",
      "Moviepy - video ready ../data/5s_clips_40000/000313.mp4\n",
      "Moviepy - Building video ../data/5s_clips_40000/000314.mp4.\n",
      "MoviePy - Writing audio in %s\n"
     ]
    },
    {
     "name": "stderr",
     "output_type": "stream",
     "text": [
      "t:  19%|█▉        | 29/150 [00:00<00:00, 281.95it/s, now=None]    "
     ]
    },
    {
     "name": "stdout",
     "output_type": "stream",
     "text": [
      "MoviePy - Done.\n",
      "Moviepy - Writing video ../data/5s_clips_40000/000314.mp4\n",
      "\n"
     ]
    },
    {
     "name": "stderr",
     "output_type": "stream",
     "text": [
      "                                                               \r"
     ]
    },
    {
     "name": "stdout",
     "output_type": "stream",
     "text": [
      "Moviepy - Done !\n",
      "Moviepy - video ready ../data/5s_clips_40000/000314.mp4\n",
      "-LBl0UeKNyU succeed.\n",
      "-LBl0UeKNyU deleted.\n",
      "----- finished ------\n",
      "----- executing ------\n",
      "['-LQM385KSMY', 30, 40]\n",
      "-LQM385KSMY failed.\n",
      "----- finished ------\n",
      "----- executing ------\n",
      "['-M-6VinyMiY', 30, 40]\n",
      "-M-6VinyMiY failed.\n",
      "----- finished ------\n",
      "----- executing ------\n",
      "['-MZx1np1Ddc', 30, 40]\n"
     ]
    },
    {
     "name": "stderr",
     "output_type": "stream",
     "text": [
      "chunk:  29%|██▉       | 32/111 [00:00<00:00, 247.09it/s, now=None]"
     ]
    },
    {
     "name": "stdout",
     "output_type": "stream",
     "text": [
      "Moviepy - Building video ../data/5s_clips_40000/000315.mp4.\n",
      "MoviePy - Writing audio in %s\n"
     ]
    },
    {
     "name": "stderr",
     "output_type": "stream",
     "text": [
      "                                                                   \r"
     ]
    },
    {
     "name": "stdout",
     "output_type": "stream",
     "text": [
      "MoviePy - Done.\n",
      "Moviepy - Writing video ../data/5s_clips_40000/000315.mp4\n",
      "\n",
      "Moviepy - Done !\n",
      "Moviepy - video ready ../data/5s_clips_40000/000315.mp4\n",
      "Moviepy - Building video ../data/5s_clips_40000/000316.mp4.\n",
      "MoviePy - Writing audio in %s\n"
     ]
    },
    {
     "name": "stderr",
     "output_type": "stream",
     "text": [
      "                                                                  \r"
     ]
    },
    {
     "name": "stdout",
     "output_type": "stream",
     "text": [
      "MoviePy - Done.\n",
      "Moviepy - Writing video ../data/5s_clips_40000/000316.mp4\n",
      "\n",
      "Moviepy - Done !\n",
      "Moviepy - video ready ../data/5s_clips_40000/000316.mp4\n",
      "-MZx1np1Ddc succeed.\n",
      "-MZx1np1Ddc deleted.\n",
      "----- finished ------\n",
      "----- executing ------\n",
      "['-M_5w6KKfgQ', 0, 10]\n"
     ]
    },
    {
     "name": "stderr",
     "output_type": "stream",
     "text": [
      "chunk:  31%|███       | 34/111 [00:00<00:00, 327.33it/s, now=None]"
     ]
    },
    {
     "name": "stdout",
     "output_type": "stream",
     "text": [
      "Moviepy - Building video ../data/5s_clips_40000/000317.mp4.\n",
      "MoviePy - Writing audio in %s\n"
     ]
    },
    {
     "name": "stderr",
     "output_type": "stream",
     "text": [
      "t:  27%|██▋       | 40/150 [00:00<00:00, 388.25it/s, now=None]    "
     ]
    },
    {
     "name": "stdout",
     "output_type": "stream",
     "text": [
      "MoviePy - Done.\n",
      "Moviepy - Writing video ../data/5s_clips_40000/000317.mp4\n",
      "\n"
     ]
    },
    {
     "name": "stderr",
     "output_type": "stream",
     "text": [
      "chunk:  29%|██▉       | 32/111 [00:00<00:00, 309.11it/s, now=None]"
     ]
    },
    {
     "name": "stdout",
     "output_type": "stream",
     "text": [
      "Moviepy - Done !\n",
      "Moviepy - video ready ../data/5s_clips_40000/000317.mp4\n",
      "Moviepy - Building video ../data/5s_clips_40000/000318.mp4.\n",
      "MoviePy - Writing audio in %s\n"
     ]
    },
    {
     "name": "stderr",
     "output_type": "stream",
     "text": [
      "t:  27%|██▋       | 41/150 [00:00<00:00, 408.66it/s, now=None]    "
     ]
    },
    {
     "name": "stdout",
     "output_type": "stream",
     "text": [
      "MoviePy - Done.\n",
      "Moviepy - Writing video ../data/5s_clips_40000/000318.mp4\n",
      "\n"
     ]
    },
    {
     "name": "stderr",
     "output_type": "stream",
     "text": [
      "                                                               \r"
     ]
    },
    {
     "name": "stdout",
     "output_type": "stream",
     "text": [
      "Moviepy - Done !\n",
      "Moviepy - video ready ../data/5s_clips_40000/000318.mp4\n",
      "-M_5w6KKfgQ succeed.\n",
      "-M_5w6KKfgQ deleted.\n",
      "----- finished ------\n",
      "----- executing ------\n",
      "['-MfaG0whPJc', 130, 140]\n"
     ]
    },
    {
     "name": "stderr",
     "output_type": "stream",
     "text": [
      "chunk:  29%|██▉       | 32/111 [00:00<00:00, 263.05it/s, now=None]"
     ]
    },
    {
     "name": "stdout",
     "output_type": "stream",
     "text": [
      "Moviepy - Building video ../data/5s_clips_40000/000319.mp4.\n",
      "MoviePy - Writing audio in %s\n"
     ]
    },
    {
     "name": "stderr",
     "output_type": "stream",
     "text": [
      "t:  47%|████▋     | 47/100 [00:00<00:00, 461.54it/s, now=None]     "
     ]
    },
    {
     "name": "stdout",
     "output_type": "stream",
     "text": [
      "MoviePy - Done.\n",
      "Moviepy - Writing video ../data/5s_clips_40000/000319.mp4\n",
      "\n"
     ]
    },
    {
     "name": "stderr",
     "output_type": "stream",
     "text": [
      "chunk:  36%|███▌      | 40/111 [00:00<00:00, 388.20it/s, now=None]"
     ]
    },
    {
     "name": "stdout",
     "output_type": "stream",
     "text": [
      "Moviepy - Done !\n",
      "Moviepy - video ready ../data/5s_clips_40000/000319.mp4\n",
      "Moviepy - Building video ../data/5s_clips_40000/000320.mp4.\n",
      "MoviePy - Writing audio in %s\n"
     ]
    },
    {
     "name": "stderr",
     "output_type": "stream",
     "text": [
      "t:  51%|█████     | 51/100 [00:00<00:00, 507.26it/s, now=None]    "
     ]
    },
    {
     "name": "stdout",
     "output_type": "stream",
     "text": [
      "MoviePy - Done.\n",
      "Moviepy - Writing video ../data/5s_clips_40000/000320.mp4\n",
      "\n"
     ]
    },
    {
     "name": "stderr",
     "output_type": "stream",
     "text": [
      "                                                              \r"
     ]
    },
    {
     "name": "stdout",
     "output_type": "stream",
     "text": [
      "Moviepy - Done !\n",
      "Moviepy - video ready ../data/5s_clips_40000/000320.mp4\n",
      "-MfaG0whPJc succeed.\n",
      "-MfaG0whPJc deleted.\n",
      "----- finished ------\n",
      "----- executing ------\n",
      "['-MtYGIr-o08', 50, 60]\n"
     ]
    },
    {
     "name": "stderr",
     "output_type": "stream",
     "text": [
      "chunk:  29%|██▉       | 32/111 [00:00<00:00, 224.22it/s, now=None]"
     ]
    },
    {
     "name": "stdout",
     "output_type": "stream",
     "text": [
      "Moviepy - Building video ../data/5s_clips_40000/000321.mp4.\n",
      "MoviePy - Writing audio in %s\n"
     ]
    },
    {
     "name": "stderr",
     "output_type": "stream",
     "text": [
      "t:  12%|█▏        | 14/120 [00:00<00:00, 117.43it/s, now=None]    "
     ]
    },
    {
     "name": "stdout",
     "output_type": "stream",
     "text": [
      "MoviePy - Done.\n",
      "Moviepy - Writing video ../data/5s_clips_40000/000321.mp4\n",
      "\n"
     ]
    },
    {
     "name": "stderr",
     "output_type": "stream",
     "text": [
      "chunk:  32%|███▏      | 35/111 [00:00<00:00, 348.64it/s, now=None]"
     ]
    },
    {
     "name": "stdout",
     "output_type": "stream",
     "text": [
      "Moviepy - Done !\n",
      "Moviepy - video ready ../data/5s_clips_40000/000321.mp4\n",
      "Moviepy - Building video ../data/5s_clips_40000/000322.mp4.\n",
      "MoviePy - Writing audio in %s\n"
     ]
    },
    {
     "name": "stderr",
     "output_type": "stream",
     "text": [
      "t:  11%|█         | 13/120 [00:00<00:00, 119.72it/s, now=None]    "
     ]
    },
    {
     "name": "stdout",
     "output_type": "stream",
     "text": [
      "MoviePy - Done.\n",
      "Moviepy - Writing video ../data/5s_clips_40000/000322.mp4\n",
      "\n"
     ]
    },
    {
     "name": "stderr",
     "output_type": "stream",
     "text": [
      "                                                              \r"
     ]
    },
    {
     "name": "stdout",
     "output_type": "stream",
     "text": [
      "Moviepy - Done !\n",
      "Moviepy - video ready ../data/5s_clips_40000/000322.mp4\n",
      "-MtYGIr-o08 succeed.\n",
      "-MtYGIr-o08 deleted.\n",
      "----- finished ------\n",
      "----- executing ------\n",
      "['-Mu1AWT_x54', 320, 330]\n"
     ]
    },
    {
     "name": "stderr",
     "output_type": "stream",
     "text": [
      "chunk:  29%|██▉       | 32/111 [00:00<00:00, 257.31it/s, now=None]"
     ]
    },
    {
     "name": "stdout",
     "output_type": "stream",
     "text": [
      "Moviepy - Building video ../data/5s_clips_40000/000323.mp4.\n",
      "MoviePy - Writing audio in %s\n"
     ]
    },
    {
     "name": "stderr",
     "output_type": "stream",
     "text": [
      "                                                                  "
     ]
    },
    {
     "name": "stdout",
     "output_type": "stream",
     "text": [
      "MoviePy - Done.\n",
      "Moviepy - Writing video ../data/5s_clips_40000/000323.mp4\n",
      "\n",
      "Moviepy - Done !\n",
      "Moviepy - video ready ../data/5s_clips_40000/000323.mp4\n",
      "Moviepy - Building video ../data/5s_clips_40000/000324.mp4.\n",
      "MoviePy - Writing audio in %s\n"
     ]
    },
    {
     "name": "stderr",
     "output_type": "stream",
     "text": [
      "t:  50%|█████     | 75/150 [00:00<00:00, 745.58it/s, now=None]     "
     ]
    },
    {
     "name": "stdout",
     "output_type": "stream",
     "text": [
      "MoviePy - Done.\n",
      "Moviepy - Writing video ../data/5s_clips_40000/000324.mp4\n",
      "\n"
     ]
    },
    {
     "name": "stderr",
     "output_type": "stream",
     "text": [
      "                                                              \r"
     ]
    },
    {
     "name": "stdout",
     "output_type": "stream",
     "text": [
      "Moviepy - Done !\n",
      "Moviepy - video ready ../data/5s_clips_40000/000324.mp4\n",
      "-Mu1AWT_x54 succeed.\n",
      "-Mu1AWT_x54 deleted.\n",
      "----- finished ------\n",
      "----- executing ------\n",
      "['-N2reaP4SoI', 30, 40]\n"
     ]
    },
    {
     "name": "stderr",
     "output_type": "stream",
     "text": [
      "chunk:  29%|██▉       | 32/111 [00:00<00:00, 246.59it/s, now=None]"
     ]
    },
    {
     "name": "stdout",
     "output_type": "stream",
     "text": [
      "Moviepy - Building video ../data/5s_clips_40000/000325.mp4.\n",
      "MoviePy - Writing audio in %s\n"
     ]
    },
    {
     "name": "stderr",
     "output_type": "stream",
     "text": [
      "                                                                  "
     ]
    },
    {
     "name": "stdout",
     "output_type": "stream",
     "text": [
      "MoviePy - Done.\n",
      "Moviepy - Writing video ../data/5s_clips_40000/000325.mp4\n",
      "\n",
      "Moviepy - Done !\n",
      "Moviepy - video ready ../data/5s_clips_40000/000325.mp4\n",
      "Moviepy - Building video ../data/5s_clips_40000/000326.mp4.\n",
      "MoviePy - Writing audio in %s\n"
     ]
    },
    {
     "name": "stderr",
     "output_type": "stream",
     "text": [
      "t:  63%|██████▎   | 94/150 [00:00<00:00, 939.36it/s, now=None]     "
     ]
    },
    {
     "name": "stdout",
     "output_type": "stream",
     "text": [
      "MoviePy - Done.\n",
      "Moviepy - Writing video ../data/5s_clips_40000/000326.mp4\n",
      "\n"
     ]
    },
    {
     "name": "stderr",
     "output_type": "stream",
     "text": [
      "                                                              \r"
     ]
    },
    {
     "name": "stdout",
     "output_type": "stream",
     "text": [
      "Moviepy - Done !\n",
      "Moviepy - video ready ../data/5s_clips_40000/000326.mp4\n",
      "-N2reaP4SoI succeed.\n",
      "-N2reaP4SoI deleted.\n",
      "----- finished ------\n",
      "----- executing ------\n",
      "['-NC5li0b4eY', 30, 40]\n"
     ]
    },
    {
     "name": "stderr",
     "output_type": "stream",
     "text": [
      "chunk:  29%|██▉       | 32/111 [00:00<00:00, 223.11it/s, now=None]"
     ]
    },
    {
     "name": "stdout",
     "output_type": "stream",
     "text": [
      "Moviepy - Building video ../data/5s_clips_40000/000327.mp4.\n",
      "MoviePy - Writing audio in %s\n"
     ]
    },
    {
     "name": "stderr",
     "output_type": "stream",
     "text": [
      "t:   9%|▊         | 13/150 [00:00<00:01, 118.75it/s, now=None]     "
     ]
    },
    {
     "name": "stdout",
     "output_type": "stream",
     "text": [
      "MoviePy - Done.\n",
      "Moviepy - Writing video ../data/5s_clips_40000/000327.mp4\n",
      "\n"
     ]
    },
    {
     "name": "stderr",
     "output_type": "stream",
     "text": [
      "chunk:  34%|███▍      | 38/111 [00:00<00:00, 361.07it/s, now=None]"
     ]
    },
    {
     "name": "stdout",
     "output_type": "stream",
     "text": [
      "Moviepy - Done !\n",
      "Moviepy - video ready ../data/5s_clips_40000/000327.mp4\n",
      "Moviepy - Building video ../data/5s_clips_40000/000328.mp4.\n",
      "MoviePy - Writing audio in %s\n"
     ]
    },
    {
     "name": "stderr",
     "output_type": "stream",
     "text": [
      "t:  11%|█         | 16/150 [00:00<00:00, 150.43it/s, now=None]     "
     ]
    },
    {
     "name": "stdout",
     "output_type": "stream",
     "text": [
      "MoviePy - Done.\n",
      "Moviepy - Writing video ../data/5s_clips_40000/000328.mp4\n",
      "\n"
     ]
    },
    {
     "name": "stderr",
     "output_type": "stream",
     "text": [
      "                                                               \r"
     ]
    },
    {
     "name": "stdout",
     "output_type": "stream",
     "text": [
      "Moviepy - Done !\n",
      "Moviepy - video ready ../data/5s_clips_40000/000328.mp4\n",
      "-NC5li0b4eY succeed.\n",
      "-NC5li0b4eY deleted.\n",
      "----- finished ------\n",
      "----- executing ------\n",
      "['-NNjOlPg0y0', 0, 5]\n"
     ]
    },
    {
     "name": "stderr",
     "output_type": "stream",
     "text": [
      "chunk:  38%|███▊      | 42/111 [00:00<00:00, 415.62it/s, now=None]"
     ]
    },
    {
     "name": "stdout",
     "output_type": "stream",
     "text": [
      "Moviepy - Building video ../data/5s_clips_40000/000329.mp4.\n",
      "MoviePy - Writing audio in %s\n"
     ]
    },
    {
     "name": "stderr",
     "output_type": "stream",
     "text": [
      "                                                                  \r"
     ]
    },
    {
     "name": "stdout",
     "output_type": "stream",
     "text": [
      "-NNjOlPg0y0 failed.\n",
      "-NNjOlPg0y0 deleted.\n",
      "----- finished ------\n",
      "----- executing ------\n",
      "['-NPqCu4DyAM', 30, 40]\n"
     ]
    },
    {
     "name": "stderr",
     "output_type": "stream",
     "text": [
      "chunk:   2%|▏         | 2/111 [00:00<00:06, 17.73it/s, now=None]"
     ]
    },
    {
     "name": "stdout",
     "output_type": "stream",
     "text": [
      "Moviepy - Building video ../data/5s_clips_40000/000329.mp4.\n",
      "MoviePy - Writing audio in %s\n"
     ]
    },
    {
     "name": "stderr",
     "output_type": "stream",
     "text": [
      "t:  43%|████▎     | 13/30 [00:00<00:00, 122.58it/s, now=None]    "
     ]
    },
    {
     "name": "stdout",
     "output_type": "stream",
     "text": [
      "MoviePy - Done.\n",
      "Moviepy - Writing video ../data/5s_clips_40000/000329.mp4\n",
      "\n"
     ]
    },
    {
     "name": "stderr",
     "output_type": "stream",
     "text": [
      "chunk:  31%|███       | 34/111 [00:00<00:00, 338.44it/s, now=None]"
     ]
    },
    {
     "name": "stdout",
     "output_type": "stream",
     "text": [
      "Moviepy - Done !\n",
      "Moviepy - video ready ../data/5s_clips_40000/000329.mp4\n",
      "Moviepy - Building video ../data/5s_clips_40000/000330.mp4.\n",
      "MoviePy - Writing audio in %s\n"
     ]
    },
    {
     "name": "stderr",
     "output_type": "stream",
     "text": [
      "t:  47%|████▋     | 14/30 [00:00<00:00, 136.56it/s, now=None]     "
     ]
    },
    {
     "name": "stdout",
     "output_type": "stream",
     "text": [
      "MoviePy - Done.\n",
      "Moviepy - Writing video ../data/5s_clips_40000/000330.mp4\n",
      "\n"
     ]
    },
    {
     "name": "stderr",
     "output_type": "stream",
     "text": [
      "                                                             \r"
     ]
    },
    {
     "name": "stdout",
     "output_type": "stream",
     "text": [
      "Moviepy - Done !\n",
      "Moviepy - video ready ../data/5s_clips_40000/000330.mp4\n",
      "-NPqCu4DyAM succeed.\n",
      "-NPqCu4DyAM deleted.\n",
      "----- finished ------\n",
      "----- executing ------\n",
      "['-N_vl1d7TFA', 30, 40]\n"
     ]
    },
    {
     "name": "stderr",
     "output_type": "stream",
     "text": [
      "chunk:  29%|██▉       | 32/111 [00:00<00:00, 251.64it/s, now=None]"
     ]
    },
    {
     "name": "stdout",
     "output_type": "stream",
     "text": [
      "Moviepy - Building video ../data/5s_clips_40000/000331.mp4.\n",
      "MoviePy - Writing audio in %s\n"
     ]
    },
    {
     "name": "stderr",
     "output_type": "stream",
     "text": [
      "t:   9%|▉         | 14/150 [00:00<00:01, 125.32it/s, now=None]     "
     ]
    },
    {
     "name": "stdout",
     "output_type": "stream",
     "text": [
      "MoviePy - Done.\n",
      "Moviepy - Writing video ../data/5s_clips_40000/000331.mp4\n",
      "\n"
     ]
    },
    {
     "name": "stderr",
     "output_type": "stream",
     "text": [
      "chunk:  29%|██▉       | 32/111 [00:00<00:00, 295.65it/s, now=None]"
     ]
    },
    {
     "name": "stdout",
     "output_type": "stream",
     "text": [
      "Moviepy - Done !\n",
      "Moviepy - video ready ../data/5s_clips_40000/000331.mp4\n",
      "Moviepy - Building video ../data/5s_clips_40000/000332.mp4.\n",
      "MoviePy - Writing audio in %s\n"
     ]
    },
    {
     "name": "stderr",
     "output_type": "stream",
     "text": [
      "t:   9%|▉         | 14/150 [00:00<00:00, 136.89it/s, now=None]     "
     ]
    },
    {
     "name": "stdout",
     "output_type": "stream",
     "text": [
      "MoviePy - Done.\n",
      "Moviepy - Writing video ../data/5s_clips_40000/000332.mp4\n",
      "\n"
     ]
    },
    {
     "name": "stderr",
     "output_type": "stream",
     "text": [
      "                                                               \r"
     ]
    },
    {
     "name": "stdout",
     "output_type": "stream",
     "text": [
      "Moviepy - Done !\n",
      "Moviepy - video ready ../data/5s_clips_40000/000332.mp4\n",
      "-N_vl1d7TFA succeed.\n",
      "-N_vl1d7TFA deleted.\n",
      "----- finished ------\n",
      "----- executing ------\n",
      "['-NmjCyqIavI', 30, 40]\n"
     ]
    },
    {
     "name": "stderr",
     "output_type": "stream",
     "text": [
      "chunk:  31%|███       | 34/111 [00:00<00:00, 330.49it/s, now=None]"
     ]
    },
    {
     "name": "stdout",
     "output_type": "stream",
     "text": [
      "Moviepy - Building video ../data/5s_clips_40000/000333.mp4.\n",
      "MoviePy - Writing audio in %s\n"
     ]
    },
    {
     "name": "stderr",
     "output_type": "stream",
     "text": [
      "chunk:   0%|          | 0/111 [00:00<?, ?it/s, now=None]          "
     ]
    },
    {
     "name": "stdout",
     "output_type": "stream",
     "text": [
      "MoviePy - Done.\n",
      "Moviepy - Writing video ../data/5s_clips_40000/000333.mp4\n",
      "\n",
      "Moviepy - Done !\n",
      "Moviepy - video ready ../data/5s_clips_40000/000333.mp4\n",
      "Moviepy - Building video ../data/5s_clips_40000/000334.mp4.\n",
      "MoviePy - Writing audio in %s\n"
     ]
    },
    {
     "name": "stderr",
     "output_type": "stream",
     "text": [
      "                                                                   \r"
     ]
    },
    {
     "name": "stdout",
     "output_type": "stream",
     "text": [
      "MoviePy - Done.\n",
      "Moviepy - Writing video ../data/5s_clips_40000/000334.mp4\n",
      "\n",
      "Moviepy - Done !\n",
      "Moviepy - video ready ../data/5s_clips_40000/000334.mp4\n",
      "-NmjCyqIavI succeed.\n",
      "-NmjCyqIavI deleted.\n",
      "----- finished ------\n",
      "----- executing ------\n",
      "['-NutOdeXH8s', 50, 60]\n"
     ]
    },
    {
     "name": "stderr",
     "output_type": "stream",
     "text": [
      "chunk:  29%|██▉       | 32/111 [00:00<00:00, 254.60it/s, now=None]"
     ]
    },
    {
     "name": "stdout",
     "output_type": "stream",
     "text": [
      "Moviepy - Building video ../data/5s_clips_40000/000335.mp4.\n",
      "MoviePy - Writing audio in %s\n"
     ]
    },
    {
     "name": "stderr",
     "output_type": "stream",
     "text": [
      "t:  29%|██▊       | 43/150 [00:00<00:00, 428.94it/s, now=None]    "
     ]
    },
    {
     "name": "stdout",
     "output_type": "stream",
     "text": [
      "MoviePy - Done.\n",
      "Moviepy - Writing video ../data/5s_clips_40000/000335.mp4\n",
      "\n"
     ]
    },
    {
     "name": "stderr",
     "output_type": "stream",
     "text": [
      "chunk:  45%|████▌     | 50/111 [00:00<00:00, 490.45it/s, now=None]"
     ]
    },
    {
     "name": "stdout",
     "output_type": "stream",
     "text": [
      "Moviepy - Done !\n",
      "Moviepy - video ready ../data/5s_clips_40000/000335.mp4\n",
      "Moviepy - Building video ../data/5s_clips_40000/000336.mp4.\n",
      "MoviePy - Writing audio in %s\n"
     ]
    },
    {
     "name": "stderr",
     "output_type": "stream",
     "text": [
      "t:  30%|███       | 45/150 [00:00<00:00, 439.64it/s, now=None]    "
     ]
    },
    {
     "name": "stdout",
     "output_type": "stream",
     "text": [
      "MoviePy - Done.\n",
      "Moviepy - Writing video ../data/5s_clips_40000/000336.mp4\n",
      "\n"
     ]
    },
    {
     "name": "stderr",
     "output_type": "stream",
     "text": [
      "                                                               \r"
     ]
    },
    {
     "name": "stdout",
     "output_type": "stream",
     "text": [
      "Moviepy - Done !\n",
      "Moviepy - video ready ../data/5s_clips_40000/000336.mp4\n",
      "-NutOdeXH8s succeed.\n",
      "-NutOdeXH8s deleted.\n",
      "----- finished ------\n",
      "----- executing ------\n",
      "['-NwuLeOWpLk', 420, 430]\n"
     ]
    },
    {
     "name": "stderr",
     "output_type": "stream",
     "text": [
      "chunk:  29%|██▉       | 32/111 [00:00<00:00, 212.90it/s, now=None]"
     ]
    },
    {
     "name": "stdout",
     "output_type": "stream",
     "text": [
      "Moviepy - Building video ../data/5s_clips_40000/000337.mp4.\n",
      "MoviePy - Writing audio in %s\n"
     ]
    },
    {
     "name": "stderr",
     "output_type": "stream",
     "text": [
      "t:   9%|▉         | 14/150 [00:00<00:01, 131.61it/s, now=None]    "
     ]
    },
    {
     "name": "stdout",
     "output_type": "stream",
     "text": [
      "MoviePy - Done.\n",
      "Moviepy - Writing video ../data/5s_clips_40000/000337.mp4\n",
      "\n"
     ]
    },
    {
     "name": "stderr",
     "output_type": "stream",
     "text": [
      "chunk:  33%|███▎      | 37/111 [00:00<00:00, 368.65it/s, now=None]"
     ]
    },
    {
     "name": "stdout",
     "output_type": "stream",
     "text": [
      "Moviepy - Done !\n",
      "Moviepy - video ready ../data/5s_clips_40000/000337.mp4\n",
      "Moviepy - Building video ../data/5s_clips_40000/000338.mp4.\n",
      "MoviePy - Writing audio in %s\n"
     ]
    },
    {
     "name": "stderr",
     "output_type": "stream",
     "text": [
      "t:  10%|█         | 15/150 [00:00<00:00, 139.73it/s, now=None]     "
     ]
    },
    {
     "name": "stdout",
     "output_type": "stream",
     "text": [
      "MoviePy - Done.\n",
      "Moviepy - Writing video ../data/5s_clips_40000/000338.mp4\n",
      "\n"
     ]
    },
    {
     "name": "stderr",
     "output_type": "stream",
     "text": [
      "                                                               \r"
     ]
    },
    {
     "name": "stdout",
     "output_type": "stream",
     "text": [
      "Moviepy - Done !\n",
      "Moviepy - video ready ../data/5s_clips_40000/000338.mp4\n",
      "-NwuLeOWpLk succeed.\n",
      "-NwuLeOWpLk deleted.\n",
      "----- finished ------\n",
      "----- executing ------\n",
      "['-O842QWtymw', 0, 6]\n"
     ]
    },
    {
     "name": "stderr",
     "output_type": "stream",
     "text": [
      "chunk:  29%|██▉       | 32/111 [00:00<00:00, 299.57it/s, now=None]"
     ]
    },
    {
     "name": "stdout",
     "output_type": "stream",
     "text": [
      "Moviepy - Building video ../data/5s_clips_40000/000339.mp4.\n",
      "MoviePy - Writing audio in %s\n"
     ]
    },
    {
     "name": "stderr",
     "output_type": "stream",
     "text": [
      "t:  29%|██▉       | 44/150 [00:00<00:00, 432.83it/s, now=None]    "
     ]
    },
    {
     "name": "stdout",
     "output_type": "stream",
     "text": [
      "MoviePy - Done.\n",
      "Moviepy - Writing video ../data/5s_clips_40000/000339.mp4\n",
      "\n"
     ]
    },
    {
     "name": "stderr",
     "output_type": "stream",
     "text": [
      "                                                               \r"
     ]
    },
    {
     "name": "stdout",
     "output_type": "stream",
     "text": [
      "Moviepy - Done !\n",
      "Moviepy - video ready ../data/5s_clips_40000/000339.mp4\n",
      "-O842QWtymw succeed.\n",
      "-O842QWtymw deleted.\n",
      "----- finished ------\n",
      "----- executing ------\n",
      "['-O9mnfC61Ac', 0, 10]\n"
     ]
    },
    {
     "name": "stderr",
     "output_type": "stream",
     "text": [
      "chunk:  38%|███▊      | 42/111 [00:00<00:00, 407.57it/s, now=None]"
     ]
    },
    {
     "name": "stdout",
     "output_type": "stream",
     "text": [
      "Moviepy - Building video ../data/5s_clips_40000/000340.mp4.\n",
      "MoviePy - Writing audio in %s\n"
     ]
    },
    {
     "name": "stderr",
     "output_type": "stream",
     "text": [
      "t:  30%|███       | 45/150 [00:00<00:00, 449.52it/s, now=None]    "
     ]
    },
    {
     "name": "stdout",
     "output_type": "stream",
     "text": [
      "MoviePy - Done.\n",
      "Moviepy - Writing video ../data/5s_clips_40000/000340.mp4\n",
      "\n"
     ]
    },
    {
     "name": "stderr",
     "output_type": "stream",
     "text": [
      "chunk:  34%|███▍      | 38/111 [00:00<00:00, 373.50it/s, now=None]"
     ]
    },
    {
     "name": "stdout",
     "output_type": "stream",
     "text": [
      "Moviepy - Done !\n",
      "Moviepy - video ready ../data/5s_clips_40000/000340.mp4\n",
      "Moviepy - Building video ../data/5s_clips_40000/000341.mp4.\n",
      "MoviePy - Writing audio in %s\n"
     ]
    },
    {
     "name": "stderr",
     "output_type": "stream",
     "text": [
      "t:  39%|███▊      | 58/150 [00:00<00:00, 574.31it/s, now=None]     "
     ]
    },
    {
     "name": "stdout",
     "output_type": "stream",
     "text": [
      "MoviePy - Done.\n",
      "Moviepy - Writing video ../data/5s_clips_40000/000341.mp4\n",
      "\n"
     ]
    },
    {
     "name": "stderr",
     "output_type": "stream",
     "text": [
      "                                                               \r"
     ]
    },
    {
     "name": "stdout",
     "output_type": "stream",
     "text": [
      "Moviepy - Done !\n",
      "Moviepy - video ready ../data/5s_clips_40000/000341.mp4\n",
      "-O9mnfC61Ac succeed.\n",
      "-O9mnfC61Ac deleted.\n",
      "----- finished ------\n",
      "----- executing ------\n",
      "['-ODqYMQFwsY', 30, 40]\n"
     ]
    },
    {
     "name": "stderr",
     "output_type": "stream",
     "text": [
      "chunk:  29%|██▉       | 32/111 [00:00<00:00, 241.59it/s, now=None]"
     ]
    },
    {
     "name": "stdout",
     "output_type": "stream",
     "text": [
      "Moviepy - Building video ../data/5s_clips_40000/000342.mp4.\n",
      "MoviePy - Writing audio in %s\n"
     ]
    },
    {
     "name": "stderr",
     "output_type": "stream",
     "text": [
      "t:  29%|██▉       | 44/150 [00:00<00:00, 436.81it/s, now=None]     "
     ]
    },
    {
     "name": "stdout",
     "output_type": "stream",
     "text": [
      "MoviePy - Done.\n",
      "Moviepy - Writing video ../data/5s_clips_40000/000342.mp4\n",
      "\n"
     ]
    },
    {
     "name": "stderr",
     "output_type": "stream",
     "text": [
      "chunk:  38%|███▊      | 42/111 [00:00<00:00, 416.42it/s, now=None]"
     ]
    },
    {
     "name": "stdout",
     "output_type": "stream",
     "text": [
      "Moviepy - Done !\n",
      "Moviepy - video ready ../data/5s_clips_40000/000342.mp4\n",
      "Moviepy - Building video ../data/5s_clips_40000/000343.mp4.\n",
      "MoviePy - Writing audio in %s\n"
     ]
    },
    {
     "name": "stderr",
     "output_type": "stream",
     "text": [
      "t:  25%|██▌       | 38/150 [00:00<00:00, 378.14it/s, now=None]     "
     ]
    },
    {
     "name": "stdout",
     "output_type": "stream",
     "text": [
      "MoviePy - Done.\n",
      "Moviepy - Writing video ../data/5s_clips_40000/000343.mp4\n",
      "\n"
     ]
    },
    {
     "name": "stderr",
     "output_type": "stream",
     "text": [
      "                                                               \r"
     ]
    },
    {
     "name": "stdout",
     "output_type": "stream",
     "text": [
      "Moviepy - Done !\n",
      "Moviepy - video ready ../data/5s_clips_40000/000343.mp4\n",
      "-ODqYMQFwsY succeed.\n",
      "-ODqYMQFwsY deleted.\n",
      "----- finished ------\n",
      "----- executing ------\n",
      "['-ODzHayGHvk', 50, 60]\n"
     ]
    },
    {
     "name": "stderr",
     "output_type": "stream",
     "text": [
      "chunk:  29%|██▉       | 32/111 [00:00<00:00, 237.07it/s, now=None]"
     ]
    },
    {
     "name": "stdout",
     "output_type": "stream",
     "text": [
      "Moviepy - Building video ../data/5s_clips_40000/000344.mp4.\n",
      "MoviePy - Writing audio in %s\n"
     ]
    },
    {
     "name": "stderr",
     "output_type": "stream",
     "text": [
      "t:  36%|███▌      | 54/150 [00:00<00:00, 538.23it/s, now=None]    "
     ]
    },
    {
     "name": "stdout",
     "output_type": "stream",
     "text": [
      "MoviePy - Done.\n",
      "Moviepy - Writing video ../data/5s_clips_40000/000344.mp4\n",
      "\n"
     ]
    },
    {
     "name": "stderr",
     "output_type": "stream",
     "text": [
      "chunk:  47%|████▋     | 52/111 [00:00<00:00, 510.09it/s, now=None]"
     ]
    },
    {
     "name": "stdout",
     "output_type": "stream",
     "text": [
      "Moviepy - Done !\n",
      "Moviepy - video ready ../data/5s_clips_40000/000344.mp4\n",
      "Moviepy - Building video ../data/5s_clips_40000/000345.mp4.\n",
      "MoviePy - Writing audio in %s\n"
     ]
    },
    {
     "name": "stderr",
     "output_type": "stream",
     "text": [
      "t:  29%|██▉       | 44/150 [00:00<00:00, 431.38it/s, now=None]     "
     ]
    },
    {
     "name": "stdout",
     "output_type": "stream",
     "text": [
      "MoviePy - Done.\n",
      "Moviepy - Writing video ../data/5s_clips_40000/000345.mp4\n",
      "\n"
     ]
    },
    {
     "name": "stderr",
     "output_type": "stream",
     "text": [
      "                                                               \r"
     ]
    },
    {
     "name": "stdout",
     "output_type": "stream",
     "text": [
      "Moviepy - Done !\n",
      "Moviepy - video ready ../data/5s_clips_40000/000345.mp4\n",
      "-ODzHayGHvk succeed.\n",
      "-ODzHayGHvk deleted.\n",
      "----- finished ------\n",
      "----- executing ------\n",
      "['-OIGA3xjYyQ', 0, 10]\n"
     ]
    },
    {
     "name": "stderr",
     "output_type": "stream",
     "text": [
      "chunk:  49%|████▊     | 54/111 [00:00<00:00, 530.54it/s, now=None]"
     ]
    },
    {
     "name": "stdout",
     "output_type": "stream",
     "text": [
      "Moviepy - Building video ../data/5s_clips_40000/000346.mp4.\n",
      "MoviePy - Writing audio in %s\n"
     ]
    },
    {
     "name": "stderr",
     "output_type": "stream",
     "text": [
      "t:  26%|██▌       | 39/150 [00:00<00:00, 385.88it/s, now=None]     "
     ]
    },
    {
     "name": "stdout",
     "output_type": "stream",
     "text": [
      "MoviePy - Done.\n",
      "Moviepy - Writing video ../data/5s_clips_40000/000346.mp4\n",
      "\n"
     ]
    },
    {
     "name": "stderr",
     "output_type": "stream",
     "text": [
      "chunk:  47%|████▋     | 52/111 [00:00<00:00, 501.57it/s, now=None]"
     ]
    },
    {
     "name": "stdout",
     "output_type": "stream",
     "text": [
      "Moviepy - Done !\n",
      "Moviepy - video ready ../data/5s_clips_40000/000346.mp4\n",
      "Moviepy - Building video ../data/5s_clips_40000/000347.mp4.\n",
      "MoviePy - Writing audio in %s\n"
     ]
    },
    {
     "name": "stderr",
     "output_type": "stream",
     "text": [
      "t:  28%|██▊       | 42/150 [00:00<00:00, 412.67it/s, now=None]     "
     ]
    },
    {
     "name": "stdout",
     "output_type": "stream",
     "text": [
      "MoviePy - Done.\n",
      "Moviepy - Writing video ../data/5s_clips_40000/000347.mp4\n",
      "\n"
     ]
    },
    {
     "name": "stderr",
     "output_type": "stream",
     "text": [
      "                                                               \r"
     ]
    },
    {
     "name": "stdout",
     "output_type": "stream",
     "text": [
      "Moviepy - Done !\n",
      "Moviepy - video ready ../data/5s_clips_40000/000347.mp4\n",
      "-OIGA3xjYyQ succeed.\n",
      "-OIGA3xjYyQ deleted.\n",
      "----- finished ------\n",
      "----- executing ------\n",
      "['-OYfLX-2kmU', 30, 40]\n"
     ]
    }
   ],
   "source": [
    "generateAudioSet(\"../resources/balanced_train_segments.csv\", \"../data/videos\", \"../data/5s_clips_40000\")\n",
    "gc.collect()"
   ]
  }
 ],
 "metadata": {
  "kernelspec": {
   "display_name": "Python 3",
   "language": "python",
   "name": "python3"
  },
  "language_info": {
   "codemirror_mode": {
    "name": "ipython",
    "version": 3
   },
   "file_extension": ".py",
   "mimetype": "text/x-python",
   "name": "python",
   "nbconvert_exporter": "python",
   "pygments_lexer": "ipython3",
   "version": "3.6.5"
  }
 },
 "nbformat": 4,
 "nbformat_minor": 2
}
